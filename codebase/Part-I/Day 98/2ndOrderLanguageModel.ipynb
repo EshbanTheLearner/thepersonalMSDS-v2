{
  "nbformat": 4,
  "nbformat_minor": 0,
  "metadata": {
    "colab": {
      "name": "2ndOrderLanguageModel.ipynb",
      "provenance": [],
      "collapsed_sections": []
    },
    "kernelspec": {
      "name": "python3",
      "display_name": "Python 3"
    }
  },
  "cells": [
    {
      "cell_type": "code",
      "metadata": {
        "id": "NAPqu3-uPrXD",
        "colab_type": "code",
        "colab": {}
      },
      "source": [
        "import pandas as pd\n",
        "import numpy as np"
      ],
      "execution_count": 0,
      "outputs": []
    },
    {
      "cell_type": "code",
      "metadata": {
        "id": "R1ykEHY8P0BN",
        "colab_type": "code",
        "colab": {}
      },
      "source": [
        "PATH = \"/content/drive/My Drive/\"\n",
        "data = pd.read_csv(PATH + \"eminem_songs.csv\")"
      ],
      "execution_count": 0,
      "outputs": []
    },
    {
      "cell_type": "code",
      "metadata": {
        "id": "sTxknx0gP-Hs",
        "colab_type": "code",
        "colab": {
          "base_uri": "https://localhost:8080/",
          "height": 35
        },
        "outputId": "42431080-e6b2-4167-f0bc-f4ee7a44905e"
      },
      "source": [
        "data.shape"
      ],
      "execution_count": 3,
      "outputs": [
        {
          "output_type": "execute_result",
          "data": {
            "text/plain": [
              "(70, 3)"
            ]
          },
          "metadata": {
            "tags": []
          },
          "execution_count": 3
        }
      ]
    },
    {
      "cell_type": "code",
      "metadata": {
        "id": "6nSsKIMdP_i2",
        "colab_type": "code",
        "colab": {
          "base_uri": "https://localhost:8080/",
          "height": 204
        },
        "outputId": "306aae4f-affa-47bd-f0b1-5cbff781bfd7"
      },
      "source": [
        "data.head()"
      ],
      "execution_count": 4,
      "outputs": [
        {
          "output_type": "execute_result",
          "data": {
            "text/html": [
              "<div>\n",
              "<style scoped>\n",
              "    .dataframe tbody tr th:only-of-type {\n",
              "        vertical-align: middle;\n",
              "    }\n",
              "\n",
              "    .dataframe tbody tr th {\n",
              "        vertical-align: top;\n",
              "    }\n",
              "\n",
              "    .dataframe thead th {\n",
              "        text-align: right;\n",
              "    }\n",
              "</style>\n",
              "<table border=\"1\" class=\"dataframe\">\n",
              "  <thead>\n",
              "    <tr style=\"text-align: right;\">\n",
              "      <th></th>\n",
              "      <th>artist</th>\n",
              "      <th>song</th>\n",
              "      <th>text</th>\n",
              "    </tr>\n",
              "  </thead>\n",
              "  <tbody>\n",
              "    <tr>\n",
              "      <th>0</th>\n",
              "      <td>Eminem</td>\n",
              "      <td>25 to Life</td>\n",
              "      <td>Too late for the other side  \\nCaught in a cha...</td>\n",
              "    </tr>\n",
              "    <tr>\n",
              "      <th>1</th>\n",
              "      <td>Eminem</td>\n",
              "      <td>3 A.M.</td>\n",
              "      <td>Oh oh  \\nOh(yea) oh(yea) oh(yea)  \\nOh oh  \\nO...</td>\n",
              "    </tr>\n",
              "    <tr>\n",
              "      <th>2</th>\n",
              "      <td>Eminem</td>\n",
              "      <td>3 Verses</td>\n",
              "      <td>I'm the illest rapper to hold a cordless  \\nPa...</td>\n",
              "    </tr>\n",
              "    <tr>\n",
              "      <th>3</th>\n",
              "      <td>Eminem</td>\n",
              "      <td>Above The Law</td>\n",
              "      <td>[Intro:]  \\nThe poor stay poor, the rich get r...</td>\n",
              "    </tr>\n",
              "    <tr>\n",
              "      <th>4</th>\n",
              "      <td>Eminem</td>\n",
              "      <td>Buffalo Bill</td>\n",
              "      <td>It fits perfect  \\n  \\nBetter watch out sucka ...</td>\n",
              "    </tr>\n",
              "  </tbody>\n",
              "</table>\n",
              "</div>"
            ],
            "text/plain": [
              "   artist           song                                               text\n",
              "0  Eminem     25 to Life  Too late for the other side  \\nCaught in a cha...\n",
              "1  Eminem         3 A.M.  Oh oh  \\nOh(yea) oh(yea) oh(yea)  \\nOh oh  \\nO...\n",
              "2  Eminem       3 Verses  I'm the illest rapper to hold a cordless  \\nPa...\n",
              "3  Eminem  Above The Law  [Intro:]  \\nThe poor stay poor, the rich get r...\n",
              "4  Eminem   Buffalo Bill  It fits perfect  \\n  \\nBetter watch out sucka ..."
            ]
          },
          "metadata": {
            "tags": []
          },
          "execution_count": 4
        }
      ]
    },
    {
      "cell_type": "code",
      "metadata": {
        "id": "DCABQJyzUy9L",
        "colab_type": "code",
        "colab": {}
      },
      "source": [
        "import string\n",
        "def remove_punctuation(s):\n",
        "  return s.translate(str.maketrans('', '', string.punctuation))"
      ],
      "execution_count": 0,
      "outputs": []
    },
    {
      "cell_type": "code",
      "metadata": {
        "id": "M8dbkTt_Z8ly",
        "colab_type": "code",
        "colab": {}
      },
      "source": [
        "def add2dict(d, k, v):\n",
        "  if k not in d:\n",
        "    d[k] = []\n",
        "  d[k].append(v)"
      ],
      "execution_count": 0,
      "outputs": []
    },
    {
      "cell_type": "code",
      "metadata": {
        "id": "uDL5eNRnc2dP",
        "colab_type": "code",
        "colab": {}
      },
      "source": [
        "corpus = data[\"text\"].values.tolist()\n",
        "corpus = \" \".join(corpus)\n",
        "corpus = corpus.lower().split(\"\\n\")"
      ],
      "execution_count": 0,
      "outputs": []
    },
    {
      "cell_type": "code",
      "metadata": {
        "id": "F5sOr2WWc4ng",
        "colab_type": "code",
        "colab": {
          "base_uri": "https://localhost:8080/",
          "height": 35
        },
        "outputId": "bd08b2b2-89df-41b1-baf6-92176645f851"
      },
      "source": [
        "len(corpus)"
      ],
      "execution_count": 8,
      "outputs": [
        {
          "output_type": "execute_result",
          "data": {
            "text/plain": [
              "5160"
            ]
          },
          "metadata": {
            "tags": []
          },
          "execution_count": 8
        }
      ]
    },
    {
      "cell_type": "code",
      "metadata": {
        "id": "CwtMFX1bc7QX",
        "colab_type": "code",
        "colab": {
          "base_uri": "https://localhost:8080/",
          "height": 107
        },
        "outputId": "a353a847-90d5-48c0-e32f-b995f45ac132"
      },
      "source": [
        "corpus[0:5]"
      ],
      "execution_count": 9,
      "outputs": [
        {
          "output_type": "execute_result",
          "data": {
            "text/plain": [
              "['too late for the other side  ',\n",
              " 'caught in a chase  ',\n",
              " 'twenty five to life  ',\n",
              " 'too late for the other side  ',\n",
              " 'caught in a chase  ']"
            ]
          },
          "metadata": {
            "tags": []
          },
          "execution_count": 9
        }
      ]
    },
    {
      "cell_type": "code",
      "metadata": {
        "id": "kL4sF2lcaDYp",
        "colab_type": "code",
        "colab": {}
      },
      "source": [
        "initial = {} # start of a phrase\n",
        "second_word = {}\n",
        "transitions = {}"
      ],
      "execution_count": 0,
      "outputs": []
    },
    {
      "cell_type": "code",
      "metadata": {
        "id": "fCmpLYPjVq6e",
        "colab_type": "code",
        "colab": {}
      },
      "source": [
        "for line in corpus:\n",
        "  tokens = remove_punctuation(line.rstrip().lower()).split()\n",
        "\n",
        "  T = len(tokens)\n",
        "\n",
        "  for i in range(T):\n",
        "    t = tokens[i]\n",
        "    if i==0:\n",
        "      initial[t] = initial.get(t, 0.) + 1\n",
        "    else:\n",
        "      t_1 = tokens[i-1]\n",
        "      if i == T-1:\n",
        "        add2dict(transitions, (t_1, t), 'END')\n",
        "      if i == 1:\n",
        "        add2dict(second_word, t_1, t)\n",
        "      else:\n",
        "        t_2 = tokens[i-2]\n",
        "        add2dict(transitions, (t_2, t_1), t)"
      ],
      "execution_count": 0,
      "outputs": []
    },
    {
      "cell_type": "code",
      "metadata": {
        "id": "NKqnIba9aEdV",
        "colab_type": "code",
        "colab": {}
      },
      "source": [
        "from future.utils import iteritems\n",
        "\n",
        "initial_total = sum(initial.values())\n",
        "\n",
        "for t, c in iteritems(initial):\n",
        "    initial[t] = c / initial_total"
      ],
      "execution_count": 0,
      "outputs": []
    },
    {
      "cell_type": "code",
      "metadata": {
        "id": "xkIwRc3NaNvL",
        "colab_type": "code",
        "colab": {}
      },
      "source": [
        "def list2pdict(ts):\n",
        "  d = {}\n",
        "  n = len(ts)\n",
        "  for t in ts:\n",
        "    d[t] = d.get(t, 0.) + 1\n",
        "  for t, c in iteritems(d):\n",
        "    return d"
      ],
      "execution_count": 0,
      "outputs": []
    },
    {
      "cell_type": "code",
      "metadata": {
        "id": "NxYHxY-Gaqas",
        "colab_type": "code",
        "colab": {}
      },
      "source": [
        "for t_1, ts in iteritems(second_word):\n",
        "  second_word[t_1] = list2pdict(ts)"
      ],
      "execution_count": 0,
      "outputs": []
    },
    {
      "cell_type": "code",
      "metadata": {
        "id": "YiBZ5tv5a2Qx",
        "colab_type": "code",
        "colab": {}
      },
      "source": [
        "for k, ts in iteritems(transitions):\n",
        "  transitions[k] = list2pdict(ts)"
      ],
      "execution_count": 0,
      "outputs": []
    },
    {
      "cell_type": "code",
      "metadata": {
        "id": "iv6Yd0RTa_v9",
        "colab_type": "code",
        "colab": {}
      },
      "source": [
        "def sample_word(d):\n",
        "  p0 = np.random.random()\n",
        "  cumulative = 0\n",
        "  for t, p in iteritems(d):\n",
        "    cumulative += p\n",
        "    if p0 < cumulative:\n",
        "      return t\n",
        "  assert(False)"
      ],
      "execution_count": 0,
      "outputs": []
    },
    {
      "cell_type": "code",
      "metadata": {
        "id": "oKznROqObS4U",
        "colab_type": "code",
        "colab": {}
      },
      "source": [
        "def generate():\n",
        "  for i in range(4):\n",
        "    sentence = []\n",
        "    w0 = sample_word(initial)\n",
        "    sentence.append(w0)\n",
        "    w1 = sample_word(second_word[w0])\n",
        "    sentence.append(w1)\n",
        "    while True:\n",
        "      w2 = sample_word(transitions[(w0, w1)])\n",
        "      if w2 == 'END':\n",
        "        break\n",
        "      sentence.append(w2)\n",
        "      w0 = w1\n",
        "      w1 = w2\n",
        "    print(\" \".join(sentence))"
      ],
      "execution_count": 0,
      "outputs": []
    },
    {
      "cell_type": "code",
      "metadata": {
        "id": "fBYVbbnsb2GI",
        "colab_type": "code",
        "colab": {
          "base_uri": "https://localhost:8080/",
          "height": 89
        },
        "outputId": "17e4e32f-20ff-49fb-e02b-620f18220857"
      },
      "source": [
        "generate()"
      ],
      "execution_count": 32,
      "outputs": [
        {
          "output_type": "stream",
          "text": [
            "but ive already wasted over half of my life back\n",
            "so you better hear me out this much you owe me\n",
            "gave these molecules too\n",
            "too late for the other side\n"
          ],
          "name": "stdout"
        }
      ]
    },
    {
      "cell_type": "code",
      "metadata": {
        "id": "g07ooc10giCW",
        "colab_type": "code",
        "colab": {}
      },
      "source": [
        ""
      ],
      "execution_count": 0,
      "outputs": []
    }
  ]
}