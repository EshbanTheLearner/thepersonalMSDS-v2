{
  "nbformat": 4,
  "nbformat_minor": 0,
  "metadata": {
    "colab": {
      "name": "Calculating_Rate_of_Return.ipynb",
      "provenance": [],
      "collapsed_sections": []
    },
    "kernelspec": {
      "name": "python3",
      "display_name": "Python 3"
    }
  },
  "cells": [
    {
      "cell_type": "code",
      "metadata": {
        "id": "4WHk_10J8XZs",
        "colab_type": "code",
        "colab": {}
      },
      "source": [
        "import numpy as np\n",
        "from pandas_datareader import data as wb\n",
        "import matplotlib.pyplot as plt"
      ],
      "execution_count": 0,
      "outputs": []
    },
    {
      "cell_type": "code",
      "metadata": {
        "id": "5B_ak9wX8qEd",
        "colab_type": "code",
        "colab": {}
      },
      "source": [
        "PG = wb.DataReader('PG', data_source='yahoo', start='1995-1-1')"
      ],
      "execution_count": 0,
      "outputs": []
    },
    {
      "cell_type": "code",
      "metadata": {
        "id": "FFBXj35c9Bwj",
        "colab_type": "code",
        "colab": {
          "base_uri": "https://localhost:8080/",
          "height": 235
        },
        "outputId": "178f4dc2-1d8b-4cad-ee86-168ccc917c1e"
      },
      "source": [
        "PG.head()"
      ],
      "execution_count": 25,
      "outputs": [
        {
          "output_type": "execute_result",
          "data": {
            "text/html": [
              "<div>\n",
              "<style scoped>\n",
              "    .dataframe tbody tr th:only-of-type {\n",
              "        vertical-align: middle;\n",
              "    }\n",
              "\n",
              "    .dataframe tbody tr th {\n",
              "        vertical-align: top;\n",
              "    }\n",
              "\n",
              "    .dataframe thead th {\n",
              "        text-align: right;\n",
              "    }\n",
              "</style>\n",
              "<table border=\"1\" class=\"dataframe\">\n",
              "  <thead>\n",
              "    <tr style=\"text-align: right;\">\n",
              "      <th></th>\n",
              "      <th>High</th>\n",
              "      <th>Low</th>\n",
              "      <th>Open</th>\n",
              "      <th>Close</th>\n",
              "      <th>Volume</th>\n",
              "      <th>Adj Close</th>\n",
              "    </tr>\n",
              "    <tr>\n",
              "      <th>Date</th>\n",
              "      <th></th>\n",
              "      <th></th>\n",
              "      <th></th>\n",
              "      <th></th>\n",
              "      <th></th>\n",
              "      <th></th>\n",
              "    </tr>\n",
              "  </thead>\n",
              "  <tbody>\n",
              "    <tr>\n",
              "      <th>1995-01-03</th>\n",
              "      <td>15.62500</td>\n",
              "      <td>15.43750</td>\n",
              "      <td>15.46875</td>\n",
              "      <td>15.59375</td>\n",
              "      <td>3318400.0</td>\n",
              "      <td>6.362394</td>\n",
              "    </tr>\n",
              "    <tr>\n",
              "      <th>1995-01-04</th>\n",
              "      <td>15.65625</td>\n",
              "      <td>15.31250</td>\n",
              "      <td>15.53125</td>\n",
              "      <td>15.46875</td>\n",
              "      <td>2218800.0</td>\n",
              "      <td>6.311395</td>\n",
              "    </tr>\n",
              "    <tr>\n",
              "      <th>1995-01-05</th>\n",
              "      <td>15.43750</td>\n",
              "      <td>15.21875</td>\n",
              "      <td>15.37500</td>\n",
              "      <td>15.25000</td>\n",
              "      <td>2319600.0</td>\n",
              "      <td>6.222139</td>\n",
              "    </tr>\n",
              "    <tr>\n",
              "      <th>1995-01-06</th>\n",
              "      <td>15.40625</td>\n",
              "      <td>15.15625</td>\n",
              "      <td>15.15625</td>\n",
              "      <td>15.28125</td>\n",
              "      <td>3438000.0</td>\n",
              "      <td>6.234891</td>\n",
              "    </tr>\n",
              "    <tr>\n",
              "      <th>1995-01-09</th>\n",
              "      <td>15.40625</td>\n",
              "      <td>15.18750</td>\n",
              "      <td>15.34375</td>\n",
              "      <td>15.21875</td>\n",
              "      <td>1795200.0</td>\n",
              "      <td>6.209391</td>\n",
              "    </tr>\n",
              "  </tbody>\n",
              "</table>\n",
              "</div>"
            ],
            "text/plain": [
              "                High       Low      Open     Close     Volume  Adj Close\n",
              "Date                                                                    \n",
              "1995-01-03  15.62500  15.43750  15.46875  15.59375  3318400.0   6.362394\n",
              "1995-01-04  15.65625  15.31250  15.53125  15.46875  2218800.0   6.311395\n",
              "1995-01-05  15.43750  15.21875  15.37500  15.25000  2319600.0   6.222139\n",
              "1995-01-06  15.40625  15.15625  15.15625  15.28125  3438000.0   6.234891\n",
              "1995-01-09  15.40625  15.18750  15.34375  15.21875  1795200.0   6.209391"
            ]
          },
          "metadata": {
            "tags": []
          },
          "execution_count": 25
        }
      ]
    },
    {
      "cell_type": "code",
      "metadata": {
        "id": "14iftxVx9Egy",
        "colab_type": "code",
        "colab": {
          "base_uri": "https://localhost:8080/",
          "height": 235
        },
        "outputId": "679eca4a-5f79-41a9-9acb-4de80f118bad"
      },
      "source": [
        "PG.tail()"
      ],
      "execution_count": 26,
      "outputs": [
        {
          "output_type": "execute_result",
          "data": {
            "text/html": [
              "<div>\n",
              "<style scoped>\n",
              "    .dataframe tbody tr th:only-of-type {\n",
              "        vertical-align: middle;\n",
              "    }\n",
              "\n",
              "    .dataframe tbody tr th {\n",
              "        vertical-align: top;\n",
              "    }\n",
              "\n",
              "    .dataframe thead th {\n",
              "        text-align: right;\n",
              "    }\n",
              "</style>\n",
              "<table border=\"1\" class=\"dataframe\">\n",
              "  <thead>\n",
              "    <tr style=\"text-align: right;\">\n",
              "      <th></th>\n",
              "      <th>High</th>\n",
              "      <th>Low</th>\n",
              "      <th>Open</th>\n",
              "      <th>Close</th>\n",
              "      <th>Volume</th>\n",
              "      <th>Adj Close</th>\n",
              "    </tr>\n",
              "    <tr>\n",
              "      <th>Date</th>\n",
              "      <th></th>\n",
              "      <th></th>\n",
              "      <th></th>\n",
              "      <th></th>\n",
              "      <th></th>\n",
              "      <th></th>\n",
              "    </tr>\n",
              "  </thead>\n",
              "  <tbody>\n",
              "    <tr>\n",
              "      <th>2020-02-26</th>\n",
              "      <td>122.389999</td>\n",
              "      <td>119.849998</td>\n",
              "      <td>121.419998</td>\n",
              "      <td>120.160004</td>\n",
              "      <td>6894200.0</td>\n",
              "      <td>120.160004</td>\n",
              "    </tr>\n",
              "    <tr>\n",
              "      <th>2020-02-27</th>\n",
              "      <td>119.919998</td>\n",
              "      <td>113.430000</td>\n",
              "      <td>119.120003</td>\n",
              "      <td>113.500000</td>\n",
              "      <td>13298900.0</td>\n",
              "      <td>113.500000</td>\n",
              "    </tr>\n",
              "    <tr>\n",
              "      <th>2020-02-28</th>\n",
              "      <td>113.230003</td>\n",
              "      <td>106.669998</td>\n",
              "      <td>109.459999</td>\n",
              "      <td>113.230003</td>\n",
              "      <td>22788600.0</td>\n",
              "      <td>113.230003</td>\n",
              "    </tr>\n",
              "    <tr>\n",
              "      <th>2020-03-02</th>\n",
              "      <td>119.790001</td>\n",
              "      <td>112.550003</td>\n",
              "      <td>113.190002</td>\n",
              "      <td>119.559998</td>\n",
              "      <td>12398100.0</td>\n",
              "      <td>119.559998</td>\n",
              "    </tr>\n",
              "    <tr>\n",
              "      <th>2020-03-03</th>\n",
              "      <td>121.830002</td>\n",
              "      <td>117.135002</td>\n",
              "      <td>119.730003</td>\n",
              "      <td>117.809998</td>\n",
              "      <td>8675931.0</td>\n",
              "      <td>117.809998</td>\n",
              "    </tr>\n",
              "  </tbody>\n",
              "</table>\n",
              "</div>"
            ],
            "text/plain": [
              "                  High         Low  ...      Volume   Adj Close\n",
              "Date                                ...                        \n",
              "2020-02-26  122.389999  119.849998  ...   6894200.0  120.160004\n",
              "2020-02-27  119.919998  113.430000  ...  13298900.0  113.500000\n",
              "2020-02-28  113.230003  106.669998  ...  22788600.0  113.230003\n",
              "2020-03-02  119.790001  112.550003  ...  12398100.0  119.559998\n",
              "2020-03-03  121.830002  117.135002  ...   8675931.0  117.809998\n",
              "\n",
              "[5 rows x 6 columns]"
            ]
          },
          "metadata": {
            "tags": []
          },
          "execution_count": 26
        }
      ]
    },
    {
      "cell_type": "code",
      "metadata": {
        "id": "lDGXbHaj9IYc",
        "colab_type": "code",
        "colab": {
          "base_uri": "https://localhost:8080/",
          "height": 35
        },
        "outputId": "0da9a5be-9726-47f5-91cc-eafa8aa16042"
      },
      "source": [
        "PG.shape"
      ],
      "execution_count": 27,
      "outputs": [
        {
          "output_type": "execute_result",
          "data": {
            "text/plain": [
              "(6336, 6)"
            ]
          },
          "metadata": {
            "tags": []
          },
          "execution_count": 27
        }
      ]
    },
    {
      "cell_type": "code",
      "metadata": {
        "id": "6m-Z2-aO9Ji5",
        "colab_type": "code",
        "colab": {
          "base_uri": "https://localhost:8080/",
          "height": 251
        },
        "outputId": "2a569d75-85b0-4ea0-d085-11e5d2788959"
      },
      "source": [
        "PG['simple_return'] = (PG['Adj Close']/PG['Adj Close'].shift(1))-1\n",
        "print(PG['simple_return'])"
      ],
      "execution_count": 28,
      "outputs": [
        {
          "output_type": "stream",
          "text": [
            "Date\n",
            "1995-01-03         NaN\n",
            "1995-01-04   -0.008016\n",
            "1995-01-05   -0.014142\n",
            "1995-01-06    0.002049\n",
            "1995-01-09   -0.004090\n",
            "                ...   \n",
            "2020-02-26   -0.010459\n",
            "2020-02-27   -0.055426\n",
            "2020-02-28   -0.002379\n",
            "2020-03-02    0.055904\n",
            "2020-03-03   -0.014637\n",
            "Name: simple_return, Length: 6336, dtype: float64\n"
          ],
          "name": "stdout"
        }
      ]
    },
    {
      "cell_type": "code",
      "metadata": {
        "id": "w76lIomf9eMA",
        "colab_type": "code",
        "colab": {
          "base_uri": "https://localhost:8080/",
          "height": 318
        },
        "outputId": "70a59046-9146-4969-ae1a-1721ac33e839"
      },
      "source": [
        "PG['simple_return'].plot(figsize=(8,5))\n",
        "plt.show()"
      ],
      "execution_count": 29,
      "outputs": [
        {
          "output_type": "display_data",
          "data": {
            "image/png": "[encoded data removed]",
            "text/plain": [
              "<Figure size 576x360 with 1 Axes>"
            ]
          },
          "metadata": {
            "tags": []
          }
        }
      ]
    },
    {
      "cell_type": "code",
      "metadata": {
        "id": "L83El3rT91dH",
        "colab_type": "code",
        "colab": {
          "base_uri": "https://localhost:8080/",
          "height": 35
        },
        "outputId": "c1b833e3-f673-40fa-ea12-493319b712dc"
      },
      "source": [
        "avg_returns_d = PG['simple_return'].mean()\n",
        "avg_returns_d"
      ],
      "execution_count": 30,
      "outputs": [
        {
          "output_type": "execute_result",
          "data": {
            "text/plain": [
              "0.0005592662247830317"
            ]
          },
          "metadata": {
            "tags": []
          },
          "execution_count": 30
        }
      ]
    },
    {
      "cell_type": "code",
      "metadata": {
        "id": "Q-1-0s7u-FN6",
        "colab_type": "code",
        "colab": {
          "base_uri": "https://localhost:8080/",
          "height": 35
        },
        "outputId": "d2775c00-73c6-4a49-e933-e947a77f1500"
      },
      "source": [
        "avg_returns_a = PG['simple_return'].mean() * 250\n",
        "avg_returns_a"
      ],
      "execution_count": 31,
      "outputs": [
        {
          "output_type": "execute_result",
          "data": {
            "text/plain": [
              "0.13981655619575792"
            ]
          },
          "metadata": {
            "tags": []
          },
          "execution_count": 31
        }
      ]
    },
    {
      "cell_type": "code",
      "metadata": {
        "id": "yAnEkrzS-Lh8",
        "colab_type": "code",
        "colab": {
          "base_uri": "https://localhost:8080/",
          "height": 35
        },
        "outputId": "f8231d2a-f47c-454e-a777-03ef97e5d01a"
      },
      "source": [
        "print(str(round(avg_returns_a, 5) * 100) + \" %\")"
      ],
      "execution_count": 32,
      "outputs": [
        {
          "output_type": "stream",
          "text": [
            "13.982 %\n"
          ],
          "name": "stdout"
        }
      ]
    },
    {
      "cell_type": "markdown",
      "metadata": {
        "id": "kdminMUp-mbq",
        "colab_type": "text"
      },
      "source": [
        "# Log Returns"
      ]
    },
    {
      "cell_type": "code",
      "metadata": {
        "id": "DWzQ0_mC-SZH",
        "colab_type": "code",
        "colab": {
          "base_uri": "https://localhost:8080/",
          "height": 337
        },
        "outputId": "d321f1f6-b60a-4690-f28a-2b74934559b6"
      },
      "source": [
        "PG.head()"
      ],
      "execution_count": 33,
      "outputs": [
        {
          "output_type": "execute_result",
          "data": {
            "text/html": [
              "<div>\n",
              "<style scoped>\n",
              "    .dataframe tbody tr th:only-of-type {\n",
              "        vertical-align: middle;\n",
              "    }\n",
              "\n",
              "    .dataframe tbody tr th {\n",
              "        vertical-align: top;\n",
              "    }\n",
              "\n",
              "    .dataframe thead th {\n",
              "        text-align: right;\n",
              "    }\n",
              "</style>\n",
              "<table border=\"1\" class=\"dataframe\">\n",
              "  <thead>\n",
              "    <tr style=\"text-align: right;\">\n",
              "      <th></th>\n",
              "      <th>High</th>\n",
              "      <th>Low</th>\n",
              "      <th>Open</th>\n",
              "      <th>Close</th>\n",
              "      <th>Volume</th>\n",
              "      <th>Adj Close</th>\n",
              "      <th>simple_return</th>\n",
              "    </tr>\n",
              "    <tr>\n",
              "      <th>Date</th>\n",
              "      <th></th>\n",
              "      <th></th>\n",
              "      <th></th>\n",
              "      <th></th>\n",
              "      <th></th>\n",
              "      <th></th>\n",
              "      <th></th>\n",
              "    </tr>\n",
              "  </thead>\n",
              "  <tbody>\n",
              "    <tr>\n",
              "      <th>1995-01-03</th>\n",
              "      <td>15.62500</td>\n",
              "      <td>15.43750</td>\n",
              "      <td>15.46875</td>\n",
              "      <td>15.59375</td>\n",
              "      <td>3318400.0</td>\n",
              "      <td>6.362394</td>\n",
              "      <td>NaN</td>\n",
              "    </tr>\n",
              "    <tr>\n",
              "      <th>1995-01-04</th>\n",
              "      <td>15.65625</td>\n",
              "      <td>15.31250</td>\n",
              "      <td>15.53125</td>\n",
              "      <td>15.46875</td>\n",
              "      <td>2218800.0</td>\n",
              "      <td>6.311395</td>\n",
              "      <td>-0.008016</td>\n",
              "    </tr>\n",
              "    <tr>\n",
              "      <th>1995-01-05</th>\n",
              "      <td>15.43750</td>\n",
              "      <td>15.21875</td>\n",
              "      <td>15.37500</td>\n",
              "      <td>15.25000</td>\n",
              "      <td>2319600.0</td>\n",
              "      <td>6.222139</td>\n",
              "      <td>-0.014142</td>\n",
              "    </tr>\n",
              "    <tr>\n",
              "      <th>1995-01-06</th>\n",
              "      <td>15.40625</td>\n",
              "      <td>15.15625</td>\n",
              "      <td>15.15625</td>\n",
              "      <td>15.28125</td>\n",
              "      <td>3438000.0</td>\n",
              "      <td>6.234891</td>\n",
              "      <td>0.002049</td>\n",
              "    </tr>\n",
              "    <tr>\n",
              "      <th>1995-01-09</th>\n",
              "      <td>15.40625</td>\n",
              "      <td>15.18750</td>\n",
              "      <td>15.34375</td>\n",
              "      <td>15.21875</td>\n",
              "      <td>1795200.0</td>\n",
              "      <td>6.209391</td>\n",
              "      <td>-0.004090</td>\n",
              "    </tr>\n",
              "  </tbody>\n",
              "</table>\n",
              "</div>"
            ],
            "text/plain": [
              "                High       Low      Open  ...     Volume  Adj Close  simple_return\n",
              "Date                                      ...                                     \n",
              "1995-01-03  15.62500  15.43750  15.46875  ...  3318400.0   6.362394            NaN\n",
              "1995-01-04  15.65625  15.31250  15.53125  ...  2218800.0   6.311395      -0.008016\n",
              "1995-01-05  15.43750  15.21875  15.37500  ...  2319600.0   6.222139      -0.014142\n",
              "1995-01-06  15.40625  15.15625  15.15625  ...  3438000.0   6.234891       0.002049\n",
              "1995-01-09  15.40625  15.18750  15.34375  ...  1795200.0   6.209391      -0.004090\n",
              "\n",
              "[5 rows x 7 columns]"
            ]
          },
          "metadata": {
            "tags": []
          },
          "execution_count": 33
        }
      ]
    },
    {
      "cell_type": "code",
      "metadata": {
        "id": "sHLtFANq-kmt",
        "colab_type": "code",
        "colab": {
          "base_uri": "https://localhost:8080/",
          "height": 251
        },
        "outputId": "e47d845c-f6d6-455e-d59a-66dff55cb730"
      },
      "source": [
        "PG['log_return'] = np.log(PG['Adj Close']/PG['Adj Close'].shift(1))\n",
        "print(PG['log_return'])"
      ],
      "execution_count": 34,
      "outputs": [
        {
          "output_type": "stream",
          "text": [
            "Date\n",
            "1995-01-03         NaN\n",
            "1995-01-04   -0.008048\n",
            "1995-01-05   -0.014243\n",
            "1995-01-06    0.002047\n",
            "1995-01-09   -0.004098\n",
            "                ...   \n",
            "2020-02-26   -0.010514\n",
            "2020-02-27   -0.057021\n",
            "2020-02-28   -0.002382\n",
            "2020-03-02    0.054397\n",
            "2020-03-03   -0.014745\n",
            "Name: log_return, Length: 6336, dtype: float64\n"
          ],
          "name": "stdout"
        }
      ]
    },
    {
      "cell_type": "code",
      "metadata": {
        "id": "Phfi1sRL-_N7",
        "colab_type": "code",
        "colab": {
          "base_uri": "https://localhost:8080/",
          "height": 318
        },
        "outputId": "8ea91c55-ca3d-4e82-9c32-672db2f888cf"
      },
      "source": [
        "PG['log_return'].plot(figsize=(8, 5))\n",
        "plt.show()"
      ],
      "execution_count": 35,
      "outputs": [
        {
          "output_type": "display_data",
          "data": {
            "image/png": "[encoded data removed]",
            "text/plain": [
              "<Figure size 576x360 with 1 Axes>"
            ]
          },
          "metadata": {
            "tags": []
          }
        }
      ]
    },
    {
      "cell_type": "code",
      "metadata": {
        "id": "M-RwVbs1_Med",
        "colab_type": "code",
        "colab": {
          "base_uri": "https://localhost:8080/",
          "height": 35
        },
        "outputId": "364297c1-35b3-4b82-9c1d-3d74097f27b0"
      },
      "source": [
        "log_return_d = PG['log_return'].mean()\n",
        "log_return_d"
      ],
      "execution_count": 36,
      "outputs": [
        {
          "output_type": "execute_result",
          "data": {
            "text/plain": [
              "0.0004607211306383532"
            ]
          },
          "metadata": {
            "tags": []
          },
          "execution_count": 36
        }
      ]
    },
    {
      "cell_type": "code",
      "metadata": {
        "id": "RuEhLp28_XaL",
        "colab_type": "code",
        "colab": {
          "base_uri": "https://localhost:8080/",
          "height": 35
        },
        "outputId": "4c3a2ae4-d516-4bf9-bb92-d8b811516693"
      },
      "source": [
        "log_return_a = PG['log_return'].mean() * 250\n",
        "log_return_a"
      ],
      "execution_count": 37,
      "outputs": [
        {
          "output_type": "execute_result",
          "data": {
            "text/plain": [
              "0.1151802826595883"
            ]
          },
          "metadata": {
            "tags": []
          },
          "execution_count": 37
        }
      ]
    },
    {
      "cell_type": "code",
      "metadata": {
        "id": "fi3LC6yu_gOr",
        "colab_type": "code",
        "colab": {
          "base_uri": "https://localhost:8080/",
          "height": 35
        },
        "outputId": "62000926-4b7b-46f5-897b-0ab4712d2daa"
      },
      "source": [
        "print(str(round(log_return_a, 5) * 100) + \" %\")"
      ],
      "execution_count": 38,
      "outputs": [
        {
          "output_type": "stream",
          "text": [
            "11.518 %\n"
          ],
          "name": "stdout"
        }
      ]
    },
    {
      "cell_type": "code",
      "metadata": {
        "id": "ircs_KJL_nqT",
        "colab_type": "code",
        "colab": {}
      },
      "source": [
        ""
      ],
      "execution_count": 0,
      "outputs": []
    }
  ]
}