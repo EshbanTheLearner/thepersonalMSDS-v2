{
  "nbformat": 4,
  "nbformat_minor": 0,
  "metadata": {
    "colab": {
      "name": "HMM_Scaled.ipynb",
      "provenance": [],
      "collapsed_sections": []
    },
    "kernelspec": {
      "name": "python3",
      "display_name": "Python 3"
    }
  },
  "cells": [
    {
      "cell_type": "code",
      "metadata": {
        "id": "yhW_nDchbvf8",
        "colab_type": "code",
        "colab": {}
      },
      "source": [
        "import numpy as np\n",
        "import warnings\n",
        "warnings.filterwarnings(\"ignore\")"
      ],
      "execution_count": 0,
      "outputs": []
    },
    {
      "cell_type": "code",
      "metadata": {
        "id": "fIOc_dzAb9D0",
        "colab_type": "code",
        "colab": {}
      },
      "source": [
        "def random_normalized(d1, d2):\n",
        "  x = np.random.random((d1, d2))\n",
        "  return x / x.sum(axis=1, keepdims=True)"
      ],
      "execution_count": 0,
      "outputs": []
    },
    {
      "cell_type": "code",
      "metadata": {
        "id": "2JZsPfrscIEO",
        "colab_type": "code",
        "colab": {}
      },
      "source": [
        "class HMM:\n",
        "\n",
        "  def __init__(self, M):\n",
        "    self.M = M\n",
        "\n",
        "  def fit(self, X, max_iter=30):\n",
        "    np.random.seed(123)\n",
        "    V = max(max(x) for x in X) + 1\n",
        "    N = len(X)\n",
        "    \n",
        "    self.pi = np.ones(self.M)/self.M\n",
        "    self.A = random_normalized(self.M, self.M)\n",
        "    self.B = random_normalized(self.M, V)\n",
        "\n",
        "    print(\"Initial A: \", self.A)\n",
        "    print(\"Initial B: \", self.B)\n",
        "\n",
        "    costs = []\n",
        "    for it in range(max_iter):\n",
        "      if it % 10 == 0:\n",
        "        print(\"it: \", it)\n",
        "\n",
        "      alphas = []\n",
        "      betas = []\n",
        "      scales = []\n",
        "      logP = np.zeros(N)\n",
        "      for n in range(N):\n",
        "        x = X[n]\n",
        "        T = len(x)\n",
        "        scale = np.zeros(T)\n",
        "        alpha = np.zeros((T, self.M))\n",
        "        alpha[0] = self.pi*self.B[:, x[0]]\n",
        "        scale[0] = alpha[0].sum()\n",
        "        alpha[0] /= scale[0]\n",
        "        for t in range(1, T):\n",
        "          alpha_t_prime = alpha[t-1].dot(self.A) * self.B[:, x[t]]\n",
        "          scale[t] = alpha_t_prime.sum()\n",
        "          alpha[t] = alpha_t_prime / scale[t]\n",
        "        logP[n] = np.log(scale).sum()\n",
        "        alphas.append(alpha)\n",
        "        scales.append(scale)\n",
        "\n",
        "        beta = np.zeros((T, self.M))\n",
        "        beta[-1] = 1\n",
        "        for t in range(T-2, -1, -1):\n",
        "          beta[t] = self.A.dot(self.B[:, x[t+1]] * beta[t+1]) / scale[t+1]\n",
        "        betas.append(beta)\n",
        "\n",
        "      cost = np.sum(logP)\n",
        "      costs.append(beta)\n",
        "\n",
        "      self.pi = np.sum((alphas[n][0] * betas[n][0]) for n in range(N)) / N\n",
        "\n",
        "      den1 = np.zeros((self.M, 1))\n",
        "      den2 = np.zeros((self.M, 1))\n",
        "      a_num = np.zeros((self.M, self.M))\n",
        "      b_num = np.zeros((self.M, V))\n",
        "      for n in range(N):\n",
        "        x = X[n]\n",
        "        T = len(x)\n",
        "        den1 += (alphas[n][:-1]*betas[n][:-1]).sum(axis=0, keepdims=True).T\n",
        "        den2 += (alphas[n] * betas[n]).sum(axis=0,  keepdims=True).T\n",
        "        \n",
        "        for i in range(self.M):\n",
        "          for j in range(self.M):\n",
        "            for t in range(T-1):\n",
        "              a_num[i,j] += alphas[n][t,i]*betas[n][t+1,j]*self.A[i,j]*self.B[j, x[t+1]] / scales[n][t+1]\n",
        "\n",
        "        for i in range(self.M):\n",
        "          for t in range(T):\n",
        "            b_num[i, x[t]] += alphas[n][t,i] * betas[n][t,i]\n",
        "\n",
        "      self.A = a_num / den1\n",
        "      self.B = b_num / den2\n",
        "    print(\"A: \", self.A)\n",
        "    print(\"B: \", self.B)\n",
        "    print(\"pi: \", self.pi)\n",
        "    #print(costs.shape)\n",
        "    #plt.plot(costs)\n",
        "    #plt.show()\n",
        "\n",
        "  def log_likelihood(self, x):\n",
        "    T = len(x)\n",
        "    scale = np.zeros(T)\n",
        "    alpha = np.zeros((T, self.M))\n",
        "    alpha[0] = self.pi * self.B[:, x[0]]\n",
        "    scale[0] = alpha[0].sum()\n",
        "    alpha[0] /= scale[0]\n",
        "    for t in range(1, T):\n",
        "      alpha_t_prime = alpha[t-1].dot(self.A) * self.B[:, x[t]]\n",
        "      scale[t] = alpha_t_prime.sum()\n",
        "      alpha[t] = alpha_t_prime / scale[t]\n",
        "    return np.log(scale).sum()\n",
        "\n",
        "  def log_likelihood_multi(self, X):\n",
        "    return np.array([self.log_likelihood(x) for x in X])\n",
        "\n",
        "  def get_state_sequence(self, x):\n",
        "    T = len(x)\n",
        "    delta = np.zeros((T, self.M))\n",
        "    psi = np.zeros((T, self.M))\n",
        "    delta[0] = np.log(self.pi) + np.log(self.B[:, x[0]])\n",
        "    for t in range(1, T):\n",
        "      for j in range(self.M):\n",
        "        delta[t, j] = np.max(delta[t-1] + np.log(self.A[:,j])) + np.log(self.B[j, x[t]])\n",
        "        psi[t, j] = np.argmax(delta[t-1] + np.log(self.A[:,j]))\n",
        "\n",
        "    states = np.zeros(T, dtype=np.int32)\n",
        "    states[T-1] = np.argmax(delta[T-1])\n",
        "    for t in range(T-2, -1, -1):\n",
        "      states[t] = psi[t+1, states[t+1]]\n",
        "    return states"
      ],
      "execution_count": 0,
      "outputs": []
    },
    {
      "cell_type": "code",
      "metadata": {
        "id": "LYgdaNzFi8jb",
        "colab_type": "code",
        "colab": {}
      },
      "source": [
        "def fit_coin():\n",
        "  X = []\n",
        "  for line in open(\"coin_data.txt\"):\n",
        "    x = [1 if e=='H' else 0 for e in line.rstrip()]\n",
        "    X.append(x)\n",
        "\n",
        "  hmm = HMM(2)\n",
        "  hmm.fit(X)\n",
        "  L = hmm.log_likelihood_multi(X).sum()\n",
        "  print(\"LL with fitted parameters: \", L)\n",
        "\n",
        "  hmm.pi = np.array([0.5, 0.5])\n",
        "  hmm.A = np.array([[0.1, 0.9], [0.8, 0.2]])\n",
        "  hmm.B = np.array([[0.6, 0.4], [0.3, 0.7]])\n",
        "  L = hmm.log_likelihood_multi(X).sum()\n",
        "  print(\"LL with True Parameters: \", L)\n",
        "\n",
        "  print(\"Best State Sequence for: \", X[0])\n",
        "  print(hmm.get_state_sequence(X[0]))"
      ],
      "execution_count": 0,
      "outputs": []
    },
    {
      "cell_type": "code",
      "metadata": {
        "id": "p_kf8MVXj9SH",
        "colab_type": "code",
        "colab": {
          "base_uri": "https://localhost:8080/",
          "height": 325
        },
        "outputId": "64cfd07b-35f1-499e-b90f-dc1751f99ec8"
      },
      "source": [
        "fit_coin()"
      ],
      "execution_count": 5,
      "outputs": [
        {
          "output_type": "stream",
          "text": [
            "Initial A:  [[0.7087962  0.2912038 ]\n",
            " [0.29152056 0.70847944]]\n",
            "Initial B:  [[0.62969057 0.37030943]\n",
            " [0.58883752 0.41116248]]\n",
            "it:  0\n",
            "it:  10\n",
            "it:  20\n",
            "A:  [[0.70386662 0.29613338]\n",
            " [0.28712763 0.71287237]]\n",
            "B:  [[0.54419694 0.45580306]\n",
            " [0.53723247 0.46276753]]\n",
            "pi:  [0.50695647 0.49304353]\n",
            "LL with fitted parameters:  -1034.755754735206\n",
            "LL with True Parameters:  -1059.7229160265022\n",
            "Best State Sequence for:  [0, 1, 0, 1, 0, 1, 1, 1, 0, 0, 0, 0, 0, 1, 0, 1, 0, 1, 0, 1, 0, 0, 1, 1, 1, 1, 0, 0, 0, 1]\n",
            "[0 1 0 1 0 1 0 1 0 1 0 1 0 1 0 1 0 1 0 1 0 1 0 1 0 1 0 1 0 1]\n"
          ],
          "name": "stdout"
        }
      ]
    },
    {
      "cell_type": "code",
      "metadata": {
        "id": "6mEWMlW8kDlN",
        "colab_type": "code",
        "colab": {}
      },
      "source": [
        ""
      ],
      "execution_count": 0,
      "outputs": []
    }
  ]
}