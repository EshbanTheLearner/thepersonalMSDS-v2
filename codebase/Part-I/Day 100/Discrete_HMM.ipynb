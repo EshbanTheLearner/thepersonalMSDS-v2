{
  "nbformat": 4,
  "nbformat_minor": 0,
  "metadata": {
    "colab": {
      "name": "Discrete_HMM.ipynb",
      "provenance": [],
      "collapsed_sections": []
    },
    "kernelspec": {
      "name": "python3",
      "display_name": "Python 3"
    }
  },
  "cells": [
    {
      "cell_type": "code",
      "metadata": {
        "id": "UxXoOuftyT7r",
        "colab_type": "code",
        "colab": {
          "base_uri": "https://localhost:8080/",
          "height": 35
        },
        "outputId": "aa7bf3ff-b2ea-464d-f326-8e14ca597831"
      },
      "source": [
        "%tensorflow_version 1.x\n",
        "import tensorflow as tf\n",
        "import numpy as np\n",
        "import matplotlib.pyplot as plt"
      ],
      "execution_count": 1,
      "outputs": [
        {
          "output_type": "stream",
          "text": [
            "TensorFlow 1.x selected.\n"
          ],
          "name": "stdout"
        }
      ]
    },
    {
      "cell_type": "code",
      "metadata": {
        "id": "KwWMvK_l-GeR",
        "colab_type": "code",
        "colab": {}
      },
      "source": [
        "#tf.compat.v1.enable_eager_execution()"
      ],
      "execution_count": 0,
      "outputs": []
    },
    {
      "cell_type": "code",
      "metadata": {
        "id": "MZsQrbTLyVoI",
        "colab_type": "code",
        "colab": {}
      },
      "source": [
        "\n",
        "class HMM:\n",
        "\n",
        "  def __init__(self, M):\n",
        "    self.M = M\n",
        "\n",
        "  def set_session(self, session):\n",
        "    self.session = session\n",
        "\n",
        "  def fit(self, X, max_iter=10, print_period=1):\n",
        "    N = len(X)\n",
        "    print(\"Number of train samples: \", N)\n",
        "    costs = []\n",
        "    for it in range(max_iter):\n",
        "      if it%print_period == 0:\n",
        "        print(\"it: \", it)\n",
        "      for n in range(N):\n",
        "        c = self.get_cost_multi(X).sum()\n",
        "        costs.append(c)\n",
        "        self.session.run(self.train_op, feed_dict={self.tfx: X[n]})\n",
        "\n",
        "    plt.plot(costs)\n",
        "    plt.show()\n",
        "\n",
        "  def get_cost(self, x):\n",
        "    return self.session.run(self.cost, feed_dict={self.tfx: x})\n",
        "\n",
        "  def get_cost_multi(self, X):\n",
        "    return np.array([self.get_cost(x) for x in X])\n",
        "\n",
        "  def log_likelihood(self, x):\n",
        "    return -self.session.run(self.cost, feed_dict={self.tfx: x})\n",
        "\n",
        "  def build(self, preSoftmaxPi, preSoftmaxA, preSoftmaxB):\n",
        "    M, V = preSoftmaxB.shape\n",
        "    self.preSoftmaxPi = tf.Variable(preSoftmaxPi)\n",
        "    self.preSoftmaxA = tf.Variable(preSoftmaxA)\n",
        "    self.preSoftmaxB = tf.Variable(preSoftmaxB)\n",
        "    pi = tf.nn.softmax(self.preSoftmaxPi)\n",
        "    A = tf.nn.softmax(self.preSoftmaxA)\n",
        "    B = tf.nn.softmax(self.preSoftmaxB)\n",
        "    self.tfx = tf.placeholder(tf.int32, shape=(None,), name='x')\n",
        "    def recurrence(old_a_old_s, x_t):\n",
        "      old_a = tf.reshape(old_a_old_s[0], (1,M))\n",
        "      a = tf.matmul(old_a, A) * B[:, x_t]\n",
        "      a = tf.reshape(a, (M,))\n",
        "      s = tf.reduce_sum(a)\n",
        "      return (a/s), s\n",
        "    alpha, scale = tf.scan(\n",
        "        fn=recurrence,\n",
        "        elems=self.tfx[1:],\n",
        "        initializer=(pi*B[:,self.tfx[0]], np.float32(1.0)),\n",
        "    )\n",
        "    self.cost = -tf.reduce_sum(tf.log(scale))\n",
        "    self.train_op = tf.train.AdamOptimizer(1e-2).minimize(self.cost)\n",
        "\n",
        "  def init_random(self, V):\n",
        "    preSoftmaxPi0 = np.zeros(self.M).astype(np.float32)\n",
        "    preSoftmaxA0 = np.random.randn(self.M, self.M).astype(np.float32)\n",
        "    preSoftmaxB0 = np.random.randn(self.M, V).astype(np.float32)\n",
        "    self.build(preSoftmaxPi0, preSoftmaxA0, preSoftmaxB0)\n",
        "\n",
        "  def set(self, preSoftmaxPi, preSoftmaxA, preSoftmaxB):\n",
        "    op1 = self.preSoftmaxPi.assign(preSoftmaxPi)\n",
        "    op2 = self.preSoftmaxA.assign(preSoftmaxA)\n",
        "    op3 = self.preSoftmaxB.assign(preSoftmaxB)\n",
        "    self.session.run([op1, op2, op3])"
      ],
      "execution_count": 0,
      "outputs": []
    },
    {
      "cell_type": "code",
      "metadata": {
        "id": "X35aBKsHyeSY",
        "colab_type": "code",
        "colab": {}
      },
      "source": [
        "def fit_coin():\n",
        "  X = []\n",
        "  for line in open(\"coin_data.txt\"):\n",
        "    x = [1 if e == 'H' else 0 for e in line.rstrip()]\n",
        "    X.append(x)\n",
        "  hmm = HMM(2)\n",
        "  hmm.init_random(2)\n",
        "  init = tf.global_variables_initializer()\n",
        "  with tf.Session() as session:\n",
        "    session.run(init)\n",
        "    hmm.set_session(session)\n",
        "    hmm.fit(X, max_iter=5)\n",
        "    L = hmm.get_cost_multi(X).sum()\n",
        "    print(\"LL with fitted params: \", L)\n",
        "    pi = np.log(np.array([0.5, 0.5])).astype(np.float32)\n",
        "    A = np.log(np.array([[0.1, 0.9], [0.8, 0.2]])).astype(np.float32)\n",
        "    B = np.log(np.array([[0.6, 0.4], [0.3, 0.7]])).astype(np.float32)\n",
        "    hmm.set(pi, A, B)\n",
        "    L = hmm.get_cost_multi(X).sum()\n",
        "    print(\"LL with true params: \", L)"
      ],
      "execution_count": 0,
      "outputs": []
    },
    {
      "cell_type": "code",
      "metadata": {
        "id": "2c2dJYZk8s1K",
        "colab_type": "code",
        "colab": {
          "base_uri": "https://localhost:8080/",
          "height": 409
        },
        "outputId": "e985f7f7-1d07-4a30-ef71-d9df147580fa"
      },
      "source": [
        "fit_coin()"
      ],
      "execution_count": 5,
      "outputs": [
        {
          "output_type": "stream",
          "text": [
            "Number of train samples:  50\n",
            "it:  0\n",
            "it:  1\n",
            "it:  2\n",
            "it:  3\n",
            "it:  4\n"
          ],
          "name": "stdout"
        },
        {
          "output_type": "display_data",
          "data": {
            "image/png": "[encoded data removed]",
            "text/plain": [
              "<Figure size 432x288 with 1 Axes>"
            ]
          },
          "metadata": {
            "tags": [],
            "needs_background": "light"
          }
        },
        {
          "output_type": "stream",
          "text": [
            "LL with fitted params:  1035.0219\n",
            "LL with true params:  1059.7229\n"
          ],
          "name": "stdout"
        }
      ]
    },
    {
      "cell_type": "code",
      "metadata": {
        "id": "nvKbdTZY9HvQ",
        "colab_type": "code",
        "colab": {}
      },
      "source": [
        ""
      ],
      "execution_count": 0,
      "outputs": []
    }
  ]
}