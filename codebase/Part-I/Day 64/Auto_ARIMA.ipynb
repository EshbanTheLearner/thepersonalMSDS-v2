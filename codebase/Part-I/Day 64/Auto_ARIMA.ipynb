{
  "nbformat": 4,
  "nbformat_minor": 0,
  "metadata": {
    "colab": {
      "name": "Auto_ARIMA.ipynb",
      "provenance": [],
      "collapsed_sections": []
    },
    "kernelspec": {
      "name": "python3",
      "display_name": "Python 3"
    }
  },
  "cells": [
    {
      "cell_type": "code",
      "metadata": {
        "id": "kYnTSG4antlZ",
        "colab_type": "code",
        "colab": {
          "base_uri": "https://localhost:8080/",
          "height": 685
        },
        "outputId": "2ce0e579-dbc9-49b7-ed44-a5830d511d1e"
      },
      "source": [
        "!pip install arch\n",
        "!pip install yfinance\n",
        "!pip install pmdarima"
      ],
      "execution_count": 4,
      "outputs": [
        {
          "output_type": "stream",
          "text": [
            "Requirement already satisfied: arch in /usr/local/lib/python3.6/dist-packages (4.13)\n",
            "Requirement already satisfied: statsmodels>=0.9 in /usr/local/lib/python3.6/dist-packages (from arch) (0.10.2)\n",
            "Requirement already satisfied: pandas>=0.23 in /usr/local/lib/python3.6/dist-packages (from arch) (0.25.3)\n",
            "Requirement already satisfied: scipy>=1.0.1 in /usr/local/lib/python3.6/dist-packages (from arch) (1.4.1)\n",
            "Requirement already satisfied: property-cached>=1.6.3 in /usr/local/lib/python3.6/dist-packages (from arch) (1.6.4)\n",
            "Requirement already satisfied: numpy>=1.14 in /usr/local/lib/python3.6/dist-packages (from arch) (1.18.1)\n",
            "Requirement already satisfied: cython>=0.29.14 in /usr/local/lib/python3.6/dist-packages (from arch) (0.29.15)\n",
            "Requirement already satisfied: patsy>=0.4.0 in /usr/local/lib/python3.6/dist-packages (from statsmodels>=0.9->arch) (0.5.1)\n",
            "Requirement already satisfied: python-dateutil>=2.6.1 in /usr/local/lib/python3.6/dist-packages (from pandas>=0.23->arch) (2.8.1)\n",
            "Requirement already satisfied: pytz>=2017.2 in /usr/local/lib/python3.6/dist-packages (from pandas>=0.23->arch) (2018.9)\n",
            "Requirement already satisfied: six in /usr/local/lib/python3.6/dist-packages (from patsy>=0.4.0->statsmodels>=0.9->arch) (1.12.0)\n",
            "Requirement already satisfied: yfinance in /usr/local/lib/python3.6/dist-packages (0.1.54)\n",
            "Requirement already satisfied: multitasking>=0.0.7 in /usr/local/lib/python3.6/dist-packages (from yfinance) (0.0.9)\n",
            "Requirement already satisfied: requests>=2.20 in /usr/local/lib/python3.6/dist-packages (from yfinance) (2.21.0)\n",
            "Requirement already satisfied: numpy>=1.15 in /usr/local/lib/python3.6/dist-packages (from yfinance) (1.18.1)\n",
            "Requirement already satisfied: pandas>=0.24 in /usr/local/lib/python3.6/dist-packages (from yfinance) (0.25.3)\n",
            "Requirement already satisfied: chardet<3.1.0,>=3.0.2 in /usr/local/lib/python3.6/dist-packages (from requests>=2.20->yfinance) (3.0.4)\n",
            "Requirement already satisfied: idna<2.9,>=2.5 in /usr/local/lib/python3.6/dist-packages (from requests>=2.20->yfinance) (2.8)\n",
            "Requirement already satisfied: urllib3<1.25,>=1.21.1 in /usr/local/lib/python3.6/dist-packages (from requests>=2.20->yfinance) (1.24.3)\n",
            "Requirement already satisfied: certifi>=2017.4.17 in /usr/local/lib/python3.6/dist-packages (from requests>=2.20->yfinance) (2019.11.28)\n",
            "Requirement already satisfied: python-dateutil>=2.6.1 in /usr/local/lib/python3.6/dist-packages (from pandas>=0.24->yfinance) (2.8.1)\n",
            "Requirement already satisfied: pytz>=2017.2 in /usr/local/lib/python3.6/dist-packages (from pandas>=0.24->yfinance) (2018.9)\n",
            "Requirement already satisfied: six>=1.5 in /usr/local/lib/python3.6/dist-packages (from python-dateutil>=2.6.1->pandas>=0.24->yfinance) (1.12.0)\n",
            "Requirement already satisfied: pmdarima in /usr/local/lib/python3.6/dist-packages (1.5.3)\n",
            "Requirement already satisfied: scipy>=1.3.2 in /usr/local/lib/python3.6/dist-packages (from pmdarima) (1.4.1)\n",
            "Requirement already satisfied: Cython>=0.29 in /usr/local/lib/python3.6/dist-packages (from pmdarima) (0.29.15)\n",
            "Requirement already satisfied: statsmodels>=0.10.2 in /usr/local/lib/python3.6/dist-packages (from pmdarima) (0.10.2)\n",
            "Requirement already satisfied: numpy>=1.17.3 in /usr/local/lib/python3.6/dist-packages (from pmdarima) (1.18.1)\n",
            "Requirement already satisfied: pandas>=0.19 in /usr/local/lib/python3.6/dist-packages (from pmdarima) (0.25.3)\n",
            "Requirement already satisfied: joblib>=0.11 in /usr/local/lib/python3.6/dist-packages (from pmdarima) (0.14.1)\n",
            "Requirement already satisfied: scikit-learn>=0.22 in /usr/local/lib/python3.6/dist-packages (from pmdarima) (0.22.2.post1)\n",
            "Requirement already satisfied: urllib3 in /usr/local/lib/python3.6/dist-packages (from pmdarima) (1.24.3)\n",
            "Requirement already satisfied: patsy>=0.4.0 in /usr/local/lib/python3.6/dist-packages (from statsmodels>=0.10.2->pmdarima) (0.5.1)\n",
            "Requirement already satisfied: python-dateutil>=2.6.1 in /usr/local/lib/python3.6/dist-packages (from pandas>=0.19->pmdarima) (2.8.1)\n",
            "Requirement already satisfied: pytz>=2017.2 in /usr/local/lib/python3.6/dist-packages (from pandas>=0.19->pmdarima) (2018.9)\n",
            "Requirement already satisfied: six in /usr/local/lib/python3.6/dist-packages (from patsy>=0.4.0->statsmodels>=0.10.2->pmdarima) (1.12.0)\n"
          ],
          "name": "stdout"
        }
      ]
    },
    {
      "cell_type": "code",
      "metadata": {
        "id": "qKHCdVs4m_ro",
        "colab_type": "code",
        "colab": {}
      },
      "source": [
        "import numpy as np\n",
        "import pandas as pd\n",
        "import scipy\n",
        "import statsmodels.api as sm\n",
        "import matplotlib.pyplot as plt\n",
        "import seaborn as sns; sns.set()\n",
        "import sklearn\n",
        "from statsmodels.tsa.arima_model import ARIMA\n",
        "from arch import arch_model\n",
        "import yfinance\n",
        "import warnings; warnings.filterwarnings(\"ignore\")"
      ],
      "execution_count": 0,
      "outputs": []
    },
    {
      "cell_type": "code",
      "metadata": {
        "id": "vw8ijgqLnwZQ",
        "colab_type": "code",
        "colab": {
          "base_uri": "https://localhost:8080/",
          "height": 35
        },
        "outputId": "4faf8c7a-e93f-435a-f401-3632547ad5cf"
      },
      "source": [
        "raw_data = yfinance.download(tickers=\"^GSPC ^FTSE ^N225 ^GDAXI\", \n",
        "                             start=\"1994-01-07\", end=\"2018-01-29\", \n",
        "                             interval=\"1d\", group_by=\"ticker\", auto_adjust=True, \n",
        "                             treads=True)"
      ],
      "execution_count": 8,
      "outputs": [
        {
          "output_type": "stream",
          "text": [
            "[*********************100%***********************]  4 of 4 completed\n"
          ],
          "name": "stdout"
        }
      ]
    },
    {
      "cell_type": "code",
      "metadata": {
        "id": "EpRDN_KtojXM",
        "colab_type": "code",
        "colab": {}
      },
      "source": [
        "df_comp = raw_data.copy()"
      ],
      "execution_count": 0,
      "outputs": []
    },
    {
      "cell_type": "code",
      "metadata": {
        "id": "QGs-pgH1oqsq",
        "colab_type": "code",
        "colab": {}
      },
      "source": [
        "df_comp[\"spx\"] = df_comp[\"^GSPC\"].Close[:]\n",
        "df_comp[\"dax\"] = df_comp[\"^GDAXI\"].Close[:]\n",
        "df_comp[\"ftse\"] = df_comp[\"^FTSE\"].Close[:]\n",
        "df_comp[\"nikkei\"] = df_comp[\"^N225\"].Close[:]"
      ],
      "execution_count": 0,
      "outputs": []
    },
    {
      "cell_type": "code",
      "metadata": {
        "id": "qJueLkT4pEe2",
        "colab_type": "code",
        "colab": {}
      },
      "source": [
        "df_comp = df_comp.iloc[1:]\n",
        "del df_comp[\"^GSPC\"]\n",
        "del df_comp[\"^GDAXI\"]\n",
        "del df_comp[\"^FTSE\"]\n",
        "del df_comp[\"^N225\"]\n",
        "\n",
        "df_comp = df_comp.asfreq('b')\n",
        "df_comp = df_comp.fillna(method=\"ffill\")"
      ],
      "execution_count": 0,
      "outputs": []
    },
    {
      "cell_type": "code",
      "metadata": {
        "id": "IV7EqflopfM9",
        "colab_type": "code",
        "colab": {}
      },
      "source": [
        "df_comp[\"ret_spx\"] = df_comp.spx.pct_change(1)*100\n",
        "df_comp[\"ret_ftse\"] = df_comp.ftse.pct_change(1)*100\n",
        "df_comp[\"ret_dax\"] = df_comp.dax.pct_change(1)*100\n",
        "df_comp[\"ret_nikkei\"] = df_comp.nikkei.pct_change(1)*100"
      ],
      "execution_count": 0,
      "outputs": []
    },
    {
      "cell_type": "code",
      "metadata": {
        "id": "0qIVCHEAp09-",
        "colab_type": "code",
        "colab": {}
      },
      "source": [
        "size = int(len(df_comp)*0.8)\n",
        "df, df_test = df_comp.iloc[:size], df_comp.iloc[size:]"
      ],
      "execution_count": 0,
      "outputs": []
    },
    {
      "cell_type": "code",
      "metadata": {
        "id": "yjNotugkqCGT",
        "colab_type": "code",
        "colab": {}
      },
      "source": [
        "from pmdarima.arima import auto_arima"
      ],
      "execution_count": 0,
      "outputs": []
    },
    {
      "cell_type": "code",
      "metadata": {
        "id": "2LRvUGPDqHOJ",
        "colab_type": "code",
        "colab": {}
      },
      "source": [
        "model_auto = auto_arima(df.ret_ftse[1:])"
      ],
      "execution_count": 0,
      "outputs": []
    },
    {
      "cell_type": "code",
      "metadata": {
        "id": "9Gypyh3dqVpv",
        "colab_type": "code",
        "colab": {
          "base_uri": "https://localhost:8080/",
          "height": 89
        },
        "outputId": "3aa60ea2-cf98-48bb-8b21-799bb70e25fa"
      },
      "source": [
        "model_auto"
      ],
      "execution_count": 16,
      "outputs": [
        {
          "output_type": "execute_result",
          "data": {
            "text/plain": [
              "ARIMA(maxiter=50, method='lbfgs', order=(4, 0, 5), out_of_sample_size=0,\n",
              "      scoring='mse', scoring_args=None, seasonal_order=(0, 0, 0, 0),\n",
              "      start_params=None, suppress_warnings=False, trend=None,\n",
              "      with_intercept=True)"
            ]
          },
          "metadata": {
            "tags": []
          },
          "execution_count": 16
        }
      ]
    },
    {
      "cell_type": "code",
      "metadata": {
        "id": "gF-wDp2zqbUw",
        "colab_type": "code",
        "colab": {
          "base_uri": "https://localhost:8080/",
          "height": 591
        },
        "outputId": "2a0d1133-c5b7-48cc-d515-59244438b668"
      },
      "source": [
        "model_auto.summary()"
      ],
      "execution_count": 17,
      "outputs": [
        {
          "output_type": "execute_result",
          "data": {
            "text/html": [
              "<table class=\"simpletable\">\n",
              "<caption>Statespace Model Results</caption>\n",
              "<tr>\n",
              "  <th>Dep. Variable:</th>           <td>y</td>        <th>  No. Observations:  </th>   <td>5019</td>   \n",
              "</tr>\n",
              "<tr>\n",
              "  <th>Model:</th>           <td>SARIMAX(4, 0, 5)</td> <th>  Log Likelihood     </th> <td>-7882.658</td>\n",
              "</tr>\n",
              "<tr>\n",
              "  <th>Date:</th>            <td>Tue, 17 Mar 2020</td> <th>  AIC                </th> <td>15787.316</td>\n",
              "</tr>\n",
              "<tr>\n",
              "  <th>Time:</th>                <td>22:46:01</td>     <th>  BIC                </th> <td>15859.047</td>\n",
              "</tr>\n",
              "<tr>\n",
              "  <th>Sample:</th>                  <td>0</td>        <th>  HQIC               </th> <td>15812.452</td>\n",
              "</tr>\n",
              "<tr>\n",
              "  <th></th>                      <td> - 5019</td>     <th>                     </th>     <td> </td>    \n",
              "</tr>\n",
              "<tr>\n",
              "  <th>Covariance Type:</th>        <td>opg</td>       <th>                     </th>     <td> </td>    \n",
              "</tr>\n",
              "</table>\n",
              "<table class=\"simpletable\">\n",
              "<tr>\n",
              "      <td></td>         <th>coef</th>     <th>std err</th>      <th>z</th>      <th>P>|z|</th>  <th>[0.025</th>    <th>0.975]</th>  \n",
              "</tr>\n",
              "<tr>\n",
              "  <th>intercept</th> <td>    0.0309</td> <td>    0.025</td> <td>    1.246</td> <td> 0.213</td> <td>   -0.018</td> <td>    0.080</td>\n",
              "</tr>\n",
              "<tr>\n",
              "  <th>ar.L1</th>     <td>    0.0135</td> <td>    0.082</td> <td>    0.165</td> <td> 0.869</td> <td>   -0.147</td> <td>    0.174</td>\n",
              "</tr>\n",
              "<tr>\n",
              "  <th>ar.L2</th>     <td>   -0.6690</td> <td>    0.077</td> <td>   -8.645</td> <td> 0.000</td> <td>   -0.821</td> <td>   -0.517</td>\n",
              "</tr>\n",
              "<tr>\n",
              "  <th>ar.L3</th>     <td>   -0.1616</td> <td>    0.072</td> <td>   -2.260</td> <td> 0.024</td> <td>   -0.302</td> <td>   -0.021</td>\n",
              "</tr>\n",
              "<tr>\n",
              "  <th>ar.L4</th>     <td>    0.1898</td> <td>    0.074</td> <td>    2.553</td> <td> 0.011</td> <td>    0.044</td> <td>    0.335</td>\n",
              "</tr>\n",
              "<tr>\n",
              "  <th>ma.L1</th>     <td>   -0.0384</td> <td>    0.081</td> <td>   -0.471</td> <td> 0.637</td> <td>   -0.198</td> <td>    0.121</td>\n",
              "</tr>\n",
              "<tr>\n",
              "  <th>ma.L2</th>     <td>    0.6205</td> <td>    0.078</td> <td>    7.933</td> <td> 0.000</td> <td>    0.467</td> <td>    0.774</td>\n",
              "</tr>\n",
              "<tr>\n",
              "  <th>ma.L3</th>     <td>    0.0592</td> <td>    0.069</td> <td>    0.858</td> <td> 0.391</td> <td>   -0.076</td> <td>    0.194</td>\n",
              "</tr>\n",
              "<tr>\n",
              "  <th>ma.L4</th>     <td>   -0.1836</td> <td>    0.073</td> <td>   -2.510</td> <td> 0.012</td> <td>   -0.327</td> <td>   -0.040</td>\n",
              "</tr>\n",
              "<tr>\n",
              "  <th>ma.L5</th>     <td>   -0.1063</td> <td>    0.010</td> <td>  -11.130</td> <td> 0.000</td> <td>   -0.125</td> <td>   -0.088</td>\n",
              "</tr>\n",
              "<tr>\n",
              "  <th>sigma2</th>    <td>    1.3541</td> <td>    0.015</td> <td>   91.128</td> <td> 0.000</td> <td>    1.325</td> <td>    1.383</td>\n",
              "</tr>\n",
              "</table>\n",
              "<table class=\"simpletable\">\n",
              "<tr>\n",
              "  <th>Ljung-Box (Q):</th>          <td>67.77</td> <th>  Jarque-Bera (JB):  </th> <td>6360.08</td>\n",
              "</tr>\n",
              "<tr>\n",
              "  <th>Prob(Q):</th>                <td>0.00</td>  <th>  Prob(JB):          </th>  <td>0.00</td>  \n",
              "</tr>\n",
              "<tr>\n",
              "  <th>Heteroskedasticity (H):</th> <td>2.00</td>  <th>  Skew:              </th>  <td>-0.19</td> \n",
              "</tr>\n",
              "<tr>\n",
              "  <th>Prob(H) (two-sided):</th>    <td>0.00</td>  <th>  Kurtosis:          </th>  <td>8.50</td>  \n",
              "</tr>\n",
              "</table><br/><br/>Warnings:<br/>[1] Covariance matrix calculated using the outer product of gradients (complex-step)."
            ],
            "text/plain": [
              "<class 'statsmodels.iolib.summary.Summary'>\n",
              "\"\"\"\n",
              "                           Statespace Model Results                           \n",
              "==============================================================================\n",
              "Dep. Variable:                      y   No. Observations:                 5019\n",
              "Model:               SARIMAX(4, 0, 5)   Log Likelihood               -7882.658\n",
              "Date:                Tue, 17 Mar 2020   AIC                          15787.316\n",
              "Time:                        22:46:01   BIC                          15859.047\n",
              "Sample:                             0   HQIC                         15812.452\n",
              "                               - 5019                                         \n",
              "Covariance Type:                  opg                                         \n",
              "==============================================================================\n",
              "                 coef    std err          z      P>|z|      [0.025      0.975]\n",
              "------------------------------------------------------------------------------\n",
              "intercept      0.0309      0.025      1.246      0.213      -0.018       0.080\n",
              "ar.L1          0.0135      0.082      0.165      0.869      -0.147       0.174\n",
              "ar.L2         -0.6690      0.077     -8.645      0.000      -0.821      -0.517\n",
              "ar.L3         -0.1616      0.072     -2.260      0.024      -0.302      -0.021\n",
              "ar.L4          0.1898      0.074      2.553      0.011       0.044       0.335\n",
              "ma.L1         -0.0384      0.081     -0.471      0.637      -0.198       0.121\n",
              "ma.L2          0.6205      0.078      7.933      0.000       0.467       0.774\n",
              "ma.L3          0.0592      0.069      0.858      0.391      -0.076       0.194\n",
              "ma.L4         -0.1836      0.073     -2.510      0.012      -0.327      -0.040\n",
              "ma.L5         -0.1063      0.010    -11.130      0.000      -0.125      -0.088\n",
              "sigma2         1.3541      0.015     91.128      0.000       1.325       1.383\n",
              "===================================================================================\n",
              "Ljung-Box (Q):                       67.77   Jarque-Bera (JB):              6360.08\n",
              "Prob(Q):                              0.00   Prob(JB):                         0.00\n",
              "Heteroskedasticity (H):               2.00   Skew:                            -0.19\n",
              "Prob(H) (two-sided):                  0.00   Kurtosis:                         8.50\n",
              "===================================================================================\n",
              "\n",
              "Warnings:\n",
              "[1] Covariance matrix calculated using the outer product of gradients (complex-step).\n",
              "\"\"\""
            ]
          },
          "metadata": {
            "tags": []
          },
          "execution_count": 17
        }
      ]
    },
    {
      "cell_type": "code",
      "metadata": {
        "id": "zjlnwryTrNmj",
        "colab_type": "code",
        "colab": {}
      },
      "source": [
        "model_auto = auto_arima(df_comp.ret_ftse[1:], \n",
        "                        exogenous=df_comp[[\"ret_spx\", \"ret_dax\", \"ret_nikkei\"]][1:], \n",
        "                        m=5, max_order=None, max_p=7, max_q=7, max_d=2,\n",
        "                        max_P=4, max_Q=4, max_D=2,\n",
        "                        maxiter=50, alpha=0.05, n_jobs=-1, trend=\"ct\",\n",
        "                        information_critereion=\"oob\", \n",
        "                        out_of_sample_size=int(len(df_comp)*0.20))"
      ],
      "execution_count": 0,
      "outputs": []
    },
    {
      "cell_type": "code",
      "metadata": {
        "id": "qpqritI2tFwR",
        "colab_type": "code",
        "colab": {
          "base_uri": "https://localhost:8080/",
          "height": 570
        },
        "outputId": "9653dd7c-e392-47e5-aa82-9460a48c3576"
      },
      "source": [
        "model_auto.summary()"
      ],
      "execution_count": 19,
      "outputs": [
        {
          "output_type": "execute_result",
          "data": {
            "text/html": [
              "<table class=\"simpletable\">\n",
              "<caption>Statespace Model Results</caption>\n",
              "<tr>\n",
              "  <th>Dep. Variable:</th>                 <td>y</td>               <th>  No. Observations:  </th>   <td>6275</td>   \n",
              "</tr>\n",
              "<tr>\n",
              "  <th>Model:</th>           <td>SARIMAX(0, 0, 1)x(0, 0, 3, 5)</td> <th>  Log Likelihood     </th> <td>-6354.882</td>\n",
              "</tr>\n",
              "<tr>\n",
              "  <th>Date:</th>                  <td>Tue, 17 Mar 2020</td>        <th>  AIC                </th> <td>12729.764</td>\n",
              "</tr>\n",
              "<tr>\n",
              "  <th>Time:</th>                      <td>23:10:12</td>            <th>  BIC                </th> <td>12797.208</td>\n",
              "</tr>\n",
              "<tr>\n",
              "  <th>Sample:</th>                        <td>0</td>               <th>  HQIC               </th> <td>12753.132</td>\n",
              "</tr>\n",
              "<tr>\n",
              "  <th></th>                            <td> - 6275</td>            <th>                     </th>     <td> </td>    \n",
              "</tr>\n",
              "<tr>\n",
              "  <th>Covariance Type:</th>              <td>opg</td>              <th>                     </th>     <td> </td>    \n",
              "</tr>\n",
              "</table>\n",
              "<table class=\"simpletable\">\n",
              "<tr>\n",
              "      <td></td>         <th>coef</th>     <th>std err</th>      <th>z</th>      <th>P>|z|</th>  <th>[0.025</th>    <th>0.975]</th>  \n",
              "</tr>\n",
              "<tr>\n",
              "  <th>intercept</th> <td>   -0.0062</td> <td>    0.015</td> <td>   -0.414</td> <td> 0.679</td> <td>   -0.035</td> <td>    0.023</td>\n",
              "</tr>\n",
              "<tr>\n",
              "  <th>drift</th>     <td>-6.875e-07</td> <td> 4.59e-06</td> <td>   -0.150</td> <td> 0.881</td> <td>-9.68e-06</td> <td> 8.31e-06</td>\n",
              "</tr>\n",
              "<tr>\n",
              "  <th>x1</th>        <td>    0.0854</td> <td>    0.006</td> <td>   13.667</td> <td> 0.000</td> <td>    0.073</td> <td>    0.098</td>\n",
              "</tr>\n",
              "<tr>\n",
              "  <th>x2</th>        <td>    0.5634</td> <td>    0.005</td> <td>  103.668</td> <td> 0.000</td> <td>    0.553</td> <td>    0.574</td>\n",
              "</tr>\n",
              "<tr>\n",
              "  <th>x3</th>        <td>    0.0739</td> <td>    0.005</td> <td>   15.909</td> <td> 0.000</td> <td>    0.065</td> <td>    0.083</td>\n",
              "</tr>\n",
              "<tr>\n",
              "  <th>ma.L1</th>     <td>   -0.1196</td> <td>    0.008</td> <td>  -14.856</td> <td> 0.000</td> <td>   -0.135</td> <td>   -0.104</td>\n",
              "</tr>\n",
              "<tr>\n",
              "  <th>ma.S.L5</th>   <td>   -0.0320</td> <td>    0.009</td> <td>   -3.408</td> <td> 0.001</td> <td>   -0.050</td> <td>   -0.014</td>\n",
              "</tr>\n",
              "<tr>\n",
              "  <th>ma.S.L10</th>  <td>   -0.0558</td> <td>    0.010</td> <td>   -5.544</td> <td> 0.000</td> <td>   -0.076</td> <td>   -0.036</td>\n",
              "</tr>\n",
              "<tr>\n",
              "  <th>ma.S.L15</th>  <td>   -0.0269</td> <td>    0.010</td> <td>   -2.752</td> <td> 0.006</td> <td>   -0.046</td> <td>   -0.008</td>\n",
              "</tr>\n",
              "<tr>\n",
              "  <th>sigma2</th>    <td>    0.4893</td> <td>    0.005</td> <td>   92.703</td> <td> 0.000</td> <td>    0.479</td> <td>    0.500</td>\n",
              "</tr>\n",
              "</table>\n",
              "<table class=\"simpletable\">\n",
              "<tr>\n",
              "  <th>Ljung-Box (Q):</th>          <td>78.50</td> <th>  Jarque-Bera (JB):  </th> <td>13953.68</td>\n",
              "</tr>\n",
              "<tr>\n",
              "  <th>Prob(Q):</th>                <td>0.00</td>  <th>  Prob(JB):          </th>   <td>0.00</td>  \n",
              "</tr>\n",
              "<tr>\n",
              "  <th>Heteroskedasticity (H):</th> <td>0.54</td>  <th>  Skew:              </th>   <td>0.24</td>  \n",
              "</tr>\n",
              "<tr>\n",
              "  <th>Prob(H) (two-sided):</th>    <td>0.00</td>  <th>  Kurtosis:          </th>   <td>10.29</td> \n",
              "</tr>\n",
              "</table><br/><br/>Warnings:<br/>[1] Covariance matrix calculated using the outer product of gradients (complex-step)."
            ],
            "text/plain": [
              "<class 'statsmodels.iolib.summary.Summary'>\n",
              "\"\"\"\n",
              "                                 Statespace Model Results                                \n",
              "=========================================================================================\n",
              "Dep. Variable:                                 y   No. Observations:                 6275\n",
              "Model:             SARIMAX(0, 0, 1)x(0, 0, 3, 5)   Log Likelihood               -6354.882\n",
              "Date:                           Tue, 17 Mar 2020   AIC                          12729.764\n",
              "Time:                                   23:10:12   BIC                          12797.208\n",
              "Sample:                                        0   HQIC                         12753.132\n",
              "                                          - 6275                                         \n",
              "Covariance Type:                             opg                                         \n",
              "==============================================================================\n",
              "                 coef    std err          z      P>|z|      [0.025      0.975]\n",
              "------------------------------------------------------------------------------\n",
              "intercept     -0.0062      0.015     -0.414      0.679      -0.035       0.023\n",
              "drift      -6.875e-07   4.59e-06     -0.150      0.881   -9.68e-06    8.31e-06\n",
              "x1             0.0854      0.006     13.667      0.000       0.073       0.098\n",
              "x2             0.5634      0.005    103.668      0.000       0.553       0.574\n",
              "x3             0.0739      0.005     15.909      0.000       0.065       0.083\n",
              "ma.L1         -0.1196      0.008    -14.856      0.000      -0.135      -0.104\n",
              "ma.S.L5       -0.0320      0.009     -3.408      0.001      -0.050      -0.014\n",
              "ma.S.L10      -0.0558      0.010     -5.544      0.000      -0.076      -0.036\n",
              "ma.S.L15      -0.0269      0.010     -2.752      0.006      -0.046      -0.008\n",
              "sigma2         0.4893      0.005     92.703      0.000       0.479       0.500\n",
              "===================================================================================\n",
              "Ljung-Box (Q):                       78.50   Jarque-Bera (JB):             13953.68\n",
              "Prob(Q):                              0.00   Prob(JB):                         0.00\n",
              "Heteroskedasticity (H):               0.54   Skew:                             0.24\n",
              "Prob(H) (two-sided):                  0.00   Kurtosis:                        10.29\n",
              "===================================================================================\n",
              "\n",
              "Warnings:\n",
              "[1] Covariance matrix calculated using the outer product of gradients (complex-step).\n",
              "\"\"\""
            ]
          },
          "metadata": {
            "tags": []
          },
          "execution_count": 19
        }
      ]
    },
    {
      "cell_type": "code",
      "metadata": {
        "id": "yTym65JRtI6f",
        "colab_type": "code",
        "colab": {}
      },
      "source": [
        ""
      ],
      "execution_count": 0,
      "outputs": []
    }
  ]
}