{
  "nbformat": 4,
  "nbformat_minor": 0,
  "metadata": {
    "colab": {
      "name": "Markowitz_Efficient_Frontier.ipynb",
      "provenance": [],
      "collapsed_sections": []
    },
    "kernelspec": {
      "name": "python3",
      "display_name": "Python 3"
    }
  },
  "cells": [
    {
      "cell_type": "code",
      "metadata": {
        "id": "xe_gKUYZY6ac",
        "colab_type": "code",
        "colab": {}
      },
      "source": [
        "import numpy as np\n",
        "import pandas as pd\n",
        "from pandas_datareader import data as wb\n",
        "import matplotlib.pyplot as plt\n",
        "%matplotlib inline"
      ],
      "execution_count": 0,
      "outputs": []
    },
    {
      "cell_type": "code",
      "metadata": {
        "id": "1ckxAjvDZLw0",
        "colab_type": "code",
        "colab": {}
      },
      "source": [
        "assets = ['PG', '^GSPC']\n",
        "pf_data = pd.DataFrame()\n",
        "for a in assets:\n",
        "  pf_data[a] = wb.DataReader(a, data_source='yahoo', start='2010-1-1')['Adj Close']"
      ],
      "execution_count": 0,
      "outputs": []
    },
    {
      "cell_type": "code",
      "metadata": {
        "id": "6duumijWZbZM",
        "colab_type": "code",
        "colab": {
          "base_uri": "https://localhost:8080/",
          "height": 235
        },
        "outputId": "ea1669d4-152b-41e5-9c95-61a565a98a23"
      },
      "source": [
        "pf_data.tail()"
      ],
      "execution_count": 3,
      "outputs": [
        {
          "output_type": "execute_result",
          "data": {
            "text/html": [
              "<div>\n",
              "<style scoped>\n",
              "    .dataframe tbody tr th:only-of-type {\n",
              "        vertical-align: middle;\n",
              "    }\n",
              "\n",
              "    .dataframe tbody tr th {\n",
              "        vertical-align: top;\n",
              "    }\n",
              "\n",
              "    .dataframe thead th {\n",
              "        text-align: right;\n",
              "    }\n",
              "</style>\n",
              "<table border=\"1\" class=\"dataframe\">\n",
              "  <thead>\n",
              "    <tr style=\"text-align: right;\">\n",
              "      <th></th>\n",
              "      <th>PG</th>\n",
              "      <th>^GSPC</th>\n",
              "    </tr>\n",
              "    <tr>\n",
              "      <th>Date</th>\n",
              "      <th></th>\n",
              "      <th></th>\n",
              "    </tr>\n",
              "  </thead>\n",
              "  <tbody>\n",
              "    <tr>\n",
              "      <th>2020-02-26</th>\n",
              "      <td>120.160004</td>\n",
              "      <td>3116.389893</td>\n",
              "    </tr>\n",
              "    <tr>\n",
              "      <th>2020-02-27</th>\n",
              "      <td>113.500000</td>\n",
              "      <td>2978.760010</td>\n",
              "    </tr>\n",
              "    <tr>\n",
              "      <th>2020-02-28</th>\n",
              "      <td>113.230003</td>\n",
              "      <td>2954.219971</td>\n",
              "    </tr>\n",
              "    <tr>\n",
              "      <th>2020-03-02</th>\n",
              "      <td>119.559998</td>\n",
              "      <td>3090.229980</td>\n",
              "    </tr>\n",
              "    <tr>\n",
              "      <th>2020-03-03</th>\n",
              "      <td>118.169998</td>\n",
              "      <td>3003.370117</td>\n",
              "    </tr>\n",
              "  </tbody>\n",
              "</table>\n",
              "</div>"
            ],
            "text/plain": [
              "                    PG        ^GSPC\n",
              "Date                               \n",
              "2020-02-26  120.160004  3116.389893\n",
              "2020-02-27  113.500000  2978.760010\n",
              "2020-02-28  113.230003  2954.219971\n",
              "2020-03-02  119.559998  3090.229980\n",
              "2020-03-03  118.169998  3003.370117"
            ]
          },
          "metadata": {
            "tags": []
          },
          "execution_count": 3
        }
      ]
    },
    {
      "cell_type": "code",
      "metadata": {
        "id": "nNhVwH4LZfYU",
        "colab_type": "code",
        "colab": {
          "base_uri": "https://localhost:8080/",
          "height": 336
        },
        "outputId": "fbd9527d-3c17-4df2-a127-b93b30884c59"
      },
      "source": [
        "(pf_data / pf_data.iloc[0] * 100).plot(figsize=(10, 5))"
      ],
      "execution_count": 4,
      "outputs": [
        {
          "output_type": "execute_result",
          "data": {
            "text/plain": [
              "<matplotlib.axes._subplots.AxesSubplot at 0x7fb25d317e10>"
            ]
          },
          "metadata": {
            "tags": []
          },
          "execution_count": 4
        },
        {
          "output_type": "display_data",
          "data": {
            "image/png": "[encoded data removed]",
            "text/plain": [
              "<Figure size 720x360 with 1 Axes>"
            ]
          },
          "metadata": {
            "tags": []
          }
        }
      ]
    },
    {
      "cell_type": "code",
      "metadata": {
        "id": "moQpyI-oZnV4",
        "colab_type": "code",
        "colab": {}
      },
      "source": [
        "log_returns = np.log(pf_data / pf_data.shift(1))"
      ],
      "execution_count": 0,
      "outputs": []
    },
    {
      "cell_type": "code",
      "metadata": {
        "id": "jl0VfP1BZzBj",
        "colab_type": "code",
        "colab": {
          "base_uri": "https://localhost:8080/",
          "height": 71
        },
        "outputId": "dfa12e52-2791-4d0f-95e6-6aecd1465134"
      },
      "source": [
        "log_returns.mean() * 250"
      ],
      "execution_count": 6,
      "outputs": [
        {
          "output_type": "execute_result",
          "data": {
            "text/plain": [
              "PG       0.095811\n",
              "^GSPC    0.095314\n",
              "dtype: float64"
            ]
          },
          "metadata": {
            "tags": []
          },
          "execution_count": 6
        }
      ]
    },
    {
      "cell_type": "code",
      "metadata": {
        "id": "AZohKN0AZ3MZ",
        "colab_type": "code",
        "colab": {
          "base_uri": "https://localhost:8080/",
          "height": 111
        },
        "outputId": "5c405981-08a2-4b8e-ad46-251444d40e88"
      },
      "source": [
        "log_returns.cov() * 250"
      ],
      "execution_count": 7,
      "outputs": [
        {
          "output_type": "execute_result",
          "data": {
            "text/html": [
              "<div>\n",
              "<style scoped>\n",
              "    .dataframe tbody tr th:only-of-type {\n",
              "        vertical-align: middle;\n",
              "    }\n",
              "\n",
              "    .dataframe tbody tr th {\n",
              "        vertical-align: top;\n",
              "    }\n",
              "\n",
              "    .dataframe thead th {\n",
              "        text-align: right;\n",
              "    }\n",
              "</style>\n",
              "<table border=\"1\" class=\"dataframe\">\n",
              "  <thead>\n",
              "    <tr style=\"text-align: right;\">\n",
              "      <th></th>\n",
              "      <th>PG</th>\n",
              "      <th>^GSPC</th>\n",
              "    </tr>\n",
              "  </thead>\n",
              "  <tbody>\n",
              "    <tr>\n",
              "      <th>PG</th>\n",
              "      <td>0.022266</td>\n",
              "      <td>0.011831</td>\n",
              "    </tr>\n",
              "    <tr>\n",
              "      <th>^GSPC</th>\n",
              "      <td>0.011831</td>\n",
              "      <td>0.022223</td>\n",
              "    </tr>\n",
              "  </tbody>\n",
              "</table>\n",
              "</div>"
            ],
            "text/plain": [
              "             PG     ^GSPC\n",
              "PG     0.022266  0.011831\n",
              "^GSPC  0.011831  0.022223"
            ]
          },
          "metadata": {
            "tags": []
          },
          "execution_count": 7
        }
      ]
    },
    {
      "cell_type": "code",
      "metadata": {
        "id": "heTOFHNBZ5s9",
        "colab_type": "code",
        "colab": {
          "base_uri": "https://localhost:8080/",
          "height": 111
        },
        "outputId": "8d148fca-a4f5-448f-d48a-48cc52a4c35c"
      },
      "source": [
        "log_returns.corr()"
      ],
      "execution_count": 8,
      "outputs": [
        {
          "output_type": "execute_result",
          "data": {
            "text/html": [
              "<div>\n",
              "<style scoped>\n",
              "    .dataframe tbody tr th:only-of-type {\n",
              "        vertical-align: middle;\n",
              "    }\n",
              "\n",
              "    .dataframe tbody tr th {\n",
              "        vertical-align: top;\n",
              "    }\n",
              "\n",
              "    .dataframe thead th {\n",
              "        text-align: right;\n",
              "    }\n",
              "</style>\n",
              "<table border=\"1\" class=\"dataframe\">\n",
              "  <thead>\n",
              "    <tr style=\"text-align: right;\">\n",
              "      <th></th>\n",
              "      <th>PG</th>\n",
              "      <th>^GSPC</th>\n",
              "    </tr>\n",
              "  </thead>\n",
              "  <tbody>\n",
              "    <tr>\n",
              "      <th>PG</th>\n",
              "      <td>1.000000</td>\n",
              "      <td>0.531857</td>\n",
              "    </tr>\n",
              "    <tr>\n",
              "      <th>^GSPC</th>\n",
              "      <td>0.531857</td>\n",
              "      <td>1.000000</td>\n",
              "    </tr>\n",
              "  </tbody>\n",
              "</table>\n",
              "</div>"
            ],
            "text/plain": [
              "             PG     ^GSPC\n",
              "PG     1.000000  0.531857\n",
              "^GSPC  0.531857  1.000000"
            ]
          },
          "metadata": {
            "tags": []
          },
          "execution_count": 8
        }
      ]
    },
    {
      "cell_type": "code",
      "metadata": {
        "id": "T6JMxzMEZ7Xy",
        "colab_type": "code",
        "colab": {}
      },
      "source": [
        "num_assets = len(assets)"
      ],
      "execution_count": 0,
      "outputs": []
    },
    {
      "cell_type": "code",
      "metadata": {
        "id": "zXAWLDGzaAXR",
        "colab_type": "code",
        "colab": {
          "base_uri": "https://localhost:8080/",
          "height": 35
        },
        "outputId": "17383c8c-4e31-4ccd-b03f-06232b9c589e"
      },
      "source": [
        "num_assets"
      ],
      "execution_count": 10,
      "outputs": [
        {
          "output_type": "execute_result",
          "data": {
            "text/plain": [
              "2"
            ]
          },
          "metadata": {
            "tags": []
          },
          "execution_count": 10
        }
      ]
    },
    {
      "cell_type": "code",
      "metadata": {
        "id": "fcbq1k6eaBNr",
        "colab_type": "code",
        "colab": {
          "base_uri": "https://localhost:8080/",
          "height": 35
        },
        "outputId": "d6d58414-a34c-4106-b075-54f9416433d1"
      },
      "source": [
        "arr = np.random.random(2)\n",
        "arr"
      ],
      "execution_count": 11,
      "outputs": [
        {
          "output_type": "execute_result",
          "data": {
            "text/plain": [
              "array([0.57668914, 0.9174009 ])"
            ]
          },
          "metadata": {
            "tags": []
          },
          "execution_count": 11
        }
      ]
    },
    {
      "cell_type": "code",
      "metadata": {
        "id": "EZOMluE9aEfM",
        "colab_type": "code",
        "colab": {
          "base_uri": "https://localhost:8080/",
          "height": 35
        },
        "outputId": "ba504aa4-3bf8-48bf-ee7f-2a768cc601b5"
      },
      "source": [
        "arr[0] + arr[1]"
      ],
      "execution_count": 12,
      "outputs": [
        {
          "output_type": "execute_result",
          "data": {
            "text/plain": [
              "1.4940900380763433"
            ]
          },
          "metadata": {
            "tags": []
          },
          "execution_count": 12
        }
      ]
    },
    {
      "cell_type": "code",
      "metadata": {
        "id": "e_ND57eAaGlx",
        "colab_type": "code",
        "colab": {
          "base_uri": "https://localhost:8080/",
          "height": 35
        },
        "outputId": "9db6aa52-d6a1-450f-8060-8d391b69e254"
      },
      "source": [
        "weights = np.random.random(num_assets)\n",
        "weights /= np.sum(weights)\n",
        "weights"
      ],
      "execution_count": 13,
      "outputs": [
        {
          "output_type": "execute_result",
          "data": {
            "text/plain": [
              "array([0.6639997, 0.3360003])"
            ]
          },
          "metadata": {
            "tags": []
          },
          "execution_count": 13
        }
      ]
    },
    {
      "cell_type": "code",
      "metadata": {
        "id": "HMz3ZzeRaQzW",
        "colab_type": "code",
        "colab": {
          "base_uri": "https://localhost:8080/",
          "height": 35
        },
        "outputId": "4fcef913-f983-435d-92dc-7cbb11f84c1a"
      },
      "source": [
        "weights[0] + weights[1]"
      ],
      "execution_count": 14,
      "outputs": [
        {
          "output_type": "execute_result",
          "data": {
            "text/plain": [
              "1.0"
            ]
          },
          "metadata": {
            "tags": []
          },
          "execution_count": 14
        }
      ]
    },
    {
      "cell_type": "markdown",
      "metadata": {
        "id": "bsLk89E5adi3",
        "colab_type": "text"
      },
      "source": [
        "## Expected Portfolio Return"
      ]
    },
    {
      "cell_type": "code",
      "metadata": {
        "id": "k0jCfFr_aTZV",
        "colab_type": "code",
        "colab": {
          "base_uri": "https://localhost:8080/",
          "height": 35
        },
        "outputId": "280e9d86-8e43-41db-dd88-f71117317153"
      },
      "source": [
        "np.sum(weights * log_returns.mean()) * 250"
      ],
      "execution_count": 15,
      "outputs": [
        {
          "output_type": "execute_result",
          "data": {
            "text/plain": [
              "0.09564400342362177"
            ]
          },
          "metadata": {
            "tags": []
          },
          "execution_count": 15
        }
      ]
    },
    {
      "cell_type": "markdown",
      "metadata": {
        "id": "-oXWn99DaoV_",
        "colab_type": "text"
      },
      "source": [
        "## Expected Portfolio Variance"
      ]
    },
    {
      "cell_type": "code",
      "metadata": {
        "id": "G7kYvJEtajqK",
        "colab_type": "code",
        "colab": {
          "base_uri": "https://localhost:8080/",
          "height": 35
        },
        "outputId": "17303aa7-ddf7-441e-b4b1-5aa9fcfc96aa"
      },
      "source": [
        "np.dot(weights.T, np.dot(log_returns.cov() * 250, weights))"
      ],
      "execution_count": 16,
      "outputs": [
        {
          "output_type": "execute_result",
          "data": {
            "text/plain": [
              "0.01760485437441109"
            ]
          },
          "metadata": {
            "tags": []
          },
          "execution_count": 16
        }
      ]
    },
    {
      "cell_type": "markdown",
      "metadata": {
        "id": "dgO89Zk-a6lN",
        "colab_type": "text"
      },
      "source": [
        "# Expected Portfolio Volatility"
      ]
    },
    {
      "cell_type": "code",
      "metadata": {
        "id": "DI7PqzDFayUi",
        "colab_type": "code",
        "colab": {
          "base_uri": "https://localhost:8080/",
          "height": 35
        },
        "outputId": "d85267a0-1961-4342-9cd6-8ea3f1255f7f"
      },
      "source": [
        "np.sqrt(np.dot(weights.T, np.dot(log_returns.cov() * 250, weights)))"
      ],
      "execution_count": 17,
      "outputs": [
        {
          "output_type": "execute_result",
          "data": {
            "text/plain": [
              "0.13268328596477813"
            ]
          },
          "metadata": {
            "tags": []
          },
          "execution_count": 17
        }
      ]
    },
    {
      "cell_type": "code",
      "metadata": {
        "id": "jkGCQ0vWa2k3",
        "colab_type": "code",
        "colab": {
          "base_uri": "https://localhost:8080/",
          "height": 1000
        },
        "outputId": "60737eb4-a103-4d18-c5fb-7fc11064cdde"
      },
      "source": [
        "pfolio_returns = []\n",
        "pfolio_volatilities = []\n",
        "\n",
        "for x in range(1000):\n",
        "  weights = np.random.random(num_assets)\n",
        "  weights /= np.sum(weights)\n",
        "  pfolio_returns.append(np.sum(weights * log_returns.mean() * 250))\n",
        "  pfolio_volatilities.append(np.sqrt(np.dot(weights.T, np.dot(log_returns.cov() * 250, weights))))\n",
        "\n",
        "pfolio_returns = np.array(pfolio_returns)\n",
        "pfolio_volatilities = np.array(pfolio_volatilities)\n",
        "\n",
        "pfolio_returns, pfolio_volatilities"
      ],
      "execution_count": 18,
      "outputs": [
        {
          "output_type": "execute_result",
          "data": {
            "text/plain": [
              "(array([0.09563094, 0.09563896, 0.09532706, 0.09553971, 0.09573287,\n",
              "        0.09563111, 0.09552582, 0.09556011, 0.09539528, 0.09536236,\n",
              "        0.09570666, 0.09562693, 0.09565032, 0.0956194 , 0.09574702,\n",
              "        0.09541758, 0.0957921 , 0.09540753, 0.09554392, 0.09548723,\n",
              "        0.09557981, 0.0956931 , 0.0955905 , 0.09553014, 0.09535159,\n",
              "        0.0954088 , 0.09570714, 0.09554159, 0.09563115, 0.09549371,\n",
              "        0.09567529, 0.09556562, 0.09556002, 0.09563025, 0.09578405,\n",
              "        0.09577018, 0.09562459, 0.09554715, 0.09546517, 0.09559001,\n",
              "        0.09548097, 0.09571817, 0.09566899, 0.09545625, 0.09553318,\n",
              "        0.09538291, 0.09547837, 0.09535587, 0.09569194, 0.0954973 ,\n",
              "        0.09562944, 0.09565206, 0.09580674, 0.09574585, 0.09538631,\n",
              "        0.09552538, 0.09556086, 0.09568947, 0.09547005, 0.09553776,\n",
              "        0.09562483, 0.09569312, 0.09539602, 0.09558701, 0.09567171,\n",
              "        0.09532785, 0.09560316, 0.0953194 , 0.09573537, 0.09564308,\n",
              "        0.09574326, 0.09557589, 0.09543537, 0.09563488, 0.09574333,\n",
              "        0.09557441, 0.09539996, 0.09555529, 0.09554715, 0.09550588,\n",
              "        0.09556496, 0.09543407, 0.09547768, 0.09558833, 0.09551252,\n",
              "        0.09548499, 0.09572051, 0.09554762, 0.09544661, 0.09556803,\n",
              "        0.0955825 , 0.09556069, 0.09568756, 0.09556021, 0.09557932,\n",
              "        0.09558624, 0.09558203, 0.09562921, 0.09558086, 0.09544994,\n",
              "        0.09560901, 0.0953418 , 0.09572703, 0.09557712, 0.09542799,\n",
              "        0.0953218 , 0.09580344, 0.09548972, 0.09562682, 0.09564469,\n",
              "        0.09538743, 0.09538577, 0.09548966, 0.09557598, 0.09551851,\n",
              "        0.09548337, 0.09560787, 0.0955681 , 0.09573687, 0.09564328,\n",
              "        0.09560309, 0.09552789, 0.09568269, 0.09566115, 0.09559693,\n",
              "        0.09549651, 0.09572104, 0.095556  , 0.09557675, 0.09548977,\n",
              "        0.0956769 , 0.09543219, 0.09557261, 0.09538473, 0.09541388,\n",
              "        0.09568836, 0.09551472, 0.0955621 , 0.09575151, 0.09531924,\n",
              "        0.09573434, 0.09549602, 0.09561319, 0.09562053, 0.09539721,\n",
              "        0.09577682, 0.09570687, 0.09558161, 0.09569139, 0.09557994,\n",
              "        0.09532065, 0.09578238, 0.09563279, 0.09569283, 0.09546924,\n",
              "        0.09559325, 0.09563139, 0.09567595, 0.09558038, 0.09564695,\n",
              "        0.09555305, 0.09565479, 0.09550439, 0.0955685 , 0.09555442,\n",
              "        0.09579533, 0.09559462, 0.09555201, 0.09574366, 0.09536698,\n",
              "        0.095553  , 0.09537359, 0.09544712, 0.09533435, 0.09557385,\n",
              "        0.09571142, 0.09572906, 0.09564312, 0.09545987, 0.09555709,\n",
              "        0.0957745 , 0.09555214, 0.09551824, 0.09554936, 0.09563151,\n",
              "        0.09561658, 0.09565826, 0.09559432, 0.09558192, 0.09558226,\n",
              "        0.09532254, 0.09568509, 0.09560871, 0.09533362, 0.09551494,\n",
              "        0.09565278, 0.09545359, 0.09573355, 0.09556015, 0.09540367,\n",
              "        0.09578723, 0.09577635, 0.09578141, 0.09564584, 0.09556002,\n",
              "        0.09578151, 0.09548103, 0.09551011, 0.09566408, 0.09547902,\n",
              "        0.09569446, 0.09569762, 0.09564945, 0.09531818, 0.09559217,\n",
              "        0.09556868, 0.09552099, 0.09561293, 0.09562626, 0.09554499,\n",
              "        0.09565667, 0.09558035, 0.09555096, 0.09577423, 0.09572379,\n",
              "        0.09567678, 0.09542734, 0.09569628, 0.09550194, 0.09556841,\n",
              "        0.09536104, 0.09548763, 0.09564151, 0.09548614, 0.09545981,\n",
              "        0.0955318 , 0.09574157, 0.09546193, 0.0957385 , 0.09564718,\n",
              "        0.09564045, 0.09574074, 0.09534753, 0.09558275, 0.09577421,\n",
              "        0.09550081, 0.09544252, 0.09540618, 0.09566494, 0.09543727,\n",
              "        0.09575861, 0.09546582, 0.09560996, 0.0957106 , 0.09570776,\n",
              "        0.09560898, 0.09535905, 0.09567478, 0.09579774, 0.09542912,\n",
              "        0.09553981, 0.09531693, 0.09552756, 0.09532585, 0.09570617,\n",
              "        0.09541116, 0.09554391, 0.09558064, 0.09537863, 0.09574727,\n",
              "        0.09562191, 0.09562885, 0.09540629, 0.09553083, 0.09567279,\n",
              "        0.09556163, 0.09539948, 0.09553723, 0.09564642, 0.09549249,\n",
              "        0.095325  , 0.09551416, 0.09550767, 0.09547183, 0.09559443,\n",
              "        0.09550939, 0.0956631 , 0.09559476, 0.09563302, 0.0956216 ,\n",
              "        0.09558934, 0.0954571 , 0.095594  , 0.09549672, 0.09546034,\n",
              "        0.09551443, 0.0955794 , 0.09575003, 0.09546646, 0.09566468,\n",
              "        0.09543153, 0.09565534, 0.09558148, 0.09566306, 0.09573621,\n",
              "        0.09535181, 0.09540117, 0.09563071, 0.09569743, 0.09546877,\n",
              "        0.09572449, 0.09556875, 0.09555754, 0.09558816, 0.09551078,\n",
              "        0.09564148, 0.09560051, 0.09571573, 0.09563532, 0.09544393,\n",
              "        0.0956617 , 0.09572789, 0.09570543, 0.0954859 , 0.09548466,\n",
              "        0.0953808 , 0.09552851, 0.09580849, 0.09566735, 0.09557903,\n",
              "        0.09546408, 0.09561374, 0.09562439, 0.09544895, 0.09563408,\n",
              "        0.09538869, 0.09533541, 0.0954324 , 0.09572003, 0.09568202,\n",
              "        0.09548247, 0.09573609, 0.09581038, 0.09562811, 0.09551605,\n",
              "        0.09558072, 0.09560547, 0.09570736, 0.09571428, 0.09555472,\n",
              "        0.09561737, 0.09553629, 0.09550666, 0.09532425, 0.09562178,\n",
              "        0.09558826, 0.09559733, 0.09550523, 0.0957799 , 0.09540833,\n",
              "        0.09557536, 0.09575022, 0.09561739, 0.09565703, 0.09580436,\n",
              "        0.09577774, 0.0956551 , 0.09555242, 0.0954641 , 0.09554634,\n",
              "        0.09563935, 0.09558802, 0.09553145, 0.09543529, 0.09562494,\n",
              "        0.09574651, 0.09544009, 0.09559673, 0.09547109, 0.0955317 ,\n",
              "        0.09543361, 0.09541864, 0.0955495 , 0.09532084, 0.09580063,\n",
              "        0.0957364 , 0.09562131, 0.09567201, 0.09547704, 0.09568763,\n",
              "        0.09551834, 0.09564626, 0.09557946, 0.09556332, 0.09553089,\n",
              "        0.09532018, 0.09572887, 0.09550171, 0.09549627, 0.09566174,\n",
              "        0.09534579, 0.09565812, 0.09560742, 0.0956302 , 0.09567983,\n",
              "        0.09551228, 0.09556541, 0.09556637, 0.09547971, 0.09567299,\n",
              "        0.09558967, 0.0956714 , 0.09581064, 0.09534234, 0.09550063,\n",
              "        0.09561017, 0.09533976, 0.09545966, 0.09534111, 0.09561914,\n",
              "        0.09534894, 0.09570283, 0.09563968, 0.09548684, 0.09569595,\n",
              "        0.09560324, 0.09552885, 0.09575237, 0.09558364, 0.09550088,\n",
              "        0.09579287, 0.09568499, 0.0956155 , 0.09563285, 0.09576821,\n",
              "        0.09564676, 0.09568871, 0.09554348, 0.09532072, 0.09545567,\n",
              "        0.09548934, 0.09553637, 0.09539779, 0.09546405, 0.09573183,\n",
              "        0.09534031, 0.09539161, 0.09566131, 0.09537981, 0.09554498,\n",
              "        0.09568872, 0.09568432, 0.09550893, 0.09550583, 0.09552782,\n",
              "        0.09536621, 0.09549133, 0.09573218, 0.09552172, 0.09551273,\n",
              "        0.09574504, 0.09573097, 0.09562902, 0.09570038, 0.09555118,\n",
              "        0.09561294, 0.09556393, 0.09577706, 0.0955068 , 0.09564674,\n",
              "        0.09541781, 0.09559089, 0.09545293, 0.09566295, 0.09566388,\n",
              "        0.09562559, 0.09555069, 0.09568528, 0.09558867, 0.0956858 ,\n",
              "        0.09556398, 0.09554403, 0.09557618, 0.09565537, 0.09559171,\n",
              "        0.09560236, 0.09555789, 0.09533223, 0.09541951, 0.09534105,\n",
              "        0.09557217, 0.09569341, 0.0956076 , 0.09542151, 0.09539114,\n",
              "        0.09572037, 0.09534363, 0.09552452, 0.09541765, 0.09562288,\n",
              "        0.09556185, 0.09540938, 0.09573766, 0.09535704, 0.09543161,\n",
              "        0.09552208, 0.09570271, 0.095712  , 0.09574377, 0.09543372,\n",
              "        0.09574737, 0.09536629, 0.09572688, 0.09556587, 0.09559533,\n",
              "        0.09560875, 0.09563878, 0.09562543, 0.09539598, 0.09572072,\n",
              "        0.09576542, 0.09536371, 0.095636  , 0.09537384, 0.09580403,\n",
              "        0.09554078, 0.09572627, 0.09533182, 0.09539095, 0.09551062,\n",
              "        0.09580029, 0.09571797, 0.09580823, 0.09539971, 0.09546419,\n",
              "        0.09569761, 0.09570915, 0.09553516, 0.09544339, 0.09558517,\n",
              "        0.09562703, 0.09559389, 0.0953149 , 0.09546435, 0.09569638,\n",
              "        0.09574675, 0.09556158, 0.09535959, 0.09532885, 0.09547499,\n",
              "        0.09576991, 0.09558328, 0.09572549, 0.09545208, 0.09547353,\n",
              "        0.09544708, 0.09549305, 0.09540181, 0.09559532, 0.09558695,\n",
              "        0.09534372, 0.09561225, 0.09575986, 0.09568113, 0.09568432,\n",
              "        0.09565712, 0.09543118, 0.09548532, 0.095609  , 0.09556295,\n",
              "        0.0955682 , 0.09565462, 0.09546058, 0.0954081 , 0.09579855,\n",
              "        0.0957229 , 0.09550797, 0.09533947, 0.0954375 , 0.09540261,\n",
              "        0.09551375, 0.09534553, 0.0957579 , 0.09540237, 0.09545158,\n",
              "        0.09561571, 0.09567621, 0.09563612, 0.09556863, 0.09554511,\n",
              "        0.09555666, 0.0954261 , 0.0955377 , 0.09543881, 0.09564568,\n",
              "        0.09547133, 0.09555107, 0.09554395, 0.09553763, 0.0956833 ,\n",
              "        0.0956394 , 0.09563724, 0.0956413 , 0.09534234, 0.09554753,\n",
              "        0.09533933, 0.09538668, 0.09548743, 0.09543671, 0.09535572,\n",
              "        0.09556751, 0.09563274, 0.09563565, 0.09557586, 0.09562525,\n",
              "        0.09540147, 0.09545939, 0.09554546, 0.09575593, 0.09538273,\n",
              "        0.09567958, 0.09546167, 0.09566998, 0.09545124, 0.0956857 ,\n",
              "        0.09570621, 0.09557149, 0.09538307, 0.09560028, 0.09537433,\n",
              "        0.09551254, 0.09554438, 0.09570045, 0.09554872, 0.09561621,\n",
              "        0.09556437, 0.09553408, 0.09544405, 0.09562414, 0.09577232,\n",
              "        0.09535154, 0.09552463, 0.09538021, 0.09563037, 0.09553552,\n",
              "        0.09549851, 0.09562522, 0.09552178, 0.09564971, 0.09564506,\n",
              "        0.09566669, 0.09570509, 0.0957863 , 0.0955296 , 0.09551742,\n",
              "        0.0956068 , 0.09561154, 0.09568375, 0.09540654, 0.0955288 ,\n",
              "        0.09557462, 0.09561737, 0.09561937, 0.09558727, 0.09564972,\n",
              "        0.09541857, 0.09570158, 0.09534485, 0.09553098, 0.09559572,\n",
              "        0.0956558 , 0.095319  , 0.0955717 , 0.09570199, 0.09580813,\n",
              "        0.09546073, 0.09534022, 0.09559594, 0.09538044, 0.0953618 ,\n",
              "        0.09563976, 0.09546541, 0.09556821, 0.09538022, 0.09547666,\n",
              "        0.09550883, 0.09533368, 0.09567014, 0.09549474, 0.09566556,\n",
              "        0.09562445, 0.09556127, 0.09560934, 0.09546535, 0.09563854,\n",
              "        0.09554244, 0.09534865, 0.09552121, 0.09557437, 0.09552962,\n",
              "        0.09567966, 0.09555899, 0.09554198, 0.09556413, 0.09560718,\n",
              "        0.09548434, 0.09538819, 0.09553392, 0.09552369, 0.09541367,\n",
              "        0.09553772, 0.0955256 , 0.09552508, 0.09575407, 0.09550095,\n",
              "        0.09550289, 0.09550314, 0.09558223, 0.0955167 , 0.0954706 ,\n",
              "        0.09578152, 0.09543477, 0.09557437, 0.09545284, 0.09555476,\n",
              "        0.09539818, 0.09535499, 0.09533613, 0.09548807, 0.09571509,\n",
              "        0.095495  , 0.09564837, 0.09559703, 0.09562375, 0.09554768,\n",
              "        0.09549485, 0.09580797, 0.09578466, 0.09550166, 0.09549965,\n",
              "        0.09572844, 0.09576868, 0.09555866, 0.09558533, 0.09551137,\n",
              "        0.09553419, 0.09569652, 0.09555052, 0.09553333, 0.09545657,\n",
              "        0.09532287, 0.09549413, 0.09559663, 0.09551048, 0.09570383,\n",
              "        0.09555514, 0.09551168, 0.0955412 , 0.09553455, 0.09558387,\n",
              "        0.09559771, 0.09559311, 0.09562636, 0.09558609, 0.0955749 ,\n",
              "        0.09544891, 0.09551693, 0.09563286, 0.09553868, 0.09563352,\n",
              "        0.09556674, 0.09560119, 0.09552373, 0.09557605, 0.09538002,\n",
              "        0.09557604, 0.0956838 , 0.09580721, 0.09535482, 0.09561187,\n",
              "        0.09562968, 0.09551768, 0.09564755, 0.09542845, 0.09572953,\n",
              "        0.09557622, 0.0954403 , 0.09535938, 0.09575113, 0.09553016,\n",
              "        0.095689  , 0.09552338, 0.09564443, 0.09542707, 0.09565787,\n",
              "        0.09552716, 0.09565726, 0.09579445, 0.09564349, 0.09559255,\n",
              "        0.09551029, 0.0954005 , 0.09564863, 0.09561153, 0.09563369,\n",
              "        0.09563345, 0.09555631, 0.09549928, 0.09542445, 0.09559872,\n",
              "        0.09559839, 0.09557234, 0.09574491, 0.09551506, 0.09552175,\n",
              "        0.09552698, 0.09574896, 0.09562244, 0.09556361, 0.09579932,\n",
              "        0.09542112, 0.09570843, 0.09531993, 0.09541821, 0.09537248,\n",
              "        0.09535636, 0.09535001, 0.09540078, 0.09576453, 0.09561229,\n",
              "        0.09556787, 0.09534948, 0.09546486, 0.09557369, 0.0956078 ,\n",
              "        0.09577584, 0.0954668 , 0.09572263, 0.09536608, 0.09567891,\n",
              "        0.09560576, 0.09557029, 0.09556028, 0.09570603, 0.0955456 ,\n",
              "        0.09562383, 0.09547285, 0.09548776, 0.09560107, 0.09578643,\n",
              "        0.0955947 , 0.09552671, 0.09551316, 0.09546556, 0.09547002,\n",
              "        0.09542176, 0.09537464, 0.09577039, 0.09551987, 0.09558284,\n",
              "        0.09565702, 0.09552904, 0.09534291, 0.09561384, 0.09553555,\n",
              "        0.09533657, 0.09559261, 0.09549009, 0.0954716 , 0.09570797,\n",
              "        0.09571385, 0.09538827, 0.09569619, 0.09562827, 0.09573862,\n",
              "        0.09578342, 0.09558494, 0.09533065, 0.09572409, 0.09536305,\n",
              "        0.09541616, 0.09568406, 0.09564816, 0.09555473, 0.09549129,\n",
              "        0.09560427, 0.0957077 , 0.09546395, 0.09565682, 0.09553894,\n",
              "        0.09557697, 0.09546096, 0.09556835, 0.09533729, 0.09550146,\n",
              "        0.09558723, 0.09572113, 0.09546743, 0.0957516 , 0.0953902 ,\n",
              "        0.09557818, 0.09563654, 0.09546781, 0.09534092, 0.09569742,\n",
              "        0.09542069, 0.09567519, 0.09556982, 0.09563566, 0.09567244,\n",
              "        0.09554616, 0.09570633, 0.09560354, 0.09535857, 0.09572028,\n",
              "        0.09563427, 0.09567956, 0.0956868 , 0.09558736, 0.09544433,\n",
              "        0.09545754, 0.09538759, 0.09541581, 0.09556281, 0.09571481,\n",
              "        0.0955495 , 0.0955121 , 0.09568706, 0.09560243, 0.0955576 ,\n",
              "        0.09547421, 0.09559478, 0.09574942, 0.09551997, 0.09566084,\n",
              "        0.09544313, 0.09538329, 0.09564422, 0.09551947, 0.09562792,\n",
              "        0.09573083, 0.09538084, 0.0955537 , 0.09561371, 0.09549219,\n",
              "        0.09558728, 0.09559539, 0.0955307 , 0.09579539, 0.09558341,\n",
              "        0.09547225, 0.09579314, 0.09571366, 0.0953884 , 0.09551365,\n",
              "        0.09568092, 0.09567382, 0.09570643, 0.09552571, 0.09561894,\n",
              "        0.09567483, 0.09551753, 0.09562751, 0.09560784, 0.09553282,\n",
              "        0.09549758, 0.09549397, 0.09564029, 0.09551414, 0.09550053,\n",
              "        0.09552204, 0.09567052, 0.09545968, 0.09552366, 0.09535832,\n",
              "        0.09562645, 0.09559694, 0.09553604, 0.09542428, 0.09551183,\n",
              "        0.09579922, 0.09554908, 0.09563087, 0.09556643, 0.09552951,\n",
              "        0.09556178, 0.09551024, 0.09570674, 0.09548436, 0.09568655,\n",
              "        0.09552972, 0.09534371, 0.09567403, 0.09558886, 0.09558569,\n",
              "        0.09559841, 0.09565565, 0.09579843, 0.09558596, 0.09552786]),\n",
              " array([0.13205441, 0.13242804, 0.14732205, 0.13069014, 0.139651  ,\n",
              "        0.13206204, 0.13095304, 0.1305297 , 0.13924002, 0.14285375,\n",
              "        0.13712791, 0.13188294, 0.13302528, 0.13158799, 0.14116529,\n",
              "        0.13711801, 0.14665662, 0.13804116, 0.13063496, 0.13232866,\n",
              "        0.13063033, 0.13597127, 0.13078983, 0.13085786, 0.14415361,\n",
              "        0.13792127, 0.13717028, 0.13066412, 0.13206372, 0.1320322 ,\n",
              "        0.13461294, 0.13053254, 0.13052982, 0.13202417, 0.1456042 ,\n",
              "        0.14386359, 0.13178755, 0.13060049, 0.13353273, 0.13078088,\n",
              "        0.1326398 , 0.1381896 , 0.13417752, 0.13410354, 0.13079823,\n",
              "        0.1405324 , 0.1327761 , 0.14363055, 0.13587699, 0.1318791 ,\n",
              "        0.13198899, 0.13312345, 0.14864496, 0.14103657, 0.14016943,\n",
              "        0.13096334, 0.13052894, 0.13567945, 0.13324048, 0.13071958,\n",
              "        0.13179726, 0.13597322, 0.13916595, 0.13072964, 0.13436225,\n",
              "        0.14721475, 0.13107385, 0.14836692, 0.13991057, 0.13263542,\n",
              "        0.14075285, 0.13059026, 0.13562419, 0.13223322, 0.14076001,\n",
              "        0.13057776, 0.13877277, 0.13054332, 0.13060051, 0.13154622,\n",
              "        0.13053118, 0.13572746, 0.13281334, 0.13075155, 0.13132064,\n",
              "        0.13243742, 0.13841414, 0.13059596, 0.13477367, 0.13053995,\n",
              "        0.13066346, 0.13052908, 0.13552923, 0.13052958, 0.13062476,\n",
              "        0.13071738, 0.13065731, 0.13197949, 0.13064266, 0.13453549,\n",
              "        0.13123957, 0.14538424, 0.13905617, 0.13060175, 0.13622203,\n",
              "        0.14803687, 0.14818773, 0.13221156, 0.13187822, 0.13271908,\n",
              "        0.14005113, 0.14022674, 0.13221445, 0.13059111, 0.13114111,\n",
              "        0.13251775, 0.13120557, 0.13054022, 0.14006794, 0.13264554,\n",
              "        0.13107188, 0.13090604, 0.13515542, 0.13366788, 0.13092118,\n",
              "        0.1319121 , 0.13846541, 0.13054036, 0.1305982 , 0.1322094 ,\n",
              "        0.13472823, 0.13587802, 0.13056439, 0.1403375 , 0.13745116,\n",
              "        0.13559175, 0.1312519 , 0.13052846, 0.14166702, 0.14838962,\n",
              "        0.13980381, 0.1319325 , 0.13137138, 0.13163003, 0.13904601,\n",
              "        0.14468595, 0.13714644, 0.13065199, 0.13583262, 0.13063175,\n",
              "        0.14819481, 0.14539028, 0.13213702, 0.13594983, 0.13328778,\n",
              "        0.13084278, 0.13207459, 0.13466042, 0.13063694, 0.1328397 ,\n",
              "        0.13055478, 0.13328162, 0.13160067, 0.13054186, 0.13054737,\n",
              "        0.14708684, 0.13087091, 0.1305612 , 0.14079595, 0.14231341,\n",
              "        0.13055509, 0.14155884, 0.13473671, 0.14635175, 0.13057339,\n",
              "        0.13755807, 0.13926109, 0.13263743, 0.13386562, 0.1305365 ,\n",
              "        0.14439578, 0.13056037, 0.13114859, 0.13058068, 0.13208   ,\n",
              "        0.13148657, 0.13348951, 0.1308647 , 0.13065596, 0.13066036,\n",
              "        0.14793574, 0.13533797, 0.13123071, 0.14644675, 0.13124537,\n",
              "        0.13316473, 0.13428288, 0.13972105, 0.13052965, 0.13841073,\n",
              "        0.14601622, 0.14462664, 0.14526616, 0.13278016, 0.13052982,\n",
              "        0.1452794 , 0.13263686, 0.13139939, 0.13385374, 0.13274187,\n",
              "        0.1360825 , 0.13634526, 0.13297675, 0.14853562, 0.13082142,\n",
              "        0.13054261, 0.13107332, 0.13136314, 0.13185526, 0.13062278,\n",
              "        0.13339354, 0.13063658, 0.13056842, 0.14436266, 0.13873505,\n",
              "        0.13471981, 0.13627603, 0.13623333, 0.13169311, 0.13054148,\n",
              "        0.14300955, 0.13230954, 0.13255522, 0.13238128, 0.13386996,\n",
              "        0.1308246 , 0.14056997, 0.13373402, 0.14024101, 0.13285195,\n",
              "        0.13250176, 0.14048035, 0.14465903, 0.13066679, 0.14435955,\n",
              "        0.13173719, 0.13507469, 0.13816946, 0.13390969, 0.13547504,\n",
              "        0.14248195, 0.13349279, 0.13126876, 0.13748275, 0.1372255 ,\n",
              "        0.13123862, 0.14324705, 0.13457705, 0.14741112, 0.1361287 ,\n",
              "        0.13068875, 0.14871017, 0.1309132 , 0.14748502, 0.13708396,\n",
              "        0.13770168, 0.13063507, 0.13064008, 0.14099871, 0.14119252,\n",
              "        0.13168239, 0.13196394, 0.13815907, 0.13084391, 0.13443745,\n",
              "        0.13052852, 0.13881975, 0.13072789, 0.13281124, 0.13208598,\n",
              "        0.1475998 , 0.13126909, 0.13148276, 0.13313793, 0.13086695,\n",
              "        0.13142351, 0.13379101, 0.13087386, 0.1321475 , 0.13167052,\n",
              "        0.13076892, 0.13404696, 0.13085809, 0.13190334, 0.13383542,\n",
              "        0.13126075, 0.1306256 , 0.14150075, 0.13345372, 0.13389246,\n",
              "        0.13593166, 0.13331436, 0.1306504 , 0.13378821, 0.13999938,\n",
              "        0.14412745, 0.13865362, 0.13204433, 0.13632906, 0.13331561,\n",
              "        0.13880357, 0.13054292, 0.1305351 , 0.1307486 , 0.13137691,\n",
              "        0.13255358, 0.13100591, 0.13795873, 0.13225334, 0.13496932,\n",
              "        0.13370249, 0.13914333, 0.13701811, 0.1323925 , 0.13245338,\n",
              "        0.14076153, 0.1308925 , 0.14888941, 0.13406793, 0.13062155,\n",
              "        0.13359991, 0.13138981, 0.13177943, 0.13460583, 0.13219584,\n",
              "        0.13991845, 0.14621211, 0.13586096, 0.13836761, 0.1351048 ,\n",
              "        0.13256301, 0.13998597, 0.14915421, 0.13193236, 0.13121211,\n",
              "        0.13064095, 0.13113676, 0.1371903 , 0.13782289, 0.13054593,\n",
              "        0.13151465, 0.1307433 , 0.13151811, 0.14770175, 0.13167722,\n",
              "        0.13075025, 0.13093017, 0.13156977, 0.14507422, 0.13796593,\n",
              "        0.13058563, 0.14152184, 0.13151516, 0.13341494, 0.14831486,\n",
              "        0.14480077, 0.13329979, 0.1305586 , 0.13359832, 0.1306085 ,\n",
              "        0.13244707, 0.13074616, 0.13083148, 0.13563067, 0.13180143,\n",
              "        0.14110922, 0.13525772, 0.13091677, 0.13318018, 0.13082656,\n",
              "        0.13576368, 0.13702443, 0.13057956, 0.14816867, 0.14780338,\n",
              "        0.1400188 , 0.13165946, 0.13438297, 0.13284782, 0.13553441,\n",
              "        0.1311457 , 0.13280249, 0.13062626, 0.13052896, 0.13084277,\n",
              "        0.14825933, 0.13924161, 0.13170229, 0.13192211, 0.13370495,\n",
              "        0.14487807, 0.13348082, 0.1311923 , 0.13202228, 0.13494201,\n",
              "        0.13132826, 0.13053207, 0.13053444, 0.13270529, 0.13445105,\n",
              "        0.13077479, 0.13434151, 0.14919021, 0.14531541, 0.13174428,\n",
              "        0.131275  , 0.14564691, 0.1338792 , 0.14547304, 0.1315785 ,\n",
              "        0.14448243, 0.13679061, 0.13246353, 0.13234713, 0.13620555,\n",
              "        0.13107592, 0.13088511, 0.14176443, 0.13067899, 0.13173443,\n",
              "        0.14675845, 0.13533015, 0.13144898, 0.13213998, 0.14362332,\n",
              "        0.1328297 , 0.13561935, 0.1306402 , 0.14818548, 0.13414174,\n",
              "        0.132229  , 0.13074208, 0.13898788, 0.13360141, 0.13954413,\n",
              "        0.14557594, 0.13961551, 0.13367762, 0.14086933, 0.13062292,\n",
              "        0.1356205 , 0.13527847, 0.13143908, 0.13154791, 0.13090752,\n",
              "        0.14240258, 0.13213778, 0.1395802 , 0.13105414, 0.13131387,\n",
              "        0.14094712, 0.13945591, 0.13197132, 0.13657948, 0.13056682,\n",
              "        0.13136342, 0.13052958, 0.14471541, 0.1315134 , 0.13282817,\n",
              "        0.13709784, 0.13079704, 0.13432761, 0.13378179, 0.13384093,\n",
              "        0.13182783, 0.13057037, 0.13535197, 0.13075731, 0.13539235,\n",
              "        0.13052965, 0.13063371, 0.1305929 , 0.13331569, 0.13081253,\n",
              "        0.13105285, 0.13053412, 0.14663139, 0.13694754, 0.14548038,\n",
              "        0.13056146, 0.13599679, 0.13119777, 0.13677325, 0.13966346,\n",
              "        0.13840098, 0.14515162, 0.13098384, 0.13711214, 0.1317198 ,\n",
              "        0.13052848, 0.13786722, 0.14015212, 0.14348883, 0.13592464,\n",
              "        0.13104486, 0.13677977, 0.1376111 , 0.14080822, 0.13575537,\n",
              "        0.1412039 , 0.14239345, 0.13904189, 0.13053313, 0.13088604,\n",
              "        0.13123176, 0.13241916, 0.1318213 , 0.13916929, 0.138435  ,\n",
              "        0.14328773, 0.14269502, 0.13228547, 0.14153081, 0.14826898,\n",
              "        0.13067501, 0.13898066, 0.14668476, 0.13968314, 0.13138221,\n",
              "        0.14775718, 0.13817038, 0.14885229, 0.13879743, 0.13359297,\n",
              "        0.13634439, 0.13735117, 0.13076261, 0.13500973, 0.1307011 ,\n",
              "        0.13188708, 0.13085579, 0.14899356, 0.13358325, 0.13624148,\n",
              "        0.14113548, 0.13052854, 0.14318288, 0.14708068, 0.13295954,\n",
              "        0.14383081, 0.13067402, 0.13890252, 0.13438638, 0.13304122,\n",
              "        0.13473973, 0.13206095, 0.13859095, 0.13088584, 0.13072867,\n",
              "        0.14514005, 0.13134096, 0.14262845, 0.13503812, 0.13527852,\n",
              "        0.13342019, 0.13595986, 0.13242108, 0.13123948, 0.13052871,\n",
              "        0.13054061, 0.13327182, 0.1338205 , 0.13798747, 0.14752004,\n",
              "        0.13864669, 0.13147209, 0.14568397, 0.13545757, 0.13851319,\n",
              "        0.13128196, 0.14491116, 0.14239938, 0.1385362 , 0.13442127,\n",
              "        0.13145637, 0.13467903, 0.13229137, 0.13054238, 0.13062149,\n",
              "        0.13053791, 0.13637995, 0.13072046, 0.13535622, 0.13277149,\n",
              "        0.13316654, 0.13056763, 0.13063467, 0.13072158, 0.13520137,\n",
              "        0.13244945, 0.13234471, 0.13254448, 0.14531568, 0.13059686,\n",
              "        0.14570188, 0.14012994, 0.13231927, 0.135519  , 0.14364852,\n",
              "        0.13053803, 0.13213484, 0.13226884, 0.13059   , 0.13181403,\n",
              "        0.1386246 , 0.13389689, 0.1306177 , 0.1421717 , 0.14055176,\n",
              "        0.13492305, 0.13375102, 0.13424422, 0.13444505, 0.13538473,\n",
              "        0.13708785, 0.13055717, 0.14051595, 0.13100005, 0.14147548,\n",
              "        0.13131986, 0.1306297 , 0.13658546, 0.13058614, 0.13147375,\n",
              "        0.13053018, 0.13078175, 0.13496102, 0.13176965, 0.14412581,\n",
              "        0.14416014, 0.13098135, 0.14082522, 0.13202945, 0.13075644,\n",
              "        0.13182943, 0.13181286, 0.13105279, 0.13299126, 0.13273901,\n",
              "        0.13402396, 0.13698858, 0.14589583, 0.13086917, 0.13117207,\n",
              "        0.1311743 , 0.13131819, 0.13523553, 0.13813485, 0.13088625,\n",
              "        0.1305794 , 0.13151461, 0.13158694, 0.13073382, 0.13299164,\n",
              "        0.1370309 , 0.13668229, 0.1449967 , 0.13084088, 0.13089454,\n",
              "        0.13334124, 0.14842299, 0.1305585 , 0.136718  , 0.14883798,\n",
              "        0.13381096, 0.14558724, 0.13089914, 0.1408003 , 0.14292062,\n",
              "        0.13246753, 0.13351758, 0.13054065, 0.14082454, 0.13286826,\n",
              "        0.13144255, 0.14643891, 0.13425472, 0.13198738, 0.13395012,\n",
              "        0.13178189, 0.13052867, 0.13124954, 0.13352137, 0.13240728,\n",
              "        0.13065311, 0.14451894, 0.13106752, 0.13057746, 0.13086883,\n",
              "        0.13492921, 0.13053152, 0.13065898, 0.13052984, 0.13118555,\n",
              "        0.13246947, 0.1399714 , 0.13078464, 0.13100438, 0.13747109,\n",
              "        0.13072012, 0.13095824, 0.13097041, 0.14195802, 0.13173197,\n",
              "        0.13165694, 0.13164757, 0.13065991, 0.1311928 , 0.13320873,\n",
              "        0.14528058, 0.13567182, 0.13057746, 0.13433438, 0.13054574,\n",
              "        0.13894935, 0.14373715, 0.14611807, 0.13228861, 0.1378981 ,\n",
              "        0.13197617, 0.13291703, 0.13092352, 0.13175415, 0.13059545,\n",
              "        0.13198267, 0.14881665, 0.14568351, 0.13170405, 0.13178323,\n",
              "        0.13919806, 0.14368142, 0.13053222, 0.1307035 , 0.13135767,\n",
              "        0.13077978, 0.13625332, 0.13057158, 0.13079549, 0.13408231,\n",
              "        0.14788996, 0.1320139 , 0.13091452, 0.13138688, 0.1368773 ,\n",
              "        0.13054399, 0.13134772, 0.13066936, 0.13077328, 0.13068214,\n",
              "        0.13093884, 0.13083998, 0.13185949, 0.13071515, 0.13058171,\n",
              "        0.13460831, 0.13118619, 0.13214054, 0.1307053 , 0.13217042,\n",
              "        0.13053552, 0.13102274, 0.13100328, 0.13059169, 0.1408462 ,\n",
              "        0.13059158, 0.13523889, 0.14871   , 0.14375828, 0.13132851,\n",
              "        0.1319994 , 0.13116447, 0.132872  , 0.13618387, 0.13930918,\n",
              "        0.13059324, 0.13524179, 0.14320797, 0.14162407, 0.13085764,\n",
              "        0.1356421 , 0.13101186, 0.13270584, 0.13629918, 0.13346555,\n",
              "        0.13092224, 0.13342897, 0.14696982, 0.13265659, 0.13082881,\n",
              "        0.1313933 , 0.13871968, 0.13293108, 0.13131779, 0.132178  ,\n",
              "        0.13216705, 0.1305392 , 0.13179799, 0.13652041, 0.13096239,\n",
              "        0.13095467, 0.13056262, 0.14093296, 0.13124158, 0.13105335,\n",
              "        0.13092629, 0.14138147, 0.13170254, 0.13052923, 0.14762473,\n",
              "        0.13680692, 0.13728656, 0.14829454, 0.13706226, 0.14168409,\n",
              "        0.14357086, 0.14434947, 0.1386923 , 0.14318124, 0.13134231,\n",
              "        0.13053935, 0.14441616, 0.13355133, 0.13057214, 0.1312034 ,\n",
              "        0.1445634 , 0.13343367, 0.13862076, 0.14241821, 0.13487448,\n",
              "        0.13114475, 0.13055031, 0.1305295 , 0.13707139, 0.13061618,\n",
              "        0.1317572 , 0.13307947, 0.13230335, 0.13101975, 0.14591249,\n",
              "        0.13087263, 0.13093248, 0.13130031, 0.13350864, 0.13324201,\n",
              "        0.13675116, 0.1414406 , 0.14388984, 0.1311036 , 0.13066799,\n",
              "        0.13341421, 0.13088092, 0.14524276, 0.13139301, 0.13075577,\n",
              "        0.14606106, 0.1308299 , 0.13219438, 0.13315065, 0.13724484,\n",
              "        0.13778205, 0.13996337, 0.13622563, 0.13193911, 0.14025391,\n",
              "        0.14552312, 0.13069766, 0.14684015, 0.13876443, 0.14277236,\n",
              "        0.13724497, 0.13525925, 0.13290568, 0.1305459 , 0.13213955,\n",
              "        0.13110349, 0.13722051, 0.13360752, 0.13340241, 0.13070152,\n",
              "        0.1306003 , 0.13379582, 0.13054122, 0.14596646, 0.13171176,\n",
              "        0.13073323, 0.13847445, 0.13339556, 0.14167792, 0.13976188,\n",
              "        0.13061243, 0.13231099, 0.13337258, 0.14549804, 0.13632883,\n",
              "        0.1368442 , 0.13460624, 0.13054793, 0.13226953, 0.13441325,\n",
              "        0.13061032, 0.13709825, 0.13108394, 0.14330447, 0.13839224,\n",
              "        0.132205  , 0.13492203, 0.13547021, 0.13073524, 0.13493976,\n",
              "        0.13401773, 0.14003395, 0.13727683, 0.13052864, 0.1378716 ,\n",
              "        0.13057954, 0.1313341 , 0.1354905 , 0.13105473, 0.13053494,\n",
              "        0.1330029 , 0.13087424, 0.14143206, 0.13110077, 0.13364827,\n",
              "        0.13502928, 0.14049231, 0.13269442, 0.13111436, 0.13192456,\n",
              "        0.13944068, 0.14075622, 0.1305511 , 0.13138863, 0.13209943,\n",
              "        0.13073394, 0.13088727, 0.13084658, 0.14709557, 0.1306758 ,\n",
              "        0.13311389, 0.14679522, 0.13776512, 0.13994929, 0.13128506,\n",
              "        0.13502248, 0.13450904, 0.13710726, 0.13095563, 0.13157107,\n",
              "        0.13458071, 0.13116888, 0.13190733, 0.13120464, 0.13080505,\n",
              "        0.13186737, 0.13202051, 0.13249372, 0.13126963, 0.13174827,\n",
              "        0.13104589, 0.13428115, 0.13387819, 0.13100507, 0.14333441,\n",
              "        0.13186294, 0.13092148, 0.1307475 , 0.13653478, 0.13134286,\n",
              "        0.14761152, 0.13058302, 0.13205145, 0.13053461, 0.13087102,\n",
              "        0.13052849, 0.13139498, 0.13713438, 0.13246841, 0.13545019,\n",
              "        0.13086672, 0.14514123, 0.13452429, 0.13076048, 0.13070899,\n",
              "        0.13095518, 0.13333261, 0.14750416, 0.13071311, 0.13090669]))"
            ]
          },
          "metadata": {
            "tags": []
          },
          "execution_count": 18
        }
      ]
    },
    {
      "cell_type": "code",
      "metadata": {
        "id": "zAN60re1cWlv",
        "colab_type": "code",
        "colab": {}
      },
      "source": [
        "portfolios = pd.DataFrame({'Return': pfolio_returns, 'Volatility':pfolio_volatilities})"
      ],
      "execution_count": 0,
      "outputs": []
    },
    {
      "cell_type": "code",
      "metadata": {
        "id": "beI1SWE3c7G2",
        "colab_type": "code",
        "colab": {
          "base_uri": "https://localhost:8080/",
          "height": 204
        },
        "outputId": "90f14ec0-6e06-4719-e493-cfa7ce135849"
      },
      "source": [
        "portfolios.head()"
      ],
      "execution_count": 20,
      "outputs": [
        {
          "output_type": "execute_result",
          "data": {
            "text/html": [
              "<div>\n",
              "<style scoped>\n",
              "    .dataframe tbody tr th:only-of-type {\n",
              "        vertical-align: middle;\n",
              "    }\n",
              "\n",
              "    .dataframe tbody tr th {\n",
              "        vertical-align: top;\n",
              "    }\n",
              "\n",
              "    .dataframe thead th {\n",
              "        text-align: right;\n",
              "    }\n",
              "</style>\n",
              "<table border=\"1\" class=\"dataframe\">\n",
              "  <thead>\n",
              "    <tr style=\"text-align: right;\">\n",
              "      <th></th>\n",
              "      <th>Return</th>\n",
              "      <th>Volatility</th>\n",
              "    </tr>\n",
              "  </thead>\n",
              "  <tbody>\n",
              "    <tr>\n",
              "      <th>0</th>\n",
              "      <td>0.095631</td>\n",
              "      <td>0.132054</td>\n",
              "    </tr>\n",
              "    <tr>\n",
              "      <th>1</th>\n",
              "      <td>0.095639</td>\n",
              "      <td>0.132428</td>\n",
              "    </tr>\n",
              "    <tr>\n",
              "      <th>2</th>\n",
              "      <td>0.095327</td>\n",
              "      <td>0.147322</td>\n",
              "    </tr>\n",
              "    <tr>\n",
              "      <th>3</th>\n",
              "      <td>0.095540</td>\n",
              "      <td>0.130690</td>\n",
              "    </tr>\n",
              "    <tr>\n",
              "      <th>4</th>\n",
              "      <td>0.095733</td>\n",
              "      <td>0.139651</td>\n",
              "    </tr>\n",
              "  </tbody>\n",
              "</table>\n",
              "</div>"
            ],
            "text/plain": [
              "     Return  Volatility\n",
              "0  0.095631    0.132054\n",
              "1  0.095639    0.132428\n",
              "2  0.095327    0.147322\n",
              "3  0.095540    0.130690\n",
              "4  0.095733    0.139651"
            ]
          },
          "metadata": {
            "tags": []
          },
          "execution_count": 20
        }
      ]
    },
    {
      "cell_type": "code",
      "metadata": {
        "id": "gy87XAi0c92B",
        "colab_type": "code",
        "colab": {
          "base_uri": "https://localhost:8080/",
          "height": 204
        },
        "outputId": "e87b2537-268c-4024-bac6-9d3e1eae5d66"
      },
      "source": [
        "portfolios.tail()"
      ],
      "execution_count": 21,
      "outputs": [
        {
          "output_type": "execute_result",
          "data": {
            "text/html": [
              "<div>\n",
              "<style scoped>\n",
              "    .dataframe tbody tr th:only-of-type {\n",
              "        vertical-align: middle;\n",
              "    }\n",
              "\n",
              "    .dataframe tbody tr th {\n",
              "        vertical-align: top;\n",
              "    }\n",
              "\n",
              "    .dataframe thead th {\n",
              "        text-align: right;\n",
              "    }\n",
              "</style>\n",
              "<table border=\"1\" class=\"dataframe\">\n",
              "  <thead>\n",
              "    <tr style=\"text-align: right;\">\n",
              "      <th></th>\n",
              "      <th>Return</th>\n",
              "      <th>Volatility</th>\n",
              "    </tr>\n",
              "  </thead>\n",
              "  <tbody>\n",
              "    <tr>\n",
              "      <th>995</th>\n",
              "      <td>0.095598</td>\n",
              "      <td>0.130955</td>\n",
              "    </tr>\n",
              "    <tr>\n",
              "      <th>996</th>\n",
              "      <td>0.095656</td>\n",
              "      <td>0.133333</td>\n",
              "    </tr>\n",
              "    <tr>\n",
              "      <th>997</th>\n",
              "      <td>0.095798</td>\n",
              "      <td>0.147504</td>\n",
              "    </tr>\n",
              "    <tr>\n",
              "      <th>998</th>\n",
              "      <td>0.095586</td>\n",
              "      <td>0.130713</td>\n",
              "    </tr>\n",
              "    <tr>\n",
              "      <th>999</th>\n",
              "      <td>0.095528</td>\n",
              "      <td>0.130907</td>\n",
              "    </tr>\n",
              "  </tbody>\n",
              "</table>\n",
              "</div>"
            ],
            "text/plain": [
              "       Return  Volatility\n",
              "995  0.095598    0.130955\n",
              "996  0.095656    0.133333\n",
              "997  0.095798    0.147504\n",
              "998  0.095586    0.130713\n",
              "999  0.095528    0.130907"
            ]
          },
          "metadata": {
            "tags": []
          },
          "execution_count": 21
        }
      ]
    },
    {
      "cell_type": "code",
      "metadata": {
        "id": "Ibw8vx4oc_d6",
        "colab_type": "code",
        "colab": {
          "base_uri": "https://localhost:8080/",
          "height": 406
        },
        "outputId": "0e20c9d0-2772-4c87-febf-ec05dc21cbca"
      },
      "source": [
        "portfolios.plot(x='Volatility', y='Return', kind='scatter', figsize=(10,6));\n",
        "plt.xlabel('Expected Volatility')\n",
        "plt.ylabel('Expected Return')"
      ],
      "execution_count": 22,
      "outputs": [
        {
          "output_type": "execute_result",
          "data": {
            "text/plain": [
              "Text(0, 0.5, 'Expected Return')"
            ]
          },
          "metadata": {
            "tags": []
          },
          "execution_count": 22
        },
        {
          "output_type": "display_data",
          "data": {
            "image/png": "[encoded data removed]",
            "text/plain": [
              "<Figure size 720x432 with 1 Axes>"
            ]
          },
          "metadata": {
            "tags": []
          }
        }
      ]
    },
    {
      "cell_type": "code",
      "metadata": {
        "id": "q6CFFIk2dQF8",
        "colab_type": "code",
        "colab": {}
      },
      "source": [
        ""
      ],
      "execution_count": 0,
      "outputs": []
    }
  ]
}