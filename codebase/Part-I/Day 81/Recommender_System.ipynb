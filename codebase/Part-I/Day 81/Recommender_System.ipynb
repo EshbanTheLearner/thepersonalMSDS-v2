{
  "nbformat": 4,
  "nbformat_minor": 0,
  "metadata": {
    "colab": {
      "name": "Recommender_System.ipynb",
      "provenance": [],
      "collapsed_sections": []
    },
    "kernelspec": {
      "name": "python3",
      "display_name": "Python 3"
    }
  },
  "cells": [
    {
      "cell_type": "code",
      "metadata": {
        "id": "aJRRyZQIwNYZ",
        "colab_type": "code",
        "colab": {}
      },
      "source": [
        "from tensorflow.keras.layers import Input, Dense, Embedding, Flatten, Concatenate\n",
        "from tensorflow.keras.models import Model\n",
        "from tensorflow.keras.optimizers import SGD, Adam\n",
        "\n",
        "from sklearn.utils import shuffle\n",
        "\n",
        "import numpy as np\n",
        "import pandas as pd\n",
        "import matplotlib.pyplot as plt"
      ],
      "execution_count": 0,
      "outputs": []
    },
    {
      "cell_type": "code",
      "metadata": {
        "id": "aUEcC2PSwqpd",
        "colab_type": "code",
        "colab": {
          "base_uri": "https://localhost:8080/",
          "height": 53
        },
        "outputId": "c68d7e2b-7501-4aa1-fabe-a97b195404fc"
      },
      "source": [
        "!wget -nc http://files.grouplens.org/datasets/movielens/ml-20m.zip"
      ],
      "execution_count": 18,
      "outputs": [
        {
          "output_type": "stream",
          "text": [
            "File ‘ml-20m.zip’ already there; not retrieving.\n",
            "\n"
          ],
          "name": "stdout"
        }
      ]
    },
    {
      "cell_type": "code",
      "metadata": {
        "id": "xc1HeNqtw0xJ",
        "colab_type": "code",
        "colab": {
          "base_uri": "https://localhost:8080/",
          "height": 35
        },
        "outputId": "4affa4d6-0e3d-470f-a023-d306fd9254a5"
      },
      "source": [
        "!unzip -n ml-20m.zip"
      ],
      "execution_count": 19,
      "outputs": [
        {
          "output_type": "stream",
          "text": [
            "Archive:  ml-20m.zip\n"
          ],
          "name": "stdout"
        }
      ]
    },
    {
      "cell_type": "code",
      "metadata": {
        "id": "2XI2P9p_w_77",
        "colab_type": "code",
        "colab": {
          "base_uri": "https://localhost:8080/",
          "height": 35
        },
        "outputId": "834f99c6-83ab-4ebc-dc0b-a742285d85f7"
      },
      "source": [
        "!ls"
      ],
      "execution_count": 20,
      "outputs": [
        {
          "output_type": "stream",
          "text": [
            "ml-20m\tml-20m.zip  sample_data\n"
          ],
          "name": "stdout"
        }
      ]
    },
    {
      "cell_type": "code",
      "metadata": {
        "id": "n3ISyBOAxBN7",
        "colab_type": "code",
        "colab": {}
      },
      "source": [
        "df = pd.read_csv(\"ml-20m/ratings.csv\")"
      ],
      "execution_count": 0,
      "outputs": []
    },
    {
      "cell_type": "code",
      "metadata": {
        "id": "mjjD7utFxHay",
        "colab_type": "code",
        "colab": {
          "base_uri": "https://localhost:8080/",
          "height": 204
        },
        "outputId": "24433466-485b-4bd2-de4d-46b5363abc8b"
      },
      "source": [
        "df.head()"
      ],
      "execution_count": 22,
      "outputs": [
        {
          "output_type": "execute_result",
          "data": {
            "text/html": [
              "<div>\n",
              "<style scoped>\n",
              "    .dataframe tbody tr th:only-of-type {\n",
              "        vertical-align: middle;\n",
              "    }\n",
              "\n",
              "    .dataframe tbody tr th {\n",
              "        vertical-align: top;\n",
              "    }\n",
              "\n",
              "    .dataframe thead th {\n",
              "        text-align: right;\n",
              "    }\n",
              "</style>\n",
              "<table border=\"1\" class=\"dataframe\">\n",
              "  <thead>\n",
              "    <tr style=\"text-align: right;\">\n",
              "      <th></th>\n",
              "      <th>userId</th>\n",
              "      <th>movieId</th>\n",
              "      <th>rating</th>\n",
              "      <th>timestamp</th>\n",
              "    </tr>\n",
              "  </thead>\n",
              "  <tbody>\n",
              "    <tr>\n",
              "      <th>0</th>\n",
              "      <td>1</td>\n",
              "      <td>2</td>\n",
              "      <td>3.5</td>\n",
              "      <td>1112486027</td>\n",
              "    </tr>\n",
              "    <tr>\n",
              "      <th>1</th>\n",
              "      <td>1</td>\n",
              "      <td>29</td>\n",
              "      <td>3.5</td>\n",
              "      <td>1112484676</td>\n",
              "    </tr>\n",
              "    <tr>\n",
              "      <th>2</th>\n",
              "      <td>1</td>\n",
              "      <td>32</td>\n",
              "      <td>3.5</td>\n",
              "      <td>1112484819</td>\n",
              "    </tr>\n",
              "    <tr>\n",
              "      <th>3</th>\n",
              "      <td>1</td>\n",
              "      <td>47</td>\n",
              "      <td>3.5</td>\n",
              "      <td>1112484727</td>\n",
              "    </tr>\n",
              "    <tr>\n",
              "      <th>4</th>\n",
              "      <td>1</td>\n",
              "      <td>50</td>\n",
              "      <td>3.5</td>\n",
              "      <td>1112484580</td>\n",
              "    </tr>\n",
              "  </tbody>\n",
              "</table>\n",
              "</div>"
            ],
            "text/plain": [
              "   userId  movieId  rating   timestamp\n",
              "0       1        2     3.5  1112486027\n",
              "1       1       29     3.5  1112484676\n",
              "2       1       32     3.5  1112484819\n",
              "3       1       47     3.5  1112484727\n",
              "4       1       50     3.5  1112484580"
            ]
          },
          "metadata": {
            "tags": []
          },
          "execution_count": 22
        }
      ]
    },
    {
      "cell_type": "code",
      "metadata": {
        "id": "UmAQ6GjjxIFt",
        "colab_type": "code",
        "colab": {}
      },
      "source": [
        "df.userId = pd.Categorical(df.userId)\n",
        "df[\"new_user_id\"] = df.userId.cat.codes"
      ],
      "execution_count": 0,
      "outputs": []
    },
    {
      "cell_type": "code",
      "metadata": {
        "id": "YiDW-98Uxf-p",
        "colab_type": "code",
        "colab": {}
      },
      "source": [
        "df.movieId = pd.Categorical(df.movieId)\n",
        "df[\"new_movie_id\"] = df.movieId.cat.codes "
      ],
      "execution_count": 0,
      "outputs": []
    },
    {
      "cell_type": "code",
      "metadata": {
        "id": "vlfx1MdoxqYz",
        "colab_type": "code",
        "colab": {}
      },
      "source": [
        "user_ids = df[\"new_user_id\"].values\n",
        "movie_ids = df[\"new_movie_id\"].values\n",
        "ratings = df[\"rating\"].values"
      ],
      "execution_count": 0,
      "outputs": []
    },
    {
      "cell_type": "code",
      "metadata": {
        "id": "JHfSOZs5x2Od",
        "colab_type": "code",
        "colab": {}
      },
      "source": [
        "N = len(set(user_ids))\n",
        "M = len(set(movie_ids))"
      ],
      "execution_count": 0,
      "outputs": []
    },
    {
      "cell_type": "code",
      "metadata": {
        "id": "ytyGsdQex6-p",
        "colab_type": "code",
        "colab": {}
      },
      "source": [
        "K = 10"
      ],
      "execution_count": 0,
      "outputs": []
    },
    {
      "cell_type": "code",
      "metadata": {
        "id": "xcFKsFs6x8FX",
        "colab_type": "code",
        "colab": {}
      },
      "source": [
        "u = Input(shape=(1,))\n",
        "\n",
        "m = Input(shape=(1,))\n",
        "\n",
        "u_emb = Embedding(N, K)(u)\n",
        "\n",
        "m_emb = Embedding(M, K)(m)\n",
        "\n",
        "u_emb = Flatten()(u_emb)\n",
        "m_emb = Flatten()(m_emb)\n",
        "\n",
        "x = Concatenate()([u_emb, m_emb])\n",
        "\n",
        "x = Dense(1024, activation=\"relu\")(x)\n",
        "\n",
        "x = Dense(1)(x)"
      ],
      "execution_count": 0,
      "outputs": []
    },
    {
      "cell_type": "code",
      "metadata": {
        "id": "8NgXaNi1yqoU",
        "colab_type": "code",
        "colab": {}
      },
      "source": [
        "model = Model(inputs=[u, m], outputs=x)\n",
        "model.compile(loss=\"mse\", optimizer=SGD(learning_rate=0.08, momentum=0.9))"
      ],
      "execution_count": 0,
      "outputs": []
    },
    {
      "cell_type": "code",
      "metadata": {
        "id": "hHPS5Xncy8CT",
        "colab_type": "code",
        "colab": {}
      },
      "source": [
        "user_ids, movie_ids, ratings = shuffle(user_ids, movie_ids, ratings)\n",
        "\n",
        "Ntrain = int(0.8 * len(ratings))\n",
        "\n",
        "train_user = user_ids[:Ntrain]\n",
        "train_movie = movie_ids[:Ntrain]\n",
        "train_ratings = ratings[:Ntrain]\n",
        "\n",
        "test_user = user_ids[Ntrain:]\n",
        "test_movie = movie_ids[Ntrain:]\n",
        "test_ratings = ratings[Ntrain:]\n",
        "\n",
        "avg_rating = train_ratings.mean()\n",
        "train_ratings = train_ratings - avg_rating\n",
        "test_ratings = test_ratings - avg_rating"
      ],
      "execution_count": 0,
      "outputs": []
    },
    {
      "cell_type": "code",
      "metadata": {
        "id": "hURfaoNbz0k8",
        "colab_type": "code",
        "colab": {
          "base_uri": "https://localhost:8080/",
          "height": 757
        },
        "outputId": "35062ca5-4c94-48e8-80ab-3f02f4adeed9"
      },
      "source": [
        "recommender = model.fit(\n",
        "    x=[train_user, train_movie],\n",
        "    y=train_ratings,\n",
        "    batch_size=1024,\n",
        "    epochs=25,\n",
        "    #verbose=2,\n",
        "    validation_data=([test_user, test_movie], test_ratings)\n",
        ")"
      ],
      "execution_count": 31,
      "outputs": [
        {
          "output_type": "stream",
          "text": [
            "Epoch 1/25\n",
            "15626/15626 [==============================] - 190s 12ms/step - loss: 0.7780 - val_loss: 0.7272\n",
            "Epoch 2/25\n",
            "15626/15626 [==============================] - 180s 12ms/step - loss: 0.7025 - val_loss: 0.7014\n",
            "Epoch 3/25\n",
            "15626/15626 [==============================] - 180s 12ms/step - loss: 0.6801 - val_loss: 0.6841\n",
            "Epoch 4/25\n",
            "15626/15626 [==============================] - 180s 11ms/step - loss: 0.6640 - val_loss: 0.6763\n",
            "Epoch 5/25\n",
            "15626/15626 [==============================] - 174s 11ms/step - loss: 0.6530 - val_loss: 0.6713\n",
            "Epoch 6/25\n",
            "15626/15626 [==============================] - 172s 11ms/step - loss: 0.6426 - val_loss: 0.6627\n",
            "Epoch 7/25\n",
            "15626/15626 [==============================] - 173s 11ms/step - loss: 0.6285 - val_loss: 0.6546\n",
            "Epoch 8/25\n",
            "15626/15626 [==============================] - 172s 11ms/step - loss: 0.6122 - val_loss: 0.6438\n",
            "Epoch 9/25\n",
            "15626/15626 [==============================] - 181s 12ms/step - loss: 0.6005 - val_loss: 0.6393\n",
            "Epoch 10/25\n",
            "15626/15626 [==============================] - 178s 11ms/step - loss: 0.5915 - val_loss: 0.6405\n",
            "Epoch 11/25\n",
            "15626/15626 [==============================] - 182s 12ms/step - loss: 0.5836 - val_loss: 0.6349\n",
            "Epoch 12/25\n",
            "15626/15626 [==============================] - 183s 12ms/step - loss: 0.5759 - val_loss: 0.6359\n",
            "Epoch 13/25\n",
            "15626/15626 [==============================] - 180s 12ms/step - loss: 0.5683 - val_loss: 0.6285\n",
            "Epoch 14/25\n",
            "15626/15626 [==============================] - 181s 12ms/step - loss: 0.5614 - val_loss: 0.6266\n",
            "Epoch 15/25\n",
            "15626/15626 [==============================] - 183s 12ms/step - loss: 0.5556 - val_loss: 0.6266\n",
            "Epoch 16/25\n",
            "15626/15626 [==============================] - 185s 12ms/step - loss: 0.5508 - val_loss: 0.6234\n",
            "Epoch 17/25\n",
            "15626/15626 [==============================] - 184s 12ms/step - loss: 0.5470 - val_loss: 0.6256\n",
            "Epoch 18/25\n",
            "15626/15626 [==============================] - 185s 12ms/step - loss: 0.5436 - val_loss: 0.6251\n",
            "Epoch 19/25\n",
            "15626/15626 [==============================] - 185s 12ms/step - loss: 0.5408 - val_loss: 0.6246\n",
            "Epoch 20/25\n",
            "13312/15626 [========================>.....] - ETA: 25s - loss: 0.5366Buffered data was truncated after reaching the output size limit."
          ],
          "name": "stdout"
        }
      ]
    },
    {
      "cell_type": "code",
      "metadata": {
        "id": "ApV2ZdGT0JPN",
        "colab_type": "code",
        "colab": {
          "base_uri": "https://localhost:8080/",
          "height": 265
        },
        "outputId": "503a6dfe-bbaa-4d64-a7dc-adb0449f4fca"
      },
      "source": [
        "plt.plot(recommender.history[\"loss\"], label=\"train loss\")\n",
        "plt.plot(recommender.history[\"val_loss\"], label=\"validation loss\")\n",
        "plt.legend()\n",
        "plt.show()"
      ],
      "execution_count": 32,
      "outputs": [
        {
          "output_type": "display_data",
          "data": {
            "image/png": "[encoded data removed]",
            "text/plain": [
              "<Figure size 432x288 with 1 Axes>"
            ]
          },
          "metadata": {
            "tags": []
          }
        }
      ]
    },
    {
      "cell_type": "code",
      "metadata": {
        "id": "6cLiF80xOAmP",
        "colab_type": "code",
        "colab": {
          "base_uri": "https://localhost:8080/",
          "height": 35
        },
        "outputId": "bfcc95cb-890a-40f5-d109-51ed76d1ffc4"
      },
      "source": [
        "recommender.history[\"val_loss\"][-1]"
      ],
      "execution_count": 33,
      "outputs": [
        {
          "output_type": "execute_result",
          "data": {
            "text/plain": [
              "0.62579745054245"
            ]
          },
          "metadata": {
            "tags": []
          },
          "execution_count": 33
        }
      ]
    },
    {
      "cell_type": "code",
      "metadata": {
        "id": "zUFmgWVDM7Lf",
        "colab_type": "code",
        "colab": {
          "base_uri": "https://localhost:8080/",
          "height": 35
        },
        "outputId": "0b25824e-a3bc-4ec9-f7f4-df416800d330"
      },
      "source": [
        "print(\"RMSE: {}\".format(str(np.sqrt(0.62579745054245))))"
      ],
      "execution_count": 34,
      "outputs": [
        {
          "output_type": "stream",
          "text": [
            "RMSE: 0.7910736062734302\n"
          ],
          "name": "stdout"
        }
      ]
    },
    {
      "cell_type": "code",
      "metadata": {
        "id": "Z_jTa2qzOGBs",
        "colab_type": "code",
        "colab": {}
      },
      "source": [
        ""
      ],
      "execution_count": 0,
      "outputs": []
    }
  ]
}