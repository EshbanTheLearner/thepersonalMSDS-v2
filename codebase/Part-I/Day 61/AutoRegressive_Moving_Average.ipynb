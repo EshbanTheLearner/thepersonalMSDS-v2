{
  "nbformat": 4,
  "nbformat_minor": 0,
  "metadata": {
    "colab": {
      "name": "AutoRegressive_Moving_Average.ipynb",
      "provenance": [],
      "collapsed_sections": []
    },
    "kernelspec": {
      "name": "python3",
      "display_name": "Python 3"
    }
  },
  "cells": [
    {
      "cell_type": "code",
      "metadata": {
        "id": "n6DJE-Lb1p9Q",
        "colab_type": "code",
        "colab": {}
      },
      "source": [
        "import pandas as pd\n",
        "import numpy as np\n",
        "import matplotlib.pyplot as plt\n",
        "import statsmodels.graphics.tsaplots as sgt\n",
        "from statsmodels.tsa.arima_model import ARMA\n",
        "import statsmodels.tsa.stattools as sts\n",
        "from scipy.stats.distributions import chi2\n",
        "import seaborn as sns; sns.set()"
      ],
      "execution_count": 0,
      "outputs": []
    },
    {
      "cell_type": "code",
      "metadata": {
        "id": "cONC_Z3m1xnd",
        "colab_type": "code",
        "colab": {}
      },
      "source": [
        "raw_csv_data = pd.read_csv(\"IndexE8.csv\")\n",
        "df_comp = raw_csv_data.copy()\n",
        "df_comp.date = pd.to_datetime(df_comp.date, dayfirst=True)\n",
        "df_comp.set_index(\"date\", inplace=True)\n",
        "df_comp = df_comp.asfreq('b')\n",
        "df_comp = df_comp.fillna(method=\"ffill\")"
      ],
      "execution_count": 0,
      "outputs": []
    },
    {
      "cell_type": "code",
      "metadata": {
        "id": "sRElt2mY16l3",
        "colab_type": "code",
        "colab": {}
      },
      "source": [
        "df_comp[\"market_value\"] = df_comp.ftse"
      ],
      "execution_count": 0,
      "outputs": []
    },
    {
      "cell_type": "code",
      "metadata": {
        "id": "aIloLEV518zb",
        "colab_type": "code",
        "colab": {}
      },
      "source": [
        "del df_comp[\"spx\"]\n",
        "del df_comp[\"dax\"]\n",
        "del df_comp[\"ftse\"]\n",
        "del df_comp[\"nikkei\"]\n",
        "\n",
        "size = int(len(df_comp)*0.8)\n",
        "df, df_test = df_comp.iloc[:size], df_comp.iloc[size:]"
      ],
      "execution_count": 0,
      "outputs": []
    },
    {
      "cell_type": "code",
      "metadata": {
        "id": "zNRYqfac1-j_",
        "colab_type": "code",
        "colab": {
          "base_uri": "https://localhost:8080/",
          "height": 145
        },
        "outputId": "85a09910-eda5-4fb7-86ab-eeab8ab474b6"
      },
      "source": [
        "df[\"returns\"] = df.market_value.pct_change(1).mul(100)"
      ],
      "execution_count": 12,
      "outputs": [
        {
          "output_type": "stream",
          "text": [
            "/usr/local/lib/python3.6/dist-packages/ipykernel_launcher.py:1: SettingWithCopyWarning: \n",
            "A value is trying to be set on a copy of a slice from a DataFrame.\n",
            "Try using .loc[row_indexer,col_indexer] = value instead\n",
            "\n",
            "See the caveats in the documentation: http://pandas.pydata.org/pandas-docs/stable/user_guide/indexing.html#returning-a-view-versus-a-copy\n",
            "  \"\"\"Entry point for launching an IPython kernel.\n"
          ],
          "name": "stderr"
        }
      ]
    },
    {
      "cell_type": "code",
      "metadata": {
        "id": "rFHnLhZl2BXo",
        "colab_type": "code",
        "colab": {}
      },
      "source": [
        "def LLR_test(mod_1, mod_2, DF=1):\n",
        "  L1 = mod_1.fit(trend='nc').llf\n",
        "  L2 = mod_2.fit(trend='nc').llf\n",
        "  LR = (2*(L2-L1))\n",
        "  p = chi2.sf(LR, DF).round(3)\n",
        "  return p"
      ],
      "execution_count": 0,
      "outputs": []
    },
    {
      "cell_type": "code",
      "metadata": {
        "id": "W-6xx2lQ2C91",
        "colab_type": "code",
        "colab": {
          "base_uri": "https://localhost:8080/",
          "height": 289
        },
        "outputId": "3e7f9bd9-608e-4f58-c9e1-c60a0899b8b2"
      },
      "source": [
        "sgt.plot_acf(df.market_value, zero=False, lags=40)\n",
        "plt.title(\"ACF for Prices\", size=20)\n",
        "plt.show()"
      ],
      "execution_count": 14,
      "outputs": [
        {
          "output_type": "display_data",
          "data": {
            "image/png": "[encoded data removed]",
            "text/plain": [
              "<Figure size 432x288 with 1 Axes>"
            ]
          },
          "metadata": {
            "tags": []
          }
        }
      ]
    },
    {
      "cell_type": "code",
      "metadata": {
        "id": "WS7YVuP92GYV",
        "colab_type": "code",
        "colab": {
          "base_uri": "https://localhost:8080/",
          "height": 351
        },
        "outputId": "1cc67bf1-7068-4bf6-a623-d0aa3e445908"
      },
      "source": [
        "model_ret_ar_1_ma_1 = ARMA(df.returns[1:], order = (1,1))\n",
        "results_ret_ar_1_ma_1 = model_ret_ar_1_ma_1.fit()\n",
        "results_ret_ar_1_ma_1.summary()"
      ],
      "execution_count": 15,
      "outputs": [
        {
          "output_type": "execute_result",
          "data": {
            "text/html": [
              "<table class=\"simpletable\">\n",
              "<caption>ARMA Model Results</caption>\n",
              "<tr>\n",
              "  <th>Dep. Variable:</th>      <td>returns</td>     <th>  No. Observations:  </th>   <td>5020</td>   \n",
              "</tr>\n",
              "<tr>\n",
              "  <th>Model:</th>            <td>ARMA(1, 1)</td>    <th>  Log Likelihood     </th> <td>-7916.500</td>\n",
              "</tr>\n",
              "<tr>\n",
              "  <th>Method:</th>             <td>css-mle</td>     <th>  S.D. of innovations</th>   <td>1.171</td>  \n",
              "</tr>\n",
              "<tr>\n",
              "  <th>Date:</th>          <td>Sun, 15 Mar 2020</td> <th>  AIC                </th> <td>15841.000</td>\n",
              "</tr>\n",
              "<tr>\n",
              "  <th>Time:</th>              <td>02:44:08</td>     <th>  BIC                </th> <td>15867.085</td>\n",
              "</tr>\n",
              "<tr>\n",
              "  <th>Sample:</th>           <td>01-10-1994</td>    <th>  HQIC               </th> <td>15850.140</td>\n",
              "</tr>\n",
              "<tr>\n",
              "  <th></th>                 <td>- 04-05-2013</td>   <th>                     </th>     <td> </td>    \n",
              "</tr>\n",
              "</table>\n",
              "<table class=\"simpletable\">\n",
              "<tr>\n",
              "        <td></td>           <th>coef</th>     <th>std err</th>      <th>z</th>      <th>P>|z|</th>  <th>[0.025</th>    <th>0.975]</th>  \n",
              "</tr>\n",
              "<tr>\n",
              "  <th>const</th>         <td>    0.0189</td> <td>    0.013</td> <td>    1.446</td> <td> 0.148</td> <td>   -0.007</td> <td>    0.045</td>\n",
              "</tr>\n",
              "<tr>\n",
              "  <th>ar.L1.returns</th> <td>    0.7649</td> <td>    0.067</td> <td>   11.349</td> <td> 0.000</td> <td>    0.633</td> <td>    0.897</td>\n",
              "</tr>\n",
              "<tr>\n",
              "  <th>ma.L1.returns</th> <td>   -0.8141</td> <td>    0.061</td> <td>  -13.406</td> <td> 0.000</td> <td>   -0.933</td> <td>   -0.695</td>\n",
              "</tr>\n",
              "</table>\n",
              "<table class=\"simpletable\">\n",
              "<caption>Roots</caption>\n",
              "<tr>\n",
              "    <td></td>   <th>            Real</th>  <th>         Imaginary</th> <th>         Modulus</th>  <th>        Frequency</th>\n",
              "</tr>\n",
              "<tr>\n",
              "  <th>AR.1</th> <td>           1.3074</td> <td>          +0.0000j</td> <td>           1.3074</td> <td>           0.0000</td>\n",
              "</tr>\n",
              "<tr>\n",
              "  <th>MA.1</th> <td>           1.2284</td> <td>          +0.0000j</td> <td>           1.2284</td> <td>           0.0000</td>\n",
              "</tr>\n",
              "</table>"
            ],
            "text/plain": [
              "<class 'statsmodels.iolib.summary.Summary'>\n",
              "\"\"\"\n",
              "                              ARMA Model Results                              \n",
              "==============================================================================\n",
              "Dep. Variable:                returns   No. Observations:                 5020\n",
              "Model:                     ARMA(1, 1)   Log Likelihood               -7916.500\n",
              "Method:                       css-mle   S.D. of innovations              1.171\n",
              "Date:                Sun, 15 Mar 2020   AIC                          15841.000\n",
              "Time:                        02:44:08   BIC                          15867.085\n",
              "Sample:                    01-10-1994   HQIC                         15850.140\n",
              "                         - 04-05-2013                                         \n",
              "=================================================================================\n",
              "                    coef    std err          z      P>|z|      [0.025      0.975]\n",
              "---------------------------------------------------------------------------------\n",
              "const             0.0189      0.013      1.446      0.148      -0.007       0.045\n",
              "ar.L1.returns     0.7649      0.067     11.349      0.000       0.633       0.897\n",
              "ma.L1.returns    -0.8141      0.061    -13.406      0.000      -0.933      -0.695\n",
              "                                    Roots                                    \n",
              "=============================================================================\n",
              "                  Real          Imaginary           Modulus         Frequency\n",
              "-----------------------------------------------------------------------------\n",
              "AR.1            1.3074           +0.0000j            1.3074            0.0000\n",
              "MA.1            1.2284           +0.0000j            1.2284            0.0000\n",
              "-----------------------------------------------------------------------------\n",
              "\"\"\""
            ]
          },
          "metadata": {
            "tags": []
          },
          "execution_count": 15
        }
      ]
    },
    {
      "cell_type": "code",
      "metadata": {
        "id": "HrrNze3dE76t",
        "colab_type": "code",
        "colab": {}
      },
      "source": [
        "model_ret_ar_1 = ARMA(df.returns[1:], order=(1,0))\n",
        "model_ret_ma_1 = ARMA(df.returns[1:], order=(0,1))"
      ],
      "execution_count": 0,
      "outputs": []
    },
    {
      "cell_type": "code",
      "metadata": {
        "id": "Q4l2Ie0tFZdY",
        "colab_type": "code",
        "colab": {
          "base_uri": "https://localhost:8080/",
          "height": 89
        },
        "outputId": "5803dabd-9aef-4f13-95ac-a8468969cd58"
      },
      "source": [
        "print(\"\\nARMA vs AR \", LLR_test(model_ret_ar_1, model_ret_ar_1_ma_1))\n",
        "print(\"\\nARMA vs AR \", LLR_test(model_ret_ma_1, model_ret_ar_1_ma_1))"
      ],
      "execution_count": 17,
      "outputs": [
        {
          "output_type": "stream",
          "text": [
            "\n",
            "ARMA vs AR  0.0\n",
            "\n",
            "ARMA vs AR  0.0\n"
          ],
          "name": "stdout"
        }
      ]
    },
    {
      "cell_type": "code",
      "metadata": {
        "id": "QIFOVVR2Fmgz",
        "colab_type": "code",
        "colab": {
          "base_uri": "https://localhost:8080/",
          "height": 519
        },
        "outputId": "2bea2aaa-1110-4569-f95d-841266050021"
      },
      "source": [
        "model_ret_ar_3_ma_3 = ARMA(df.returns[1:], order = (3,3))\n",
        "results_ret_ar_3_ma_3 = model_ret_ar_3_ma_3.fit()\n",
        "results_ret_ar_3_ma_3.summary()"
      ],
      "execution_count": 18,
      "outputs": [
        {
          "output_type": "execute_result",
          "data": {
            "text/html": [
              "<table class=\"simpletable\">\n",
              "<caption>ARMA Model Results</caption>\n",
              "<tr>\n",
              "  <th>Dep. Variable:</th>      <td>returns</td>     <th>  No. Observations:  </th>   <td>5020</td>   \n",
              "</tr>\n",
              "<tr>\n",
              "  <th>Model:</th>            <td>ARMA(3, 3)</td>    <th>  Log Likelihood     </th> <td>-7893.515</td>\n",
              "</tr>\n",
              "<tr>\n",
              "  <th>Method:</th>             <td>css-mle</td>     <th>  S.D. of innovations</th>   <td>1.166</td>  \n",
              "</tr>\n",
              "<tr>\n",
              "  <th>Date:</th>          <td>Sun, 15 Mar 2020</td> <th>  AIC                </th> <td>15803.030</td>\n",
              "</tr>\n",
              "<tr>\n",
              "  <th>Time:</th>              <td>02:50:25</td>     <th>  BIC                </th> <td>15855.199</td>\n",
              "</tr>\n",
              "<tr>\n",
              "  <th>Sample:</th>           <td>01-10-1994</td>    <th>  HQIC               </th> <td>15821.310</td>\n",
              "</tr>\n",
              "<tr>\n",
              "  <th></th>                 <td>- 04-05-2013</td>   <th>                     </th>     <td> </td>    \n",
              "</tr>\n",
              "</table>\n",
              "<table class=\"simpletable\">\n",
              "<tr>\n",
              "        <td></td>           <th>coef</th>     <th>std err</th>      <th>z</th>      <th>P>|z|</th>  <th>[0.025</th>    <th>0.975]</th>  \n",
              "</tr>\n",
              "<tr>\n",
              "  <th>const</th>         <td>    0.0189</td> <td>    0.014</td> <td>    1.395</td> <td> 0.163</td> <td>   -0.008</td> <td>    0.045</td>\n",
              "</tr>\n",
              "<tr>\n",
              "  <th>ar.L1.returns</th> <td>   -0.1898</td> <td>    0.104</td> <td>   -1.827</td> <td> 0.068</td> <td>   -0.393</td> <td>    0.014</td>\n",
              "</tr>\n",
              "<tr>\n",
              "  <th>ar.L2.returns</th> <td>   -0.2942</td> <td>    0.087</td> <td>   -3.389</td> <td> 0.001</td> <td>   -0.464</td> <td>   -0.124</td>\n",
              "</tr>\n",
              "<tr>\n",
              "  <th>ar.L3.returns</th> <td>    0.4459</td> <td>    0.138</td> <td>    3.225</td> <td> 0.001</td> <td>    0.175</td> <td>    0.717</td>\n",
              "</tr>\n",
              "<tr>\n",
              "  <th>ma.L1.returns</th> <td>    0.1707</td> <td>    0.099</td> <td>    1.726</td> <td> 0.084</td> <td>   -0.023</td> <td>    0.365</td>\n",
              "</tr>\n",
              "<tr>\n",
              "  <th>ma.L2.returns</th> <td>    0.2277</td> <td>    0.084</td> <td>    2.701</td> <td> 0.007</td> <td>    0.062</td> <td>    0.393</td>\n",
              "</tr>\n",
              "<tr>\n",
              "  <th>ma.L3.returns</th> <td>   -0.5432</td> <td>    0.127</td> <td>   -4.270</td> <td> 0.000</td> <td>   -0.793</td> <td>   -0.294</td>\n",
              "</tr>\n",
              "</table>\n",
              "<table class=\"simpletable\">\n",
              "<caption>Roots</caption>\n",
              "<tr>\n",
              "    <td></td>   <th>            Real</th>  <th>         Imaginary</th> <th>         Modulus</th>  <th>        Frequency</th>\n",
              "</tr>\n",
              "<tr>\n",
              "  <th>AR.1</th> <td>          -0.5168</td> <td>          -1.0283j</td> <td>           1.1508</td> <td>          -0.3241</td>\n",
              "</tr>\n",
              "<tr>\n",
              "  <th>AR.2</th> <td>          -0.5168</td> <td>          +1.0283j</td> <td>           1.1508</td> <td>           0.3241</td>\n",
              "</tr>\n",
              "<tr>\n",
              "  <th>AR.3</th> <td>           1.6932</td> <td>          -0.0000j</td> <td>           1.6932</td> <td>          -0.0000</td>\n",
              "</tr>\n",
              "<tr>\n",
              "  <th>MA.1</th> <td>          -0.5286</td> <td>          -0.9835j</td> <td>           1.1166</td> <td>          -0.3285</td>\n",
              "</tr>\n",
              "<tr>\n",
              "  <th>MA.2</th> <td>          -0.5286</td> <td>          +0.9835j</td> <td>           1.1166</td> <td>           0.3285</td>\n",
              "</tr>\n",
              "<tr>\n",
              "  <th>MA.3</th> <td>           1.4764</td> <td>          -0.0000j</td> <td>           1.4764</td> <td>          -0.0000</td>\n",
              "</tr>\n",
              "</table>"
            ],
            "text/plain": [
              "<class 'statsmodels.iolib.summary.Summary'>\n",
              "\"\"\"\n",
              "                              ARMA Model Results                              \n",
              "==============================================================================\n",
              "Dep. Variable:                returns   No. Observations:                 5020\n",
              "Model:                     ARMA(3, 3)   Log Likelihood               -7893.515\n",
              "Method:                       css-mle   S.D. of innovations              1.166\n",
              "Date:                Sun, 15 Mar 2020   AIC                          15803.030\n",
              "Time:                        02:50:25   BIC                          15855.199\n",
              "Sample:                    01-10-1994   HQIC                         15821.310\n",
              "                         - 04-05-2013                                         \n",
              "=================================================================================\n",
              "                    coef    std err          z      P>|z|      [0.025      0.975]\n",
              "---------------------------------------------------------------------------------\n",
              "const             0.0189      0.014      1.395      0.163      -0.008       0.045\n",
              "ar.L1.returns    -0.1898      0.104     -1.827      0.068      -0.393       0.014\n",
              "ar.L2.returns    -0.2942      0.087     -3.389      0.001      -0.464      -0.124\n",
              "ar.L3.returns     0.4459      0.138      3.225      0.001       0.175       0.717\n",
              "ma.L1.returns     0.1707      0.099      1.726      0.084      -0.023       0.365\n",
              "ma.L2.returns     0.2277      0.084      2.701      0.007       0.062       0.393\n",
              "ma.L3.returns    -0.5432      0.127     -4.270      0.000      -0.793      -0.294\n",
              "                                    Roots                                    \n",
              "=============================================================================\n",
              "                  Real          Imaginary           Modulus         Frequency\n",
              "-----------------------------------------------------------------------------\n",
              "AR.1           -0.5168           -1.0283j            1.1508           -0.3241\n",
              "AR.2           -0.5168           +1.0283j            1.1508            0.3241\n",
              "AR.3            1.6932           -0.0000j            1.6932           -0.0000\n",
              "MA.1           -0.5286           -0.9835j            1.1166           -0.3285\n",
              "MA.2           -0.5286           +0.9835j            1.1166            0.3285\n",
              "MA.3            1.4764           -0.0000j            1.4764           -0.0000\n",
              "-----------------------------------------------------------------------------\n",
              "\"\"\""
            ]
          },
          "metadata": {
            "tags": []
          },
          "execution_count": 18
        }
      ]
    },
    {
      "cell_type": "code",
      "metadata": {
        "id": "5nGxqtJGHARy",
        "colab_type": "code",
        "colab": {
          "base_uri": "https://localhost:8080/",
          "height": 477
        },
        "outputId": "373525a5-35e7-4a53-fa08-2e98bbb502f4"
      },
      "source": [
        "model_ret_ar_3_ma_2 = ARMA(df.returns[1:], order = (3,2))\n",
        "results_ret_ar_3_ma_2 = model_ret_ar_3_ma_2.fit()\n",
        "results_ret_ar_3_ma_2.summary()"
      ],
      "execution_count": 20,
      "outputs": [
        {
          "output_type": "execute_result",
          "data": {
            "text/html": [
              "<table class=\"simpletable\">\n",
              "<caption>ARMA Model Results</caption>\n",
              "<tr>\n",
              "  <th>Dep. Variable:</th>      <td>returns</td>     <th>  No. Observations:  </th>   <td>5020</td>   \n",
              "</tr>\n",
              "<tr>\n",
              "  <th>Model:</th>            <td>ARMA(3, 2)</td>    <th>  Log Likelihood     </th> <td>-7895.747</td>\n",
              "</tr>\n",
              "<tr>\n",
              "  <th>Method:</th>             <td>css-mle</td>     <th>  S.D. of innovations</th>   <td>1.166</td>  \n",
              "</tr>\n",
              "<tr>\n",
              "  <th>Date:</th>          <td>Sun, 15 Mar 2020</td> <th>  AIC                </th> <td>15805.495</td>\n",
              "</tr>\n",
              "<tr>\n",
              "  <th>Time:</th>              <td>02:53:28</td>     <th>  BIC                </th> <td>15851.143</td>\n",
              "</tr>\n",
              "<tr>\n",
              "  <th>Sample:</th>           <td>01-10-1994</td>    <th>  HQIC               </th> <td>15821.491</td>\n",
              "</tr>\n",
              "<tr>\n",
              "  <th></th>                 <td>- 04-05-2013</td>   <th>                     </th>     <td> </td>    \n",
              "</tr>\n",
              "</table>\n",
              "<table class=\"simpletable\">\n",
              "<tr>\n",
              "        <td></td>           <th>coef</th>     <th>std err</th>      <th>z</th>      <th>P>|z|</th>  <th>[0.025</th>    <th>0.975]</th>  \n",
              "</tr>\n",
              "<tr>\n",
              "  <th>const</th>         <td>    0.0188</td> <td>    0.015</td> <td>    1.251</td> <td> 0.211</td> <td>   -0.011</td> <td>    0.048</td>\n",
              "</tr>\n",
              "<tr>\n",
              "  <th>ar.L1.returns</th> <td>   -0.6785</td> <td>    0.087</td> <td>   -7.799</td> <td> 0.000</td> <td>   -0.849</td> <td>   -0.508</td>\n",
              "</tr>\n",
              "<tr>\n",
              "  <th>ar.L2.returns</th> <td>   -0.5088</td> <td>    0.139</td> <td>   -3.670</td> <td> 0.000</td> <td>   -0.780</td> <td>   -0.237</td>\n",
              "</tr>\n",
              "<tr>\n",
              "  <th>ar.L3.returns</th> <td>   -0.1141</td> <td>    0.015</td> <td>   -7.655</td> <td> 0.000</td> <td>   -0.143</td> <td>   -0.085</td>\n",
              "</tr>\n",
              "<tr>\n",
              "  <th>ma.L1.returns</th> <td>    0.6568</td> <td>    0.087</td> <td>    7.536</td> <td> 0.000</td> <td>    0.486</td> <td>    0.828</td>\n",
              "</tr>\n",
              "<tr>\n",
              "  <th>ma.L2.returns</th> <td>    0.4474</td> <td>    0.141</td> <td>    3.175</td> <td> 0.002</td> <td>    0.171</td> <td>    0.724</td>\n",
              "</tr>\n",
              "</table>\n",
              "<table class=\"simpletable\">\n",
              "<caption>Roots</caption>\n",
              "<tr>\n",
              "    <td></td>   <th>            Real</th>  <th>         Imaginary</th> <th>         Modulus</th>  <th>        Frequency</th>\n",
              "</tr>\n",
              "<tr>\n",
              "  <th>AR.1</th> <td>          -0.4929</td> <td>          -1.5100j</td> <td>           1.5885</td> <td>          -0.3002</td>\n",
              "</tr>\n",
              "<tr>\n",
              "  <th>AR.2</th> <td>          -0.4929</td> <td>          +1.5100j</td> <td>           1.5885</td> <td>           0.3002</td>\n",
              "</tr>\n",
              "<tr>\n",
              "  <th>AR.3</th> <td>          -3.4749</td> <td>          -0.0000j</td> <td>           3.4749</td> <td>          -0.5000</td>\n",
              "</tr>\n",
              "<tr>\n",
              "  <th>MA.1</th> <td>          -0.7340</td> <td>          -1.3025j</td> <td>           1.4951</td> <td>          -0.3317</td>\n",
              "</tr>\n",
              "<tr>\n",
              "  <th>MA.2</th> <td>          -0.7340</td> <td>          +1.3025j</td> <td>           1.4951</td> <td>           0.3317</td>\n",
              "</tr>\n",
              "</table>"
            ],
            "text/plain": [
              "<class 'statsmodels.iolib.summary.Summary'>\n",
              "\"\"\"\n",
              "                              ARMA Model Results                              \n",
              "==============================================================================\n",
              "Dep. Variable:                returns   No. Observations:                 5020\n",
              "Model:                     ARMA(3, 2)   Log Likelihood               -7895.747\n",
              "Method:                       css-mle   S.D. of innovations              1.166\n",
              "Date:                Sun, 15 Mar 2020   AIC                          15805.495\n",
              "Time:                        02:53:28   BIC                          15851.143\n",
              "Sample:                    01-10-1994   HQIC                         15821.491\n",
              "                         - 04-05-2013                                         \n",
              "=================================================================================\n",
              "                    coef    std err          z      P>|z|      [0.025      0.975]\n",
              "---------------------------------------------------------------------------------\n",
              "const             0.0188      0.015      1.251      0.211      -0.011       0.048\n",
              "ar.L1.returns    -0.6785      0.087     -7.799      0.000      -0.849      -0.508\n",
              "ar.L2.returns    -0.5088      0.139     -3.670      0.000      -0.780      -0.237\n",
              "ar.L3.returns    -0.1141      0.015     -7.655      0.000      -0.143      -0.085\n",
              "ma.L1.returns     0.6568      0.087      7.536      0.000       0.486       0.828\n",
              "ma.L2.returns     0.4474      0.141      3.175      0.002       0.171       0.724\n",
              "                                    Roots                                    \n",
              "=============================================================================\n",
              "                  Real          Imaginary           Modulus         Frequency\n",
              "-----------------------------------------------------------------------------\n",
              "AR.1           -0.4929           -1.5100j            1.5885           -0.3002\n",
              "AR.2           -0.4929           +1.5100j            1.5885            0.3002\n",
              "AR.3           -3.4749           -0.0000j            3.4749           -0.5000\n",
              "MA.1           -0.7340           -1.3025j            1.4951           -0.3317\n",
              "MA.2           -0.7340           +1.3025j            1.4951            0.3317\n",
              "-----------------------------------------------------------------------------\n",
              "\"\"\""
            ]
          },
          "metadata": {
            "tags": []
          },
          "execution_count": 20
        }
      ]
    },
    {
      "cell_type": "code",
      "metadata": {
        "id": "OY7CtXRsGXrX",
        "colab_type": "code",
        "colab": {
          "base_uri": "https://localhost:8080/",
          "height": 477
        },
        "outputId": "2b3d9558-e982-4026-fe14-adceac67ba54"
      },
      "source": [
        "model_ret_ar_2_ma_3 = ARMA(df.returns[1:], order = (2,3))\n",
        "results_ret_ar_2_ma_3 = model_ret_ar_2_ma_3.fit()\n",
        "results_ret_ar_2_ma_3.summary()"
      ],
      "execution_count": 19,
      "outputs": [
        {
          "output_type": "execute_result",
          "data": {
            "text/html": [
              "<table class=\"simpletable\">\n",
              "<caption>ARMA Model Results</caption>\n",
              "<tr>\n",
              "  <th>Dep. Variable:</th>      <td>returns</td>     <th>  No. Observations:  </th>   <td>5020</td>   \n",
              "</tr>\n",
              "<tr>\n",
              "  <th>Model:</th>            <td>ARMA(2, 3)</td>    <th>  Log Likelihood     </th> <td>-7895.587</td>\n",
              "</tr>\n",
              "<tr>\n",
              "  <th>Method:</th>             <td>css-mle</td>     <th>  S.D. of innovations</th>   <td>1.166</td>  \n",
              "</tr>\n",
              "<tr>\n",
              "  <th>Date:</th>          <td>Sun, 15 Mar 2020</td> <th>  AIC                </th> <td>15805.174</td>\n",
              "</tr>\n",
              "<tr>\n",
              "  <th>Time:</th>              <td>02:51:22</td>     <th>  BIC                </th> <td>15850.823</td>\n",
              "</tr>\n",
              "<tr>\n",
              "  <th>Sample:</th>           <td>01-10-1994</td>    <th>  HQIC               </th> <td>15821.170</td>\n",
              "</tr>\n",
              "<tr>\n",
              "  <th></th>                 <td>- 04-05-2013</td>   <th>                     </th>     <td> </td>    \n",
              "</tr>\n",
              "</table>\n",
              "<table class=\"simpletable\">\n",
              "<tr>\n",
              "        <td></td>           <th>coef</th>     <th>std err</th>      <th>z</th>      <th>P>|z|</th>  <th>[0.025</th>    <th>0.975]</th>  \n",
              "</tr>\n",
              "<tr>\n",
              "  <th>const</th>         <td>    0.0189</td> <td>    0.015</td> <td>    1.276</td> <td> 0.202</td> <td>   -0.010</td> <td>    0.048</td>\n",
              "</tr>\n",
              "<tr>\n",
              "  <th>ar.L1.returns</th> <td>   -0.5605</td> <td>    0.090</td> <td>   -6.245</td> <td> 0.000</td> <td>   -0.736</td> <td>   -0.385</td>\n",
              "</tr>\n",
              "<tr>\n",
              "  <th>ar.L2.returns</th> <td>   -0.4187</td> <td>    0.193</td> <td>   -2.172</td> <td> 0.030</td> <td>   -0.797</td> <td>   -0.041</td>\n",
              "</tr>\n",
              "<tr>\n",
              "  <th>ma.L1.returns</th> <td>    0.5378</td> <td>    0.090</td> <td>    6.000</td> <td> 0.000</td> <td>    0.362</td> <td>    0.714</td>\n",
              "</tr>\n",
              "<tr>\n",
              "  <th>ma.L2.returns</th> <td>    0.3540</td> <td>    0.195</td> <td>    1.818</td> <td> 0.069</td> <td>   -0.028</td> <td>    0.736</td>\n",
              "</tr>\n",
              "<tr>\n",
              "  <th>ma.L3.returns</th> <td>   -0.1158</td> <td>    0.016</td> <td>   -7.369</td> <td> 0.000</td> <td>   -0.147</td> <td>   -0.085</td>\n",
              "</tr>\n",
              "</table>\n",
              "<table class=\"simpletable\">\n",
              "<caption>Roots</caption>\n",
              "<tr>\n",
              "    <td></td>   <th>            Real</th>  <th>         Imaginary</th> <th>         Modulus</th>  <th>        Frequency</th>\n",
              "</tr>\n",
              "<tr>\n",
              "  <th>AR.1</th> <td>          -0.6694</td> <td>          -1.3930j</td> <td>           1.5455</td> <td>          -0.3213</td>\n",
              "</tr>\n",
              "<tr>\n",
              "  <th>AR.2</th> <td>          -0.6694</td> <td>          +1.3930j</td> <td>           1.5455</td> <td>           0.3213</td>\n",
              "</tr>\n",
              "<tr>\n",
              "  <th>MA.1</th> <td>          -0.7270</td> <td>          -1.1772j</td> <td>           1.3836</td> <td>          -0.3381</td>\n",
              "</tr>\n",
              "<tr>\n",
              "  <th>MA.2</th> <td>          -0.7270</td> <td>          +1.1772j</td> <td>           1.3836</td> <td>           0.3381</td>\n",
              "</tr>\n",
              "<tr>\n",
              "  <th>MA.3</th> <td>           4.5096</td> <td>          -0.0000j</td> <td>           4.5096</td> <td>          -0.0000</td>\n",
              "</tr>\n",
              "</table>"
            ],
            "text/plain": [
              "<class 'statsmodels.iolib.summary.Summary'>\n",
              "\"\"\"\n",
              "                              ARMA Model Results                              \n",
              "==============================================================================\n",
              "Dep. Variable:                returns   No. Observations:                 5020\n",
              "Model:                     ARMA(2, 3)   Log Likelihood               -7895.587\n",
              "Method:                       css-mle   S.D. of innovations              1.166\n",
              "Date:                Sun, 15 Mar 2020   AIC                          15805.174\n",
              "Time:                        02:51:22   BIC                          15850.823\n",
              "Sample:                    01-10-1994   HQIC                         15821.170\n",
              "                         - 04-05-2013                                         \n",
              "=================================================================================\n",
              "                    coef    std err          z      P>|z|      [0.025      0.975]\n",
              "---------------------------------------------------------------------------------\n",
              "const             0.0189      0.015      1.276      0.202      -0.010       0.048\n",
              "ar.L1.returns    -0.5605      0.090     -6.245      0.000      -0.736      -0.385\n",
              "ar.L2.returns    -0.4187      0.193     -2.172      0.030      -0.797      -0.041\n",
              "ma.L1.returns     0.5378      0.090      6.000      0.000       0.362       0.714\n",
              "ma.L2.returns     0.3540      0.195      1.818      0.069      -0.028       0.736\n",
              "ma.L3.returns    -0.1158      0.016     -7.369      0.000      -0.147      -0.085\n",
              "                                    Roots                                    \n",
              "=============================================================================\n",
              "                  Real          Imaginary           Modulus         Frequency\n",
              "-----------------------------------------------------------------------------\n",
              "AR.1           -0.6694           -1.3930j            1.5455           -0.3213\n",
              "AR.2           -0.6694           +1.3930j            1.5455            0.3213\n",
              "MA.1           -0.7270           -1.1772j            1.3836           -0.3381\n",
              "MA.2           -0.7270           +1.1772j            1.3836            0.3381\n",
              "MA.3            4.5096           -0.0000j            4.5096           -0.0000\n",
              "-----------------------------------------------------------------------------\n",
              "\"\"\""
            ]
          },
          "metadata": {
            "tags": []
          },
          "execution_count": 19
        }
      ]
    },
    {
      "cell_type": "code",
      "metadata": {
        "id": "31pO6f8NGlv4",
        "colab_type": "code",
        "colab": {
          "base_uri": "https://localhost:8080/",
          "height": 435
        },
        "outputId": "41c25d27-c89d-43cc-adaf-bb3c941b127e"
      },
      "source": [
        "model_ret_ar_3_ma_1 = ARMA(df.returns[1:], order = (3,1))\n",
        "results_ret_ar_3_ma_1 = model_ret_ar_3_ma_1.fit()\n",
        "results_ret_ar_3_ma_1.summary()"
      ],
      "execution_count": 21,
      "outputs": [
        {
          "output_type": "execute_result",
          "data": {
            "text/html": [
              "<table class=\"simpletable\">\n",
              "<caption>ARMA Model Results</caption>\n",
              "<tr>\n",
              "  <th>Dep. Variable:</th>      <td>returns</td>     <th>  No. Observations:  </th>   <td>5020</td>   \n",
              "</tr>\n",
              "<tr>\n",
              "  <th>Model:</th>            <td>ARMA(3, 1)</td>    <th>  Log Likelihood     </th> <td>-7899.072</td>\n",
              "</tr>\n",
              "<tr>\n",
              "  <th>Method:</th>             <td>css-mle</td>     <th>  S.D. of innovations</th>   <td>1.167</td>  \n",
              "</tr>\n",
              "<tr>\n",
              "  <th>Date:</th>          <td>Sun, 15 Mar 2020</td> <th>  AIC                </th> <td>15810.144</td>\n",
              "</tr>\n",
              "<tr>\n",
              "  <th>Time:</th>              <td>02:54:08</td>     <th>  BIC                </th> <td>15849.271</td>\n",
              "</tr>\n",
              "<tr>\n",
              "  <th>Sample:</th>           <td>01-10-1994</td>    <th>  HQIC               </th> <td>15823.855</td>\n",
              "</tr>\n",
              "<tr>\n",
              "  <th></th>                 <td>- 04-05-2013</td>   <th>                     </th>     <td> </td>    \n",
              "</tr>\n",
              "</table>\n",
              "<table class=\"simpletable\">\n",
              "<tr>\n",
              "        <td></td>           <th>coef</th>     <th>std err</th>      <th>z</th>      <th>P>|z|</th>  <th>[0.025</th>    <th>0.975]</th>  \n",
              "</tr>\n",
              "<tr>\n",
              "  <th>const</th>         <td>    0.0189</td> <td>    0.015</td> <td>    1.298</td> <td> 0.194</td> <td>   -0.010</td> <td>    0.047</td>\n",
              "</tr>\n",
              "<tr>\n",
              "  <th>ar.L1.returns</th> <td>   -0.5077</td> <td>    0.088</td> <td>   -5.769</td> <td> 0.000</td> <td>   -0.680</td> <td>   -0.335</td>\n",
              "</tr>\n",
              "<tr>\n",
              "  <th>ar.L2.returns</th> <td>   -0.0638</td> <td>    0.016</td> <td>   -4.023</td> <td> 0.000</td> <td>   -0.095</td> <td>   -0.033</td>\n",
              "</tr>\n",
              "<tr>\n",
              "  <th>ar.L3.returns</th> <td>   -0.1102</td> <td>    0.014</td> <td>   -7.850</td> <td> 0.000</td> <td>   -0.138</td> <td>   -0.083</td>\n",
              "</tr>\n",
              "<tr>\n",
              "  <th>ma.L1.returns</th> <td>    0.4839</td> <td>    0.088</td> <td>    5.500</td> <td> 0.000</td> <td>    0.311</td> <td>    0.656</td>\n",
              "</tr>\n",
              "</table>\n",
              "<table class=\"simpletable\">\n",
              "<caption>Roots</caption>\n",
              "<tr>\n",
              "    <td></td>   <th>            Real</th>  <th>         Imaginary</th> <th>         Modulus</th>  <th>        Frequency</th>\n",
              "</tr>\n",
              "<tr>\n",
              "  <th>AR.1</th> <td>          -1.5095</td> <td>          -0.0000j</td> <td>           1.5095</td> <td>          -0.5000</td>\n",
              "</tr>\n",
              "<tr>\n",
              "  <th>AR.2</th> <td>           0.4653</td> <td>          -2.4076j</td> <td>           2.4521</td> <td>          -0.2196</td>\n",
              "</tr>\n",
              "<tr>\n",
              "  <th>AR.3</th> <td>           0.4653</td> <td>          +2.4076j</td> <td>           2.4521</td> <td>           0.2196</td>\n",
              "</tr>\n",
              "<tr>\n",
              "  <th>MA.1</th> <td>          -2.0668</td> <td>          +0.0000j</td> <td>           2.0668</td> <td>           0.5000</td>\n",
              "</tr>\n",
              "</table>"
            ],
            "text/plain": [
              "<class 'statsmodels.iolib.summary.Summary'>\n",
              "\"\"\"\n",
              "                              ARMA Model Results                              \n",
              "==============================================================================\n",
              "Dep. Variable:                returns   No. Observations:                 5020\n",
              "Model:                     ARMA(3, 1)   Log Likelihood               -7899.072\n",
              "Method:                       css-mle   S.D. of innovations              1.167\n",
              "Date:                Sun, 15 Mar 2020   AIC                          15810.144\n",
              "Time:                        02:54:08   BIC                          15849.271\n",
              "Sample:                    01-10-1994   HQIC                         15823.855\n",
              "                         - 04-05-2013                                         \n",
              "=================================================================================\n",
              "                    coef    std err          z      P>|z|      [0.025      0.975]\n",
              "---------------------------------------------------------------------------------\n",
              "const             0.0189      0.015      1.298      0.194      -0.010       0.047\n",
              "ar.L1.returns    -0.5077      0.088     -5.769      0.000      -0.680      -0.335\n",
              "ar.L2.returns    -0.0638      0.016     -4.023      0.000      -0.095      -0.033\n",
              "ar.L3.returns    -0.1102      0.014     -7.850      0.000      -0.138      -0.083\n",
              "ma.L1.returns     0.4839      0.088      5.500      0.000       0.311       0.656\n",
              "                                    Roots                                    \n",
              "=============================================================================\n",
              "                  Real          Imaginary           Modulus         Frequency\n",
              "-----------------------------------------------------------------------------\n",
              "AR.1           -1.5095           -0.0000j            1.5095           -0.5000\n",
              "AR.2            0.4653           -2.4076j            2.4521           -0.2196\n",
              "AR.3            0.4653           +2.4076j            2.4521            0.2196\n",
              "MA.1           -2.0668           +0.0000j            2.0668            0.5000\n",
              "-----------------------------------------------------------------------------\n",
              "\"\"\""
            ]
          },
          "metadata": {
            "tags": []
          },
          "execution_count": 21
        }
      ]
    },
    {
      "cell_type": "code",
      "metadata": {
        "id": "9YIk1ypjHxVw",
        "colab_type": "code",
        "colab": {
          "base_uri": "https://localhost:8080/",
          "height": 35
        },
        "outputId": "943bf9eb-447d-4839-9b32-ef803d8d037d"
      },
      "source": [
        "LLR_test(model_ret_ar_3_ma_1, model_ret_ar_3_ma_2)"
      ],
      "execution_count": 26,
      "outputs": [
        {
          "output_type": "execute_result",
          "data": {
            "text/plain": [
              "0.009"
            ]
          },
          "metadata": {
            "tags": []
          },
          "execution_count": 26
        }
      ]
    },
    {
      "cell_type": "code",
      "metadata": {
        "id": "uKUy3UMnHOKb",
        "colab_type": "code",
        "colab": {
          "base_uri": "https://localhost:8080/",
          "height": 435
        },
        "outputId": "717b8563-8e6a-41f1-b6ee-fef599f6bff6"
      },
      "source": [
        "model_ret_ar_1_ma_3 = ARMA(df.returns[1:], order = (1,3))\n",
        "results_ret_ar_1_ma_3 = model_ret_ar_1_ma_3.fit()\n",
        "results_ret_ar_1_ma_3.summary()"
      ],
      "execution_count": 22,
      "outputs": [
        {
          "output_type": "execute_result",
          "data": {
            "text/html": [
              "<table class=\"simpletable\">\n",
              "<caption>ARMA Model Results</caption>\n",
              "<tr>\n",
              "  <th>Dep. Variable:</th>      <td>returns</td>     <th>  No. Observations:  </th>   <td>5020</td>   \n",
              "</tr>\n",
              "<tr>\n",
              "  <th>Model:</th>            <td>ARMA(1, 3)</td>    <th>  Log Likelihood     </th> <td>-7896.838</td>\n",
              "</tr>\n",
              "<tr>\n",
              "  <th>Method:</th>             <td>css-mle</td>     <th>  S.D. of innovations</th>   <td>1.167</td>  \n",
              "</tr>\n",
              "<tr>\n",
              "  <th>Date:</th>          <td>Sun, 15 Mar 2020</td> <th>  AIC                </th> <td>15805.676</td>\n",
              "</tr>\n",
              "<tr>\n",
              "  <th>Time:</th>              <td>02:54:27</td>     <th>  BIC                </th> <td>15844.803</td>\n",
              "</tr>\n",
              "<tr>\n",
              "  <th>Sample:</th>           <td>01-10-1994</td>    <th>  HQIC               </th> <td>15819.386</td>\n",
              "</tr>\n",
              "<tr>\n",
              "  <th></th>                 <td>- 04-05-2013</td>   <th>                     </th>     <td> </td>    \n",
              "</tr>\n",
              "</table>\n",
              "<table class=\"simpletable\">\n",
              "<tr>\n",
              "        <td></td>           <th>coef</th>     <th>std err</th>      <th>z</th>      <th>P>|z|</th>  <th>[0.025</th>    <th>0.975]</th>  \n",
              "</tr>\n",
              "<tr>\n",
              "  <th>const</th>         <td>    0.0189</td> <td>    0.014</td> <td>    1.332</td> <td> 0.183</td> <td>   -0.009</td> <td>    0.047</td>\n",
              "</tr>\n",
              "<tr>\n",
              "  <th>ar.L1.returns</th> <td>   -0.4699</td> <td>    0.096</td> <td>   -4.901</td> <td> 0.000</td> <td>   -0.658</td> <td>   -0.282</td>\n",
              "</tr>\n",
              "<tr>\n",
              "  <th>ma.L1.returns</th> <td>    0.4474</td> <td>    0.095</td> <td>    4.691</td> <td> 0.000</td> <td>    0.260</td> <td>    0.634</td>\n",
              "</tr>\n",
              "<tr>\n",
              "  <th>ma.L2.returns</th> <td>   -0.0637</td> <td>    0.015</td> <td>   -4.113</td> <td> 0.000</td> <td>   -0.094</td> <td>   -0.033</td>\n",
              "</tr>\n",
              "<tr>\n",
              "  <th>ma.L3.returns</th> <td>   -0.1182</td> <td>    0.014</td> <td>   -8.200</td> <td> 0.000</td> <td>   -0.146</td> <td>   -0.090</td>\n",
              "</tr>\n",
              "</table>\n",
              "<table class=\"simpletable\">\n",
              "<caption>Roots</caption>\n",
              "<tr>\n",
              "    <td></td>   <th>            Real</th>  <th>         Imaginary</th> <th>         Modulus</th>  <th>        Frequency</th>\n",
              "</tr>\n",
              "<tr>\n",
              "  <th>AR.1</th> <td>          -2.1282</td> <td>          +0.0000j</td> <td>           2.1282</td> <td>           0.5000</td>\n",
              "</tr>\n",
              "<tr>\n",
              "  <th>MA.1</th> <td>          -1.4882</td> <td>          -1.1206j</td> <td>           1.8629</td> <td>          -0.3973</td>\n",
              "</tr>\n",
              "<tr>\n",
              "  <th>MA.2</th> <td>          -1.4882</td> <td>          +1.1206j</td> <td>           1.8629</td> <td>           0.3973</td>\n",
              "</tr>\n",
              "<tr>\n",
              "  <th>MA.3</th> <td>           2.4376</td> <td>          -0.0000j</td> <td>           2.4376</td> <td>          -0.0000</td>\n",
              "</tr>\n",
              "</table>"
            ],
            "text/plain": [
              "<class 'statsmodels.iolib.summary.Summary'>\n",
              "\"\"\"\n",
              "                              ARMA Model Results                              \n",
              "==============================================================================\n",
              "Dep. Variable:                returns   No. Observations:                 5020\n",
              "Model:                     ARMA(1, 3)   Log Likelihood               -7896.838\n",
              "Method:                       css-mle   S.D. of innovations              1.167\n",
              "Date:                Sun, 15 Mar 2020   AIC                          15805.676\n",
              "Time:                        02:54:27   BIC                          15844.803\n",
              "Sample:                    01-10-1994   HQIC                         15819.386\n",
              "                         - 04-05-2013                                         \n",
              "=================================================================================\n",
              "                    coef    std err          z      P>|z|      [0.025      0.975]\n",
              "---------------------------------------------------------------------------------\n",
              "const             0.0189      0.014      1.332      0.183      -0.009       0.047\n",
              "ar.L1.returns    -0.4699      0.096     -4.901      0.000      -0.658      -0.282\n",
              "ma.L1.returns     0.4474      0.095      4.691      0.000       0.260       0.634\n",
              "ma.L2.returns    -0.0637      0.015     -4.113      0.000      -0.094      -0.033\n",
              "ma.L3.returns    -0.1182      0.014     -8.200      0.000      -0.146      -0.090\n",
              "                                    Roots                                    \n",
              "=============================================================================\n",
              "                  Real          Imaginary           Modulus         Frequency\n",
              "-----------------------------------------------------------------------------\n",
              "AR.1           -2.1282           +0.0000j            2.1282            0.5000\n",
              "MA.1           -1.4882           -1.1206j            1.8629           -0.3973\n",
              "MA.2           -1.4882           +1.1206j            1.8629            0.3973\n",
              "MA.3            2.4376           -0.0000j            2.4376           -0.0000\n",
              "-----------------------------------------------------------------------------\n",
              "\"\"\""
            ]
          },
          "metadata": {
            "tags": []
          },
          "execution_count": 22
        }
      ]
    },
    {
      "cell_type": "code",
      "metadata": {
        "id": "aFhdn20rHS9U",
        "colab_type": "code",
        "colab": {
          "base_uri": "https://localhost:8080/",
          "height": 435
        },
        "outputId": "6dfb0b83-9968-4279-e595-fbe229053234"
      },
      "source": [
        "model_ret_ar_2_ma_2 = ARMA(df.returns[1:], order = (2,2))\n",
        "results_ret_ar_2_ma_2 = model_ret_ar_2_ma_2.fit()\n",
        "results_ret_ar_2_ma_2.summary()"
      ],
      "execution_count": 23,
      "outputs": [
        {
          "output_type": "execute_result",
          "data": {
            "text/html": [
              "<table class=\"simpletable\">\n",
              "<caption>ARMA Model Results</caption>\n",
              "<tr>\n",
              "  <th>Dep. Variable:</th>      <td>returns</td>     <th>  No. Observations:  </th>   <td>5020</td>   \n",
              "</tr>\n",
              "<tr>\n",
              "  <th>Model:</th>            <td>ARMA(2, 2)</td>    <th>  Log Likelihood     </th> <td>-7913.223</td>\n",
              "</tr>\n",
              "<tr>\n",
              "  <th>Method:</th>             <td>css-mle</td>     <th>  S.D. of innovations</th>   <td>1.170</td>  \n",
              "</tr>\n",
              "<tr>\n",
              "  <th>Date:</th>          <td>Sun, 15 Mar 2020</td> <th>  AIC                </th> <td>15838.446</td>\n",
              "</tr>\n",
              "<tr>\n",
              "  <th>Time:</th>              <td>02:54:58</td>     <th>  BIC                </th> <td>15877.573</td>\n",
              "</tr>\n",
              "<tr>\n",
              "  <th>Sample:</th>           <td>01-10-1994</td>    <th>  HQIC               </th> <td>15852.156</td>\n",
              "</tr>\n",
              "<tr>\n",
              "  <th></th>                 <td>- 04-05-2013</td>   <th>                     </th>     <td> </td>    \n",
              "</tr>\n",
              "</table>\n",
              "<table class=\"simpletable\">\n",
              "<tr>\n",
              "        <td></td>           <th>coef</th>     <th>std err</th>      <th>z</th>      <th>P>|z|</th>  <th>[0.025</th>    <th>0.975]</th>  \n",
              "</tr>\n",
              "<tr>\n",
              "  <th>const</th>         <td>    0.0189</td> <td>    0.014</td> <td>    1.394</td> <td> 0.163</td> <td>   -0.008</td> <td>    0.045</td>\n",
              "</tr>\n",
              "<tr>\n",
              "  <th>ar.L1.returns</th> <td>    0.7820</td> <td>    0.238</td> <td>    3.284</td> <td> 0.001</td> <td>    0.315</td> <td>    1.249</td>\n",
              "</tr>\n",
              "<tr>\n",
              "  <th>ar.L2.returns</th> <td>   -0.1563</td> <td>    0.177</td> <td>   -0.884</td> <td> 0.377</td> <td>   -0.503</td> <td>    0.190</td>\n",
              "</tr>\n",
              "<tr>\n",
              "  <th>ma.L1.returns</th> <td>   -0.8105</td> <td>    0.239</td> <td>   -3.388</td> <td> 0.001</td> <td>   -1.279</td> <td>   -0.342</td>\n",
              "</tr>\n",
              "<tr>\n",
              "  <th>ma.L2.returns</th> <td>    0.1177</td> <td>    0.187</td> <td>    0.628</td> <td> 0.530</td> <td>   -0.250</td> <td>    0.485</td>\n",
              "</tr>\n",
              "</table>\n",
              "<table class=\"simpletable\">\n",
              "<caption>Roots</caption>\n",
              "<tr>\n",
              "    <td></td>   <th>            Real</th>  <th>         Imaginary</th> <th>         Modulus</th>  <th>        Frequency</th>\n",
              "</tr>\n",
              "<tr>\n",
              "  <th>AR.1</th> <td>           2.5017</td> <td>          -0.3739j</td> <td>           2.5295</td> <td>          -0.0236</td>\n",
              "</tr>\n",
              "<tr>\n",
              "  <th>AR.2</th> <td>           2.5017</td> <td>          +0.3739j</td> <td>           2.5295</td> <td>           0.0236</td>\n",
              "</tr>\n",
              "<tr>\n",
              "  <th>MA.1</th> <td>           1.6107</td> <td>          +0.0000j</td> <td>           1.6107</td> <td>           0.0000</td>\n",
              "</tr>\n",
              "<tr>\n",
              "  <th>MA.2</th> <td>           5.2737</td> <td>          +0.0000j</td> <td>           5.2737</td> <td>           0.0000</td>\n",
              "</tr>\n",
              "</table>"
            ],
            "text/plain": [
              "<class 'statsmodels.iolib.summary.Summary'>\n",
              "\"\"\"\n",
              "                              ARMA Model Results                              \n",
              "==============================================================================\n",
              "Dep. Variable:                returns   No. Observations:                 5020\n",
              "Model:                     ARMA(2, 2)   Log Likelihood               -7913.223\n",
              "Method:                       css-mle   S.D. of innovations              1.170\n",
              "Date:                Sun, 15 Mar 2020   AIC                          15838.446\n",
              "Time:                        02:54:58   BIC                          15877.573\n",
              "Sample:                    01-10-1994   HQIC                         15852.156\n",
              "                         - 04-05-2013                                         \n",
              "=================================================================================\n",
              "                    coef    std err          z      P>|z|      [0.025      0.975]\n",
              "---------------------------------------------------------------------------------\n",
              "const             0.0189      0.014      1.394      0.163      -0.008       0.045\n",
              "ar.L1.returns     0.7820      0.238      3.284      0.001       0.315       1.249\n",
              "ar.L2.returns    -0.1563      0.177     -0.884      0.377      -0.503       0.190\n",
              "ma.L1.returns    -0.8105      0.239     -3.388      0.001      -1.279      -0.342\n",
              "ma.L2.returns     0.1177      0.187      0.628      0.530      -0.250       0.485\n",
              "                                    Roots                                    \n",
              "=============================================================================\n",
              "                  Real          Imaginary           Modulus         Frequency\n",
              "-----------------------------------------------------------------------------\n",
              "AR.1            2.5017           -0.3739j            2.5295           -0.0236\n",
              "AR.2            2.5017           +0.3739j            2.5295            0.0236\n",
              "MA.1            1.6107           +0.0000j            1.6107            0.0000\n",
              "MA.2            5.2737           +0.0000j            5.2737            0.0000\n",
              "-----------------------------------------------------------------------------\n",
              "\"\"\""
            ]
          },
          "metadata": {
            "tags": []
          },
          "execution_count": 23
        }
      ]
    },
    {
      "cell_type": "code",
      "metadata": {
        "id": "7D4L9ntmHaRS",
        "colab_type": "code",
        "colab": {
          "base_uri": "https://localhost:8080/",
          "height": 393
        },
        "outputId": "85ea40c7-b51d-49a3-a814-278a6664d872"
      },
      "source": [
        "model_ret_ar_2_ma_1 = ARMA(df.returns[1:], order = (2,1))\n",
        "results_ret_ar_2_ma_1 = model_ret_ar_2_ma_1.fit()\n",
        "results_ret_ar_2_ma_1.summary()"
      ],
      "execution_count": 24,
      "outputs": [
        {
          "output_type": "execute_result",
          "data": {
            "text/html": [
              "<table class=\"simpletable\">\n",
              "<caption>ARMA Model Results</caption>\n",
              "<tr>\n",
              "  <th>Dep. Variable:</th>      <td>returns</td>     <th>  No. Observations:  </th>   <td>5020</td>   \n",
              "</tr>\n",
              "<tr>\n",
              "  <th>Model:</th>            <td>ARMA(2, 1)</td>    <th>  Log Likelihood     </th> <td>-7913.456</td>\n",
              "</tr>\n",
              "<tr>\n",
              "  <th>Method:</th>             <td>css-mle</td>     <th>  S.D. of innovations</th>   <td>1.171</td>  \n",
              "</tr>\n",
              "<tr>\n",
              "  <th>Date:</th>          <td>Sun, 15 Mar 2020</td> <th>  AIC                </th> <td>15836.913</td>\n",
              "</tr>\n",
              "<tr>\n",
              "  <th>Time:</th>              <td>02:55:26</td>     <th>  BIC                </th> <td>15869.519</td>\n",
              "</tr>\n",
              "<tr>\n",
              "  <th>Sample:</th>           <td>01-10-1994</td>    <th>  HQIC               </th> <td>15848.338</td>\n",
              "</tr>\n",
              "<tr>\n",
              "  <th></th>                 <td>- 04-05-2013</td>   <th>                     </th>     <td> </td>    \n",
              "</tr>\n",
              "</table>\n",
              "<table class=\"simpletable\">\n",
              "<tr>\n",
              "        <td></td>           <th>coef</th>     <th>std err</th>      <th>z</th>      <th>P>|z|</th>  <th>[0.025</th>    <th>0.975]</th>  \n",
              "</tr>\n",
              "<tr>\n",
              "  <th>const</th>         <td>    0.0189</td> <td>    0.013</td> <td>    1.405</td> <td> 0.160</td> <td>   -0.007</td> <td>    0.045</td>\n",
              "</tr>\n",
              "<tr>\n",
              "  <th>ar.L1.returns</th> <td>    0.6541</td> <td>    0.093</td> <td>    7.068</td> <td> 0.000</td> <td>    0.473</td> <td>    0.835</td>\n",
              "</tr>\n",
              "<tr>\n",
              "  <th>ar.L2.returns</th> <td>   -0.0433</td> <td>    0.017</td> <td>   -2.593</td> <td> 0.010</td> <td>   -0.076</td> <td>   -0.011</td>\n",
              "</tr>\n",
              "<tr>\n",
              "  <th>ma.L1.returns</th> <td>   -0.6829</td> <td>    0.092</td> <td>   -7.431</td> <td> 0.000</td> <td>   -0.863</td> <td>   -0.503</td>\n",
              "</tr>\n",
              "</table>\n",
              "<table class=\"simpletable\">\n",
              "<caption>Roots</caption>\n",
              "<tr>\n",
              "    <td></td>   <th>            Real</th>  <th>         Imaginary</th> <th>         Modulus</th>  <th>        Frequency</th>\n",
              "</tr>\n",
              "<tr>\n",
              "  <th>AR.1</th> <td>           1.7262</td> <td>          +0.0000j</td> <td>           1.7262</td> <td>           0.0000</td>\n",
              "</tr>\n",
              "<tr>\n",
              "  <th>AR.2</th> <td>          13.3734</td> <td>          +0.0000j</td> <td>          13.3734</td> <td>           0.0000</td>\n",
              "</tr>\n",
              "<tr>\n",
              "  <th>MA.1</th> <td>           1.4643</td> <td>          +0.0000j</td> <td>           1.4643</td> <td>           0.0000</td>\n",
              "</tr>\n",
              "</table>"
            ],
            "text/plain": [
              "<class 'statsmodels.iolib.summary.Summary'>\n",
              "\"\"\"\n",
              "                              ARMA Model Results                              \n",
              "==============================================================================\n",
              "Dep. Variable:                returns   No. Observations:                 5020\n",
              "Model:                     ARMA(2, 1)   Log Likelihood               -7913.456\n",
              "Method:                       css-mle   S.D. of innovations              1.171\n",
              "Date:                Sun, 15 Mar 2020   AIC                          15836.913\n",
              "Time:                        02:55:26   BIC                          15869.519\n",
              "Sample:                    01-10-1994   HQIC                         15848.338\n",
              "                         - 04-05-2013                                         \n",
              "=================================================================================\n",
              "                    coef    std err          z      P>|z|      [0.025      0.975]\n",
              "---------------------------------------------------------------------------------\n",
              "const             0.0189      0.013      1.405      0.160      -0.007       0.045\n",
              "ar.L1.returns     0.6541      0.093      7.068      0.000       0.473       0.835\n",
              "ar.L2.returns    -0.0433      0.017     -2.593      0.010      -0.076      -0.011\n",
              "ma.L1.returns    -0.6829      0.092     -7.431      0.000      -0.863      -0.503\n",
              "                                    Roots                                    \n",
              "=============================================================================\n",
              "                  Real          Imaginary           Modulus         Frequency\n",
              "-----------------------------------------------------------------------------\n",
              "AR.1            1.7262           +0.0000j            1.7262            0.0000\n",
              "AR.2           13.3734           +0.0000j           13.3734            0.0000\n",
              "MA.1            1.4643           +0.0000j            1.4643            0.0000\n",
              "-----------------------------------------------------------------------------\n",
              "\"\"\""
            ]
          },
          "metadata": {
            "tags": []
          },
          "execution_count": 24
        }
      ]
    },
    {
      "cell_type": "code",
      "metadata": {
        "id": "M0PZPEPgHhp5",
        "colab_type": "code",
        "colab": {
          "base_uri": "https://localhost:8080/",
          "height": 393
        },
        "outputId": "9ad3f251-fc35-4efd-b939-7d3f6fd50133"
      },
      "source": [
        "model_ret_ar_1_ma_2 = ARMA(df.returns[1:], order = (1,2))\n",
        "results_ret_ar_1_ma_2 = model_ret_ar_1_ma_2.fit()\n",
        "results_ret_ar_1_ma_2.summary()"
      ],
      "execution_count": 25,
      "outputs": [
        {
          "output_type": "execute_result",
          "data": {
            "text/html": [
              "<table class=\"simpletable\">\n",
              "<caption>ARMA Model Results</caption>\n",
              "<tr>\n",
              "  <th>Dep. Variable:</th>      <td>returns</td>     <th>  No. Observations:  </th>   <td>5020</td>   \n",
              "</tr>\n",
              "<tr>\n",
              "  <th>Model:</th>            <td>ARMA(1, 2)</td>    <th>  Log Likelihood     </th> <td>-7913.670</td>\n",
              "</tr>\n",
              "<tr>\n",
              "  <th>Method:</th>             <td>css-mle</td>     <th>  S.D. of innovations</th>   <td>1.171</td>  \n",
              "</tr>\n",
              "<tr>\n",
              "  <th>Date:</th>          <td>Sun, 15 Mar 2020</td> <th>  AIC                </th> <td>15837.341</td>\n",
              "</tr>\n",
              "<tr>\n",
              "  <th>Time:</th>              <td>02:55:56</td>     <th>  BIC                </th> <td>15869.947</td>\n",
              "</tr>\n",
              "<tr>\n",
              "  <th>Sample:</th>           <td>01-10-1994</td>    <th>  HQIC               </th> <td>15848.766</td>\n",
              "</tr>\n",
              "<tr>\n",
              "  <th></th>                 <td>- 04-05-2013</td>   <th>                     </th>     <td> </td>    \n",
              "</tr>\n",
              "</table>\n",
              "<table class=\"simpletable\">\n",
              "<tr>\n",
              "        <td></td>           <th>coef</th>     <th>std err</th>      <th>z</th>      <th>P>|z|</th>  <th>[0.025</th>    <th>0.975]</th>  \n",
              "</tr>\n",
              "<tr>\n",
              "  <th>const</th>         <td>    0.0189</td> <td>    0.013</td> <td>    1.410</td> <td> 0.158</td> <td>   -0.007</td> <td>    0.045</td>\n",
              "</tr>\n",
              "<tr>\n",
              "  <th>ar.L1.returns</th> <td>    0.6169</td> <td>    0.100</td> <td>    6.191</td> <td> 0.000</td> <td>    0.422</td> <td>    0.812</td>\n",
              "</tr>\n",
              "<tr>\n",
              "  <th>ma.L1.returns</th> <td>   -0.6471</td> <td>    0.100</td> <td>   -6.496</td> <td> 0.000</td> <td>   -0.842</td> <td>   -0.452</td>\n",
              "</tr>\n",
              "<tr>\n",
              "  <th>ma.L2.returns</th> <td>   -0.0422</td> <td>    0.017</td> <td>   -2.545</td> <td> 0.011</td> <td>   -0.075</td> <td>   -0.010</td>\n",
              "</tr>\n",
              "</table>\n",
              "<table class=\"simpletable\">\n",
              "<caption>Roots</caption>\n",
              "<tr>\n",
              "    <td></td>   <th>            Real</th>  <th>         Imaginary</th> <th>         Modulus</th>  <th>        Frequency</th>\n",
              "</tr>\n",
              "<tr>\n",
              "  <th>AR.1</th> <td>           1.6210</td> <td>          +0.0000j</td> <td>           1.6210</td> <td>           0.0000</td>\n",
              "</tr>\n",
              "<tr>\n",
              "  <th>MA.1</th> <td>           1.4150</td> <td>          +0.0000j</td> <td>           1.4150</td> <td>           0.0000</td>\n",
              "</tr>\n",
              "<tr>\n",
              "  <th>MA.2</th> <td>         -16.7598</td> <td>          +0.0000j</td> <td>          16.7598</td> <td>           0.5000</td>\n",
              "</tr>\n",
              "</table>"
            ],
            "text/plain": [
              "<class 'statsmodels.iolib.summary.Summary'>\n",
              "\"\"\"\n",
              "                              ARMA Model Results                              \n",
              "==============================================================================\n",
              "Dep. Variable:                returns   No. Observations:                 5020\n",
              "Model:                     ARMA(1, 2)   Log Likelihood               -7913.670\n",
              "Method:                       css-mle   S.D. of innovations              1.171\n",
              "Date:                Sun, 15 Mar 2020   AIC                          15837.341\n",
              "Time:                        02:55:56   BIC                          15869.947\n",
              "Sample:                    01-10-1994   HQIC                         15848.766\n",
              "                         - 04-05-2013                                         \n",
              "=================================================================================\n",
              "                    coef    std err          z      P>|z|      [0.025      0.975]\n",
              "---------------------------------------------------------------------------------\n",
              "const             0.0189      0.013      1.410      0.158      -0.007       0.045\n",
              "ar.L1.returns     0.6169      0.100      6.191      0.000       0.422       0.812\n",
              "ma.L1.returns    -0.6471      0.100     -6.496      0.000      -0.842      -0.452\n",
              "ma.L2.returns    -0.0422      0.017     -2.545      0.011      -0.075      -0.010\n",
              "                                    Roots                                    \n",
              "=============================================================================\n",
              "                  Real          Imaginary           Modulus         Frequency\n",
              "-----------------------------------------------------------------------------\n",
              "AR.1            1.6210           +0.0000j            1.6210            0.0000\n",
              "MA.1            1.4150           +0.0000j            1.4150            0.0000\n",
              "MA.2          -16.7598           +0.0000j           16.7598            0.5000\n",
              "-----------------------------------------------------------------------------\n",
              "\"\"\""
            ]
          },
          "metadata": {
            "tags": []
          },
          "execution_count": 25
        }
      ]
    },
    {
      "cell_type": "code",
      "metadata": {
        "id": "AjFolMgAHo7b",
        "colab_type": "code",
        "colab": {
          "base_uri": "https://localhost:8080/",
          "height": 145
        },
        "outputId": "25238dca-0fa8-4e21-8652-a16ad33049d0"
      },
      "source": [
        "df[\"res_ret_ar_3_ma_2\"] = results_ret_ar_3_ma_2.resid[1:]"
      ],
      "execution_count": 27,
      "outputs": [
        {
          "output_type": "stream",
          "text": [
            "/usr/local/lib/python3.6/dist-packages/ipykernel_launcher.py:1: SettingWithCopyWarning: \n",
            "A value is trying to be set on a copy of a slice from a DataFrame.\n",
            "Try using .loc[row_indexer,col_indexer] = value instead\n",
            "\n",
            "See the caveats in the documentation: http://pandas.pydata.org/pandas-docs/stable/user_guide/indexing.html#returning-a-view-versus-a-copy\n",
            "  \"\"\"Entry point for launching an IPython kernel.\n"
          ],
          "name": "stderr"
        }
      ]
    },
    {
      "cell_type": "code",
      "metadata": {
        "id": "N6BJp35iI1jX",
        "colab_type": "code",
        "colab": {
          "base_uri": "https://localhost:8080/",
          "height": 384
        },
        "outputId": "9f3e27d6-ec23-404b-ecba-738227278bb5"
      },
      "source": [
        "df.res_ret_ar_3_ma_2[1:].plot(figsize=(20, 5))\n",
        "plt.title(\"Residuals of Returns\", size=24)\n",
        "plt.show()"
      ],
      "execution_count": 28,
      "outputs": [
        {
          "output_type": "display_data",
          "data": {
            "image/png": "[encoded data removed]",
            "text/plain": [
              "<Figure size 1440x360 with 1 Axes>"
            ]
          },
          "metadata": {
            "tags": []
          }
        }
      ]
    },
    {
      "cell_type": "code",
      "metadata": {
        "id": "5WpmPHWvI68n",
        "colab_type": "code",
        "colab": {
          "base_uri": "https://localhost:8080/",
          "height": 289
        },
        "outputId": "3d1dd52e-2d4b-49c6-c89c-fbb33c0dee12"
      },
      "source": [
        "sgt.plot_acf(df.res_ret_ar_3_ma_2[2:], zero=False, lags=40)\n",
        "plt.title(\"ACF of Residuals for Returns\", size=20)\n",
        "plt.show()"
      ],
      "execution_count": 29,
      "outputs": [
        {
          "output_type": "display_data",
          "data": {
            "image/png": "[encoded data removed]",
            "text/plain": [
              "<Figure size 432x288 with 1 Axes>"
            ]
          },
          "metadata": {
            "tags": []
          }
        }
      ]
    },
    {
      "cell_type": "code",
      "metadata": {
        "id": "Ilpo9OxEJKCb",
        "colab_type": "code",
        "colab": {}
      },
      "source": [
        ""
      ],
      "execution_count": 0,
      "outputs": []
    }
  ]
}