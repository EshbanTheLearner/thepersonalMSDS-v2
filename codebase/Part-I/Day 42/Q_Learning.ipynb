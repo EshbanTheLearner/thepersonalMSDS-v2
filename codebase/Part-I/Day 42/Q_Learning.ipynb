{
  "nbformat": 4,
  "nbformat_minor": 0,
  "metadata": {
    "colab": {
      "name": "Q_Learning.ipynb",
      "provenance": [],
      "collapsed_sections": []
    },
    "kernelspec": {
      "name": "python3",
      "display_name": "Python 3"
    }
  },
  "cells": [
    {
      "cell_type": "code",
      "metadata": {
        "id": "3kHhHuOB1p9X",
        "colab_type": "code",
        "colab": {}
      },
      "source": [
        "import numpy as np"
      ],
      "execution_count": 0,
      "outputs": []
    },
    {
      "cell_type": "code",
      "metadata": {
        "id": "9bDwtdNs17x1",
        "colab_type": "code",
        "colab": {}
      },
      "source": [
        "gamma = 0.75\n",
        "alpha = 0.9"
      ],
      "execution_count": 0,
      "outputs": []
    },
    {
      "cell_type": "code",
      "metadata": {
        "id": "72pqkbsE3WAh",
        "colab_type": "code",
        "colab": {}
      },
      "source": [
        "location_to_state = {\n",
        "    \"A\": 0,\n",
        "    \"B\": 1,\n",
        "    \"C\": 2,\n",
        "    \"D\": 3,\n",
        "    \"E\": 4,\n",
        "    \"F\": 5,\n",
        "    \"G\": 6,\n",
        "    \"H\": 7,\n",
        "    \"I\": 8,\n",
        "    \"J\": 9,\n",
        "    \"K\": 10,\n",
        "    \"L\": 11\n",
        "}"
      ],
      "execution_count": 0,
      "outputs": []
    },
    {
      "cell_type": "code",
      "metadata": {
        "id": "bKVNmTIH3tST",
        "colab_type": "code",
        "colab": {}
      },
      "source": [
        "actions = [0,1,2,3,4,5,6,7,8,9,10,11]"
      ],
      "execution_count": 0,
      "outputs": []
    },
    {
      "cell_type": "code",
      "metadata": {
        "id": "7wpzRLQq33CL",
        "colab_type": "code",
        "colab": {}
      },
      "source": [
        "R = np.array([\n",
        "              [0,1,0,0,0,0,0,0,0,0,0,0],\n",
        "              [1,0,1,0,0,1,0,0,0,0,0,0],\n",
        "              [0,1,0,0,0,0,1,0,0,0,0,0],\n",
        "              [0,0,0,0,0,0,0,1,0,0,0,0],\n",
        "              [0,0,0,0,0,0,0,0,1,0,0,0],\n",
        "              [0,1,0,0,0,0,0,0,0,1,0,0],\n",
        "              [0,0,1,0,0,0,1,1,0,0,0,0],\n",
        "              [0,0,0,1,0,0,1,0,0,0,0,1],\n",
        "              [0,0,0,0,1,0,0,0,0,1,0,0],\n",
        "              [0,0,0,0,0,1,0,0,1,0,1,0],\n",
        "              [0,0,0,0,0,0,0,0,0,1,0,1],\n",
        "              [0,0,0,0,0,0,0,1,0,0,1,0]\n",
        "])"
      ],
      "execution_count": 0,
      "outputs": []
    },
    {
      "cell_type": "code",
      "metadata": {
        "id": "0tubtk93_u4B",
        "colab_type": "code",
        "colab": {}
      },
      "source": [
        "state_to_location = {state: location for location, state in location_to_state.items()}"
      ],
      "execution_count": 0,
      "outputs": []
    },
    {
      "cell_type": "code",
      "metadata": {
        "id": "op6pcigaAFFN",
        "colab_type": "code",
        "colab": {
          "base_uri": "https://localhost:8080/",
          "height": 55
        },
        "outputId": "9e8ae1c2-79d3-4f6d-ae29-2c952202e8f3"
      },
      "source": [
        "print(state_to_location)"
      ],
      "execution_count": 7,
      "outputs": [
        {
          "output_type": "stream",
          "text": [
            "{0: 'A', 1: 'B', 2: 'C', 3: 'D', 4: 'E', 5: 'F', 6: 'G', 7: 'H', 8: 'I', 9: 'J', 10: 'K', 11: 'L'}\n"
          ],
          "name": "stdout"
        }
      ]
    },
    {
      "cell_type": "code",
      "metadata": {
        "id": "a9kNUKvw-GmN",
        "colab_type": "code",
        "colab": {}
      },
      "source": [
        "def route(starting_location, ending_location):\n",
        "  R_new = np.copy(R)\n",
        "  ending_state = location_to_state[ending_location]\n",
        "  R_new[ending_state, ending_state] = 1000\n",
        "  Q = np.array(np.zeros([12,12]))\n",
        "  for i in range(1000):\n",
        "    current_state = np.random.randint(0,12)\n",
        "    playable_actions = []\n",
        "    for j in range(12):\n",
        "      if R_new[current_state, j] > 0:\n",
        "        playable_actions.append(j)\n",
        "    next_state = np.random.choice(playable_actions)\n",
        "    TD = R_new[current_state, next_state] + gamma * Q[next_state, np.argmax(Q[next_state, ])] - Q[current_state, next_state]\n",
        "    Q[current_state, next_state] = Q[current_state, next_state] + alpha * TD\n",
        "  route = [starting_location]\n",
        "  next_location = starting_location\n",
        "  while(next_location != ending_location):\n",
        "    starting_state = location_to_state[starting_location]\n",
        "    next_state = np.argmax(Q[starting_state,])\n",
        "    next_location = state_to_location[next_state]\n",
        "    route.append(next_location)\n",
        "    starting_location = next_location\n",
        "  return route"
      ],
      "execution_count": 0,
      "outputs": []
    },
    {
      "cell_type": "code",
      "metadata": {
        "id": "51h95SF-Axjy",
        "colab_type": "code",
        "colab": {
          "base_uri": "https://localhost:8080/",
          "height": 35
        },
        "outputId": "231969a6-16df-4459-df2b-bc9d56c55bb3"
      },
      "source": [
        "print(\" -> \".join(route(\"E\", \"G\")))"
      ],
      "execution_count": 9,
      "outputs": [
        {
          "output_type": "stream",
          "text": [
            "E -> I -> J -> K -> L -> H -> G\n"
          ],
          "name": "stdout"
        }
      ]
    },
    {
      "cell_type": "code",
      "metadata": {
        "id": "DNOof2KNGflW",
        "colab_type": "code",
        "colab": {}
      },
      "source": [
        "def best_route(starting_location, intermediary_location, ending_location):\n",
        "  return route(starting_location, intermediary_location) + route(intermediary_location, ending_location)[1:]"
      ],
      "execution_count": 0,
      "outputs": []
    },
    {
      "cell_type": "code",
      "metadata": {
        "id": "m2CkqKWpBJcO",
        "colab_type": "code",
        "colab": {
          "base_uri": "https://localhost:8080/",
          "height": 35
        },
        "outputId": "227a4ff7-2b83-4bce-a6e0-67e43836571e"
      },
      "source": [
        "print(\" -> \".join(best_route(\"E\", \"F\", \"G\")))"
      ],
      "execution_count": 12,
      "outputs": [
        {
          "output_type": "stream",
          "text": [
            "E -> I -> J -> F -> B -> C -> G\n"
          ],
          "name": "stdout"
        }
      ]
    },
    {
      "cell_type": "code",
      "metadata": {
        "id": "zSaiAzFkG4Kt",
        "colab_type": "code",
        "colab": {}
      },
      "source": [
        ""
      ],
      "execution_count": 0,
      "outputs": []
    }
  ]
}